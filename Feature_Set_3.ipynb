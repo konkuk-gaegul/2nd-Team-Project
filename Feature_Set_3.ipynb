{
  "nbformat": 4,
  "nbformat_minor": 0,
  "metadata": {
    "colab": {
      "name": "Feature_Set_3.ipynb",
      "provenance": [],
      "collapsed_sections": [
        "2CaK4HvEGNaf"
      ],
      "toc_visible": true,
      "authorship_tag": "ABX9TyNsW+dW5JGq5a4j6QWuiCWr",
      "include_colab_link": true
    },
    "kernelspec": {
      "name": "python3",
      "display_name": "Python 3"
    },
    "language_info": {
      "name": "python"
    }
  },
  "cells": [
    {
      "cell_type": "markdown",
      "metadata": {
        "id": "view-in-github",
        "colab_type": "text"
      },
      "source": [
        "<a href=\"https://colab.research.google.com/github/konkuk-gaegul/2nd-Team-Project/blob/main/Feature_Set_3.ipynb\" target=\"_parent\"><img src=\"https://colab.research.google.com/assets/colab-badge.svg\" alt=\"Open In Colab\"/></a>"
      ]
    },
    {
      "cell_type": "code",
      "source": [
        "from google.colab import drive\n",
        "drive.mount('/content/drive')"
      ],
      "metadata": {
        "colab": {
          "base_uri": "https://localhost:8080/"
        },
        "id": "4IYXberPgbW3",
        "outputId": "8ff7b8d7-1d6b-40d3-d173-c2b38e1f664f"
      },
      "execution_count": null,
      "outputs": [
        {
          "output_type": "stream",
          "name": "stdout",
          "text": [
            "Mounted at /content/drive\n"
          ]
        }
      ]
    },
    {
      "cell_type": "markdown",
      "source": [
        "# 라이브러리"
      ],
      "metadata": {
        "id": "2CaK4HvEGNaf"
      }
    },
    {
      "cell_type": "code",
      "source": [
        "import numpy as np\n",
        "import pandas as pd\n",
        "import seaborn as sns\n",
        "import matplotlib.pyplot as plt\n",
        "import warnings, random\n",
        "warnings.filterwarnings(action='ignore')\n",
        "\n",
        "from sklearn.metrics import log_loss\n",
        "from sklearn.preprocessing import StandardScaler\n",
        "from category_encoders.ordinal import OrdinalEncoder\n",
        "from sklearn.model_selection import StratifiedKFold\n",
        "\n",
        "from sklearn.cluster import KMeans\n",
        "from catboost import CatBoostClassifier, Pool"
      ],
      "metadata": {
        "id": "zJ1-aN9wU9LG"
      },
      "execution_count": null,
      "outputs": []
    },
    {
      "cell_type": "code",
      "source": [
        "%tensorflow_version 2.x\n",
        "import tensorflow as tf\n",
        "print(\"Tensorflow version \" + tf.__version__)\n",
        "\n",
        "try:\n",
        "  tpu = tf.distribute.cluster_resolver.TPUClusterResolver()  # TPU detection\n",
        "  print('Running on TPU ', tpu.cluster_spec().as_dict()['worker'])\n",
        "except ValueError:\n",
        "  raise BaseException('ERROR: Not connected to a TPU runtime; please see the previous cell in this notebook for instructions!')\n",
        "\n",
        "tf.config.experimental_connect_to_cluster(tpu)\n",
        "tf.tpu.experimental.initialize_tpu_system(tpu)\n",
        "tpu_strategy = tf.distribute.experimental.TPUStrategy(tpu)"
      ],
      "metadata": {
        "id": "6tVpy-z1r2sf"
      },
      "execution_count": null,
      "outputs": []
    },
    {
      "cell_type": "code",
      "execution_count": null,
      "metadata": {
        "id": "_9jdyBLoF6XZ"
      },
      "outputs": [],
      "source": [
        "!pip install lightgbm\n",
        "!pip install xgboost\n",
        "!pip install eli5 shap catboost\n",
        "!pip install category_encoders"
      ]
    },
    {
      "cell_type": "code",
      "source": [
        "import tensorflow as tf\n",
        "\n",
        "from lightgbm import LGBMClassifier\n",
        "from sklearn.preprocessing import OneHotEncoder, OrdinalEncoder\n",
        "from sklearn.model_selection import cross_validate\n",
        "\n",
        "import warnings\n",
        "warnings.filterwarnings('always')\n",
        "warnings.filterwarnings('ignore')\n",
        "\n",
        "import numpy as np\n",
        "import pandas as pd\n",
        "\n",
        "import matplotlib.pyplot as plt\n",
        "import seaborn as sns\n",
        "\n",
        "from sklearn import datasets\n",
        "\n",
        "# ML\n",
        "from sklearn.svm import SVC, SVR\n",
        "from sklearn.neighbors import KNeighborsClassifier, KNeighborsRegressor\n",
        "from sklearn.linear_model import LinearRegression, LogisticRegression\n",
        "from sklearn.tree import DecisionTreeClassifier, DecisionTreeRegressor\n",
        "\n",
        "# ensemble(bagging)\n",
        "from sklearn.ensemble import ( \n",
        "  BaggingClassifier, BaggingRegressor, RandomForestClassifier, RandomForestRegressor\n",
        ")\n",
        "\n",
        "#ensemble(boosting)\n",
        "import xgboost as xgb\n",
        "import lightgbm as lgb\n",
        "import catboost as cb\n",
        "\n",
        "#stacking\n",
        "from sklearn.pipeline import make_pipeline\n",
        "from sklearn.ensemble import StackingClassifier, StackingRegressor\n",
        "\n",
        "# 평가\n",
        "from sklearn.metrics import r2_score, mean_absolute_error, mean_squared_error\n",
        "from sklearn.metrics import accuracy_score, f1_score, roc_auc_score, roc_curve, classification_report\n",
        "\n",
        "# 교차검증\n",
        "from sklearn.model_selection import (\n",
        "  KFold, StratifiedKFold, RepeatedStratifiedKFold, cross_val_score, GridSearchCV, train_test_split\n",
        ")\n",
        "\n",
        "# Feature Selection\n",
        "from sklearn.feature_selection import RFE, RFECV\n",
        "\n",
        "# 시각화(SVM은 회귀계수가 나오지 않습니다.)\n",
        "import eli5\n",
        "from eli5.sklearn import PermutationImportance\n",
        "import shap\n",
        "\n",
        "# 트리 시각화\n",
        "import graphviz\n",
        "\n",
        "# 인코딩\n",
        "from category_encoders.ordinal import OrdinalEncoder\n",
        "from sklearn.preprocessing import LabelEncoder"
      ],
      "metadata": {
        "id": "1ILqmSmCGBJW"
      },
      "execution_count": null,
      "outputs": []
    },
    {
      "cell_type": "markdown",
      "source": [
        "# feature_set - 3"
      ],
      "metadata": {
        "id": "5Cqo43eEhbir"
      }
    },
    {
      "cell_type": "code",
      "source": [
        "train_path = '/content/drive/MyDrive/data/credit/rawData/train.csv'\n",
        "test_path = '/content/drive/MyDrive/data/credit/rawData/test.csv'"
      ],
      "metadata": {
        "id": "ESBvgw_rhdqs"
      },
      "execution_count": null,
      "outputs": []
    },
    {
      "cell_type": "markdown",
      "source": [
        "# 정리\n",
        "- feature set 2 전처리 경우는 사용자의 능력 및 가정환경에 집중했다.\n",
        "- 이번 feature set 3 전처리는 EDA를 통해 다른 관점으로 바라보았다.\n",
        "    - 첫 째, 나이대(DAYS_BIRTH, DAYS_EMPLOYED 등)에 따라 타겟변수의 분포가 적은 것을 확인했다.\n",
        "    - 둘 째, 소득(income_total) 또한 분포가 적은 것을 확인하고, 가중치를 부여했다.\n",
        "        - 제곱, 로그\n",
        "        - 파생변수\n",
        "- 파생변수 다수 생성 및 구간화 적용"
      ],
      "metadata": {
        "id": "7U_JVuMCHNAg"
      }
    },
    {
      "cell_type": "markdown",
      "source": [
        "# EDA\n",
        "- 자료의 분포\n",
        "- Numerical EDA"
      ],
      "metadata": {
        "id": "FlGv7mSOjzex"
      }
    },
    {
      "cell_type": "markdown",
      "source": [
        "## 자료의 분포\n",
        "- 0.9 이상을 높은 연관성을 갖는다고 간주\n",
        "    - income_total & income_total_log\n",
        "    - DAYS_BIRTH & DAYS_cubic\n",
        "- 연관계수가 높은 변수들은 적당히 변환 및 제거된 듯 하다."
      ],
      "metadata": {
        "id": "fV7r4apOj1mf"
      }
    },
    {
      "cell_type": "code",
      "source": [
        "def makeCorr(x, width=25, height=12):\n",
        "  plt.figure( figsize=(width, height) )\n",
        "  mask = np.zeros_like(x.corr(), dtype=np.bool)\n",
        "  mask[np.triu_indices_from(mask)] = True\n",
        "  sns.heatmap(x.corr(), annot=True, fmt='.2f', mask=mask, cmap='YlOrBr')\n",
        "  plt.show()"
      ],
      "metadata": {
        "id": "AtffUv9xj1EE"
      },
      "execution_count": null,
      "outputs": []
    },
    {
      "cell_type": "code",
      "source": [
        "makeCorr( train.drop(columns=[ 'credit' ,  'car', 'reality', 'gender' ]), width=20, height=10 )"
      ],
      "metadata": {
        "colab": {
          "base_uri": "https://localhost:8080/",
          "height": 489
        },
        "id": "SUTqotp1j4vr",
        "outputId": "0ce2f6b2-a813-43e2-c8a9-f97471583953"
      },
      "execution_count": null,
      "outputs": [
        {
          "output_type": "display_data",
          "data": {
            "image/png": "[encoded data removed]",
            "text/plain": [
              "<Figure size 1440x720 with 2 Axes>"
            ]
          },
          "metadata": {
            "needs_background": "light"
          }
        }
      ]
    },
    {
      "cell_type": "markdown",
      "source": [
        "## 2. Numerical EDA"
      ],
      "metadata": {
        "id": "cK1T-gJy3FmC"
      }
    },
    {
      "cell_type": "code",
      "source": [
        "train_0 = train[ train.credit == 0.0 ]\n",
        "train_1 = train[ train.credit == 1.0 ]\n",
        "train_2 = train[ train.credit == 2.0 ]"
      ],
      "metadata": {
        "id": "Dif7_KJD3Lj5"
      },
      "execution_count": null,
      "outputs": []
    },
    {
      "cell_type": "code",
      "source": [
        "# Numerical 그래프 함수 정의\n",
        "def num_plot(column):\n",
        "  \n",
        "  fig, axes = plt.subplots(1, 3, figsize=(16, 6))\n",
        "\n",
        "\n",
        "  sns.distplot(train_0[column],\n",
        "                ax = axes[0])\n",
        "  axes[0].tick_params(labelsize=12)\n",
        "  axes[0].set_title('credit = 0')\n",
        "  axes[0].set_ylabel('count')\n",
        "\n",
        "  sns.distplot(train_1[column],\n",
        "                ax = axes[1])\n",
        "  axes[1].tick_params(labelsize=12)\n",
        "  axes[1].set_title('credit = 1')\n",
        "  axes[1].set_ylabel('count')\n",
        "\n",
        "  sns.distplot(train_2[column],\n",
        "                ax = axes[2])\n",
        "  axes[2].tick_params(labelsize=12)\n",
        "  axes[2].set_title('credit = 2')\n",
        "  axes[2].set_ylabel('count')\n",
        "    \n",
        "  plt.subplots_adjust(wspace=0.3, hspace=0.3)"
      ],
      "metadata": {
        "id": "q7evgBDIoewo"
      },
      "execution_count": null,
      "outputs": []
    },
    {
      "cell_type": "code",
      "source": [
        "num_plot(\"income_total\")"
      ],
      "metadata": {
        "colab": {
          "base_uri": "https://localhost:8080/",
          "height": 343
        },
        "id": "ZTAQFjW43HsQ",
        "outputId": "12192ba7-7de3-4b4c-e8e1-444f94c0a6ab"
      },
      "execution_count": null,
      "outputs": [
        {
          "output_type": "display_data",
          "data": {
            "image/png": "[encoded data removed]",
            "text/plain": [
              "<Figure size 1152x432 with 3 Axes>"
            ]
          },
          "metadata": {
            "needs_background": "light"
          }
        }
      ]
    },
    {
      "cell_type": "markdown",
      "source": [
        "- 꼬리가 오른쪽으로 긴 분포\n",
        "- 타겟 변수별로 분산이 적은 모양을 띈다.\n",
        "- income_total에 가중치를 줘야겠다\n",
        "    - 제곱\n",
        "    - 다른 변수와의 파생변수 등"
      ],
      "metadata": {
        "id": "8b1zlb2b39O5"
      }
    },
    {
      "cell_type": "code",
      "source": [
        "num_plot('DAYS_BIRTH')"
      ],
      "metadata": {
        "colab": {
          "base_uri": "https://localhost:8080/",
          "height": 335
        },
        "id": "x5Cmqnq74H0m",
        "outputId": "77a11c53-fb53-45b2-b681-db18b35108df"
      },
      "execution_count": null,
      "outputs": [
        {
          "output_type": "display_data",
          "data": {
            "image/png": "[encoded data removed]",
            "text/plain": [
              "<Figure size 1152x432 with 3 Axes>"
            ]
          },
          "metadata": {
            "needs_background": "light"
          }
        }
      ]
    },
    {
      "cell_type": "code",
      "source": [
        "num_plot('income_type')"
      ],
      "metadata": {
        "colab": {
          "base_uri": "https://localhost:8080/",
          "height": 346
        },
        "id": "ACVZ0t-hL8Yg",
        "outputId": "67bf65b8-4cfb-4ff7-b47a-4ad281da4055"
      },
      "execution_count": null,
      "outputs": [
        {
          "output_type": "display_data",
          "data": {
            "image/png": "[encoded data removed]",
            "text/plain": [
              "<Figure size 1152x432 with 3 Axes>"
            ]
          },
          "metadata": {
            "needs_background": "light"
          }
        }
      ]
    },
    {
      "cell_type": "markdown",
      "source": [
        "# 전처리"
      ],
      "metadata": {
        "id": "y-SZQt5VeaVo"
      }
    },
    {
      "cell_type": "markdown",
      "source": [
        "## 전처리에 이용되는 함수"
      ],
      "metadata": {
        "id": "oPCCdrETHObS"
      }
    },
    {
      "cell_type": "code",
      "source": [
        "# day를 year로 변경해주는 함수\n",
        "def days_to_year(x):\n",
        "    return (x*-1)/365\n",
        "\n",
        "# 마이너스 변환\n",
        "def minus(x):\n",
        "    return x * -1"
      ],
      "metadata": {
        "id": "y6pyJdodHN-c"
      },
      "execution_count": null,
      "outputs": []
    },
    {
      "cell_type": "markdown",
      "source": [
        "## 파생변수, 가중치, 전처리"
      ],
      "metadata": {
        "id": "JFbFodJeUcIC"
      }
    },
    {
      "cell_type": "code",
      "source": [
        "train = pd.read_csv(train_path)\n",
        "test = pd.read_csv(test_path)\n",
        "def numeric(df):\n",
        "\n",
        "# 1. 의미없는 변수 제거 : index, FLAG_MOBIL, child_num\n",
        "    df.drop(['index', 'FLAG_MOBIL', 'child_num'], axis=1, inplace = True)\n",
        "\n",
        "# 2. 이상치 처리\n",
        "    # 가족수 9명 이상, 6개 자료 삭제 및 인덱스 재설정 \n",
        "    df = df[ ( df['family_size'] <= 7 ) ]\n",
        "    df = df.reset_index(drop=True)\n",
        "\n",
        "# 3. 결측치 처리\n",
        "    # 첫 째, 결측치 & 근무일이 양수 & 연금수령자 인 경우 retiree(퇴직자)\n",
        "    # 둘 째, 결측치 & 근무일이 음수인 경우 다양한 income_type 분포로 인해 No response처리\n",
        "    df.loc[ (df.occyp_type.isna() == True) & (df.DAYS_EMPLOYED > 0) & (df.income_type == 'Pensioner') , 'occyp_type' ] = 'retiree'\n",
        "    df['DAYS_EMPLOYED'] = df[ 'DAYS_EMPLOYED' ].map(lambda x: 0 if x>0 else x)\n",
        "    df.occyp_type.fillna('No response', inplace=True) \n",
        "\n",
        "# 4. log 사용\n",
        "    # 음수자료를 양수로 변환\n",
        "    feats = ['DAYS_BIRTH', 'begin_month', 'DAYS_EMPLOYED']\n",
        "    for feat in feats:\n",
        "        df[feat] = np.abs(df[feat])\n",
        "        \n",
        "    # df['income_total'] = np.log1p(1+df['income_total'])\n",
        "    # df['DAYS_EMPLOYED'] = np.log1p(1+df['DAYS_EMPLOYED'])\n",
        "    # df['DAYS_BIRTH'] = np.log1p(1+df['DAYS_BIRTH'])\n",
        "    # df['begin_month'] = np.log1p(1+df['begin_month'])\n",
        "\n",
        "# 5. 새로운 변수 ID열 생성 : 한 사람이 다수의 카드를 발급 받았을 경우\n",
        "    df['ID'] = \\\n",
        "    df['income_total'].astype(str) + '_' +\\\n",
        "    df['DAYS_BIRTH'].astype(str) + '_' + df['DAYS_EMPLOYED'].astype(str) + '_' +\\\n",
        "    df['work_phone'].astype(str) + '_' + df['phone'].astype(str) + '_' +\\\n",
        "    df['email'].astype(str) + '_' + df['family_size'].astype(str) + '_' +\\\n",
        "    df['gender'].astype(str) + '_' + df['car'].astype(str) + '_' +\\\n",
        "    df['reality'].astype(str) + '_' + df['income_type'].astype(str) + '_' +\\\n",
        "    df['edu_type'].astype(str) + '_' + df['family_type'].astype(str) + '_' +\\\n",
        "    df['house_type'].astype(str) + '_' + df['occyp_type'].astype(str)\n",
        "\n",
        "# 6. 라벨 인코딩 (categorical 변수를 numerical로 변환!!)\n",
        "    df['gender']=LabelEncoder().fit_transform(df.gender)\n",
        "    df['car']=LabelEncoder().fit_transform(df.car)\n",
        "    df['reality']=LabelEncoder().fit_transform(df.reality)\n",
        "    df['income_type']=LabelEncoder().fit_transform(df.income_type)\n",
        "    df['edu_type']=LabelEncoder().fit_transform(df.edu_type)\n",
        "    df['family_type']=LabelEncoder().fit_transform(df.family_type)\n",
        "    df['house_type']=LabelEncoder().fit_transform(df.house_type)\n",
        "    df['occyp_type']=LabelEncoder().fit_transform(df.occyp_type)\n",
        "\n",
        "# 7. income_total 가중치 (numerical EDA 참조)\n",
        "    df['income_weight']=df.income_total**2\n",
        "    df['income_age']=df.income_total*df.DAYS_BIRTH\n",
        "    df['income_emp']=df.income_total*df.DAYS_EMPLOYED\n",
        "    df['income_total'] = df['income_total']/10000\n",
        "    df['income_total_dev'] = (df['income_total'] - df['income_total'].mean())**2 # 편차제곱\n",
        "    df['income_total_log'] = df['income_total'].apply(np.log1p)                  # 로그변환\n",
        "\n",
        "# 8. DAYS_EMPLOYED 가중치\n",
        "    df['DAYS_EMPLOYED_log'] = df['DAYS_EMPLOYED'].apply(np.log1p) # 로그 변환\n",
        "    df['DAYS_EMPLOYED_before'] = df['DAYS_BIRTH'] - df['DAYS_EMPLOYED'] # 로그 변환\n",
        "    # df['DAYS_EMPLOYED'] = df['DAYS_EMPLOYED'].apply(days_to_year) # days를 years로 변환\n",
        "    \n",
        "# 9. type 변환\n",
        "    df.income_total = df.income_total.astype(int)\n",
        "    df.family_size = df.family_size.astype(int)\n",
        "    df.begin_month = df.begin_month.astype(int)\n",
        "\n",
        "# 10. 파생변수\n",
        "    df['income_weight'] = 1/(df.income_weight)**3\n",
        "    df['DAYS_BIRTH_cubic'] = df.DAYS_BIRTH**3\n",
        "    df['DAYS_BIRTH_weight'] = 1/(df.DAYS_BIRTH)**2\n",
        "    df['income_family'] = df.income_total / df.family_size\n",
        "    return df\n",
        "# ------------------------------------------------------------------- #"
      ],
      "metadata": {
        "id": "FG9JnkAGiW4s"
      },
      "execution_count": null,
      "outputs": []
    },
    {
      "cell_type": "code",
      "source": [
        "train = numeric(train)\n",
        "test  = numeric(test)"
      ],
      "metadata": {
        "id": "AxEKKDcYcp6Z"
      },
      "execution_count": null,
      "outputs": []
    },
    {
      "cell_type": "code",
      "source": [
        "train.head(2)"
      ],
      "metadata": {
        "colab": {
          "base_uri": "https://localhost:8080/",
          "height": 206
        },
        "id": "UDWTvaYJeCii",
        "outputId": "95011087-d699-44c7-d0b6-cfeb43136352"
      },
      "execution_count": null,
      "outputs": [
        {
          "output_type": "execute_result",
          "data": {
            "text/html": [
              "\n",
              "  <div id=\"df-26075bd2-f075-4f47-b4d1-abf9925a9b78\">\n",
              "    <div class=\"colab-df-container\">\n",
              "      <div>\n",
              "<style scoped>\n",
              "    .dataframe tbody tr th:only-of-type {\n",
              "        vertical-align: middle;\n",
              "    }\n",
              "\n",
              "    .dataframe tbody tr th {\n",
              "        vertical-align: top;\n",
              "    }\n",
              "\n",
              "    .dataframe thead th {\n",
              "        text-align: right;\n",
              "    }\n",
              "</style>\n",
              "<table border=\"1\" class=\"dataframe\">\n",
              "  <thead>\n",
              "    <tr style=\"text-align: right;\">\n",
              "      <th></th>\n",
              "      <th>gender</th>\n",
              "      <th>car</th>\n",
              "      <th>reality</th>\n",
              "      <th>income_total</th>\n",
              "      <th>income_type</th>\n",
              "      <th>edu_type</th>\n",
              "      <th>family_type</th>\n",
              "      <th>house_type</th>\n",
              "      <th>DAYS_BIRTH</th>\n",
              "      <th>DAYS_EMPLOYED</th>\n",
              "      <th>...</th>\n",
              "      <th>income_weight</th>\n",
              "      <th>income_age</th>\n",
              "      <th>income_emp</th>\n",
              "      <th>income_total_dev</th>\n",
              "      <th>income_total_log</th>\n",
              "      <th>DAYS_EMPLOYED_log</th>\n",
              "      <th>DAYS_EMPLOYED_before</th>\n",
              "      <th>DAYS_BIRTH_cubic</th>\n",
              "      <th>DAYS_BIRTH_weight</th>\n",
              "      <th>income_family</th>\n",
              "    </tr>\n",
              "  </thead>\n",
              "  <tbody>\n",
              "    <tr>\n",
              "      <th>0</th>\n",
              "      <td>0</td>\n",
              "      <td>0</td>\n",
              "      <td>0</td>\n",
              "      <td>20</td>\n",
              "      <td>0</td>\n",
              "      <td>1</td>\n",
              "      <td>1</td>\n",
              "      <td>2</td>\n",
              "      <td>13899</td>\n",
              "      <td>4709</td>\n",
              "      <td>...</td>\n",
              "      <td>1.450273e-32</td>\n",
              "      <td>2.814548e+09</td>\n",
              "      <td>953572500.0</td>\n",
              "      <td>2.308172</td>\n",
              "      <td>3.056357</td>\n",
              "      <td>8.457443</td>\n",
              "      <td>9190</td>\n",
              "      <td>2685039411699</td>\n",
              "      <td>5.176460e-09</td>\n",
              "      <td>10.0</td>\n",
              "    </tr>\n",
              "    <tr>\n",
              "      <th>1</th>\n",
              "      <td>0</td>\n",
              "      <td>0</td>\n",
              "      <td>1</td>\n",
              "      <td>24</td>\n",
              "      <td>0</td>\n",
              "      <td>4</td>\n",
              "      <td>0</td>\n",
              "      <td>1</td>\n",
              "      <td>11380</td>\n",
              "      <td>1540</td>\n",
              "      <td>...</td>\n",
              "      <td>4.350596e-33</td>\n",
              "      <td>2.816550e+09</td>\n",
              "      <td>381150000.0</td>\n",
              "      <td>36.231574</td>\n",
              "      <td>3.248435</td>\n",
              "      <td>7.340187</td>\n",
              "      <td>9840</td>\n",
              "      <td>1473760072000</td>\n",
              "      <td>7.721745e-09</td>\n",
              "      <td>8.0</td>\n",
              "    </tr>\n",
              "  </tbody>\n",
              "</table>\n",
              "<p>2 rows × 28 columns</p>\n",
              "</div>\n",
              "      <button class=\"colab-df-convert\" onclick=\"convertToInteractive('df-26075bd2-f075-4f47-b4d1-abf9925a9b78')\"\n",
              "              title=\"Convert this dataframe to an interactive table.\"\n",
              "              style=\"display:none;\">\n",
              "        \n",
              "  <svg xmlns=\"http://www.w3.org/2000/svg\" height=\"24px\"viewBox=\"0 0 24 24\"\n",
              "       width=\"24px\">\n",
              "    <path d=\"M0 0h24v24H0V0z\" fill=\"none\"/>\n",
              "    <path d=\"M18.56 5.44l.94 2.06.94-2.06 2.06-.94-2.06-.94-.94-2.06-.94 2.06-2.06.94zm-11 1L8.5 8.5l.94-2.06 2.06-.94-2.06-.94L8.5 2.5l-.94 2.06-2.06.94zm10 10l.94 2.06.94-2.06 2.06-.94-2.06-.94-.94-2.06-.94 2.06-2.06.94z\"/><path d=\"M17.41 7.96l-1.37-1.37c-.4-.4-.92-.59-1.43-.59-.52 0-1.04.2-1.43.59L10.3 9.45l-7.72 7.72c-.78.78-.78 2.05 0 2.83L4 21.41c.39.39.9.59 1.41.59.51 0 1.02-.2 1.41-.59l7.78-7.78 2.81-2.81c.8-.78.8-2.07 0-2.86zM5.41 20L4 18.59l7.72-7.72 1.47 1.35L5.41 20z\"/>\n",
              "  </svg>\n",
              "      </button>\n",
              "      \n",
              "  <style>\n",
              "    .colab-df-container {\n",
              "      display:flex;\n",
              "      flex-wrap:wrap;\n",
              "      gap: 12px;\n",
              "    }\n",
              "\n",
              "    .colab-df-convert {\n",
              "      background-color: #E8F0FE;\n",
              "      border: none;\n",
              "      border-radius: 50%;\n",
              "      cursor: pointer;\n",
              "      display: none;\n",
              "      fill: #1967D2;\n",
              "      height: 32px;\n",
              "      padding: 0 0 0 0;\n",
              "      width: 32px;\n",
              "    }\n",
              "\n",
              "    .colab-df-convert:hover {\n",
              "      background-color: #E2EBFA;\n",
              "      box-shadow: 0px 1px 2px rgba(60, 64, 67, 0.3), 0px 1px 3px 1px rgba(60, 64, 67, 0.15);\n",
              "      fill: #174EA6;\n",
              "    }\n",
              "\n",
              "    [theme=dark] .colab-df-convert {\n",
              "      background-color: #3B4455;\n",
              "      fill: #D2E3FC;\n",
              "    }\n",
              "\n",
              "    [theme=dark] .colab-df-convert:hover {\n",
              "      background-color: #434B5C;\n",
              "      box-shadow: 0px 1px 3px 1px rgba(0, 0, 0, 0.15);\n",
              "      filter: drop-shadow(0px 1px 2px rgba(0, 0, 0, 0.3));\n",
              "      fill: #FFFFFF;\n",
              "    }\n",
              "  </style>\n",
              "\n",
              "      <script>\n",
              "        const buttonEl =\n",
              "          document.querySelector('#df-26075bd2-f075-4f47-b4d1-abf9925a9b78 button.colab-df-convert');\n",
              "        buttonEl.style.display =\n",
              "          google.colab.kernel.accessAllowed ? 'block' : 'none';\n",
              "\n",
              "        async function convertToInteractive(key) {\n",
              "          const element = document.querySelector('#df-26075bd2-f075-4f47-b4d1-abf9925a9b78');\n",
              "          const dataTable =\n",
              "            await google.colab.kernel.invokeFunction('convertToInteractive',\n",
              "                                                     [key], {});\n",
              "          if (!dataTable) return;\n",
              "\n",
              "          const docLinkHtml = 'Like what you see? Visit the ' +\n",
              "            '<a target=\"_blank\" href=https://colab.research.google.com/notebooks/data_table.ipynb>data table notebook</a>'\n",
              "            + ' to learn more about interactive tables.';\n",
              "          element.innerHTML = '';\n",
              "          dataTable['output_type'] = 'display_data';\n",
              "          await google.colab.output.renderOutput(dataTable, element);\n",
              "          const docLink = document.createElement('div');\n",
              "          docLink.innerHTML = docLinkHtml;\n",
              "          element.appendChild(docLink);\n",
              "        }\n",
              "      </script>\n",
              "    </div>\n",
              "  </div>\n",
              "  "
            ],
            "text/plain": [
              "   gender  car  reality  income_total  income_type  edu_type  family_type  \\\n",
              "0       0    0        0            20            0         1            1   \n",
              "1       0    0        1            24            0         4            0   \n",
              "\n",
              "   house_type  DAYS_BIRTH  DAYS_EMPLOYED  ...  income_weight    income_age  \\\n",
              "0           2       13899           4709  ...   1.450273e-32  2.814548e+09   \n",
              "1           1       11380           1540  ...   4.350596e-33  2.816550e+09   \n",
              "\n",
              "    income_emp  income_total_dev  income_total_log  DAYS_EMPLOYED_log  \\\n",
              "0  953572500.0          2.308172          3.056357           8.457443   \n",
              "1  381150000.0         36.231574          3.248435           7.340187   \n",
              "\n",
              "   DAYS_EMPLOYED_before DAYS_BIRTH_cubic  DAYS_BIRTH_weight  income_family  \n",
              "0                  9190    2685039411699       5.176460e-09           10.0  \n",
              "1                  9840    1473760072000       7.721745e-09            8.0  \n",
              "\n",
              "[2 rows x 28 columns]"
            ]
          },
          "metadata": {},
          "execution_count": 8
        }
      ]
    },
    {
      "cell_type": "markdown",
      "source": [
        "## 구간화"
      ],
      "metadata": {
        "id": "b6rJSPqexQe5"
      }
    },
    {
      "cell_type": "code",
      "source": [
        "#구간화 함수\n",
        "def make_bin(df, variable, n):\n",
        "    \n",
        "    data = df\n",
        "    count, bin_dividers = np.histogram(data[variable], bins=n)\n",
        "    bin_names=[str(i) for i in range(n)]\n",
        "    data['%s_bin' % variable] = pd.cut(x=data[variable], bins=bin_dividers, labels=bin_names, include_lowest=True)\n",
        "    data['%s_bin' % variable] = pd.factorize(data['%s_bin' % variable])[0]\n",
        "    print(data['%s_bin' % variable], '\\n\\n')\n",
        "    \n",
        "    return data\n",
        "\n",
        "# days_birth 구간화\n",
        "train = make_bin(train, 'DAYS_BIRTH', n=10)\n",
        "test = make_bin(test, 'DAYS_BIRTH', n=10)\n",
        "\n",
        "# days_employed 구간화\n",
        "train = make_bin(train, 'DAYS_EMPLOYED', n=10)\n",
        "test = make_bin(test, 'DAYS_EMPLOYED', n=10)\n",
        "\n",
        "# catboost는 categorical로 두면 안 됨\n",
        "cat_credit=train.credit.astype('int').copy()\n",
        "train.credit=train.credit.astype('category')"
      ],
      "metadata": {
        "colab": {
          "base_uri": "https://localhost:8080/"
        },
        "id": "Qcu2VZ3VaFVo",
        "outputId": "f02e8ecc-9ae1-4005-9f82-1ad14072e4fa"
      },
      "execution_count": null,
      "outputs": [
        {
          "output_type": "stream",
          "name": "stdout",
          "text": [
            "0        0\n",
            "1        1\n",
            "2        2\n",
            "3        3\n",
            "4        3\n",
            "        ..\n",
            "26446    1\n",
            "26447    3\n",
            "26448    5\n",
            "26449    5\n",
            "26450    2\n",
            "Name: DAYS_BIRTH_bin, Length: 26451, dtype: int64 \n",
            "\n",
            "\n",
            "0       0\n",
            "1       1\n",
            "2       2\n",
            "3       1\n",
            "4       3\n",
            "       ..\n",
            "9995    1\n",
            "9996    8\n",
            "9997    4\n",
            "9998    3\n",
            "9999    9\n",
            "Name: DAYS_BIRTH_bin, Length: 10000, dtype: int64 \n",
            "\n",
            "\n",
            "0        0\n",
            "1        1\n",
            "2        0\n",
            "3        2\n",
            "4        2\n",
            "        ..\n",
            "26446    2\n",
            "26447    2\n",
            "26448    2\n",
            "26449    1\n",
            "26450    1\n",
            "Name: DAYS_EMPLOYED_bin, Length: 26451, dtype: int64 \n",
            "\n",
            "\n",
            "0       0\n",
            "1       1\n",
            "2       0\n",
            "3       2\n",
            "4       1\n",
            "       ..\n",
            "9995    4\n",
            "9996    0\n",
            "9997    8\n",
            "9998    0\n",
            "9999    0\n",
            "Name: DAYS_EMPLOYED_bin, Length: 10000, dtype: int64 \n",
            "\n",
            "\n"
          ]
        }
      ]
    },
    {
      "cell_type": "markdown",
      "source": [
        "## 인코딩"
      ],
      "metadata": {
        "id": "MKxJlbtaeW5t"
      }
    },
    {
      "cell_type": "code",
      "source": [
        "# ID 인코딩\n",
        "numerical_feats = train.dtypes[train.dtypes != \"object\"].index.tolist()\n",
        "numerical_feats.remove('credit')\n",
        "print(\"Number of Numerical features: \", len(numerical_feats))\n",
        "\n",
        "categorical_feats = train.dtypes[train.dtypes == \"object\"].index.tolist()\n",
        "print(\"Number of Categorical features: \", len(categorical_feats))"
      ],
      "metadata": {
        "colab": {
          "base_uri": "https://localhost:8080/"
        },
        "id": "0TR0UrQBYiXQ",
        "outputId": "7f79b3c9-5f5a-4f8b-f84c-cf389e734c48"
      },
      "execution_count": null,
      "outputs": [
        {
          "output_type": "stream",
          "name": "stdout",
          "text": [
            "Number of Numerical features:  29\n",
            "Number of Categorical features:  0\n"
          ]
        }
      ]
    },
    {
      "cell_type": "code",
      "source": [
        "numerical_feats"
      ],
      "metadata": {
        "colab": {
          "base_uri": "https://localhost:8080/"
        },
        "id": "u8hPCL_HYmPt",
        "outputId": "7871a758-db8a-459f-f3a3-8f9c5bb541d0"
      },
      "execution_count": null,
      "outputs": [
        {
          "output_type": "execute_result",
          "data": {
            "text/plain": [
              "['gender',\n",
              " 'car',\n",
              " 'reality',\n",
              " 'income_total',\n",
              " 'income_type',\n",
              " 'edu_type',\n",
              " 'family_type',\n",
              " 'house_type',\n",
              " 'DAYS_BIRTH',\n",
              " 'DAYS_EMPLOYED',\n",
              " 'work_phone',\n",
              " 'phone',\n",
              " 'email',\n",
              " 'occyp_type',\n",
              " 'family_size',\n",
              " 'begin_month',\n",
              " 'income_weight',\n",
              " 'income_age',\n",
              " 'income_emp',\n",
              " 'income_total_dev',\n",
              " 'income_total_log',\n",
              " 'DAYS_EMPLOYED_log',\n",
              " 'DAYS_EMPLOYED_before',\n",
              " 'DAYS_BIRTH_cubic',\n",
              " 'DAYS_BIRTH_weight',\n",
              " 'income_family',\n",
              " 'DAYS_BIRTH_bin',\n",
              " 'DAYS_EMPLOYED_bin']"
            ]
          },
          "metadata": {},
          "execution_count": 59
        }
      ]
    },
    {
      "cell_type": "code",
      "source": [
        "categorical_feats"
      ],
      "metadata": {
        "colab": {
          "base_uri": "https://localhost:8080/"
        },
        "id": "87JVUFqQYnzj",
        "outputId": "9c1ba0dd-5ef5-4493-efda-8a7aa65792de"
      },
      "execution_count": null,
      "outputs": [
        {
          "output_type": "execute_result",
          "data": {
            "text/plain": [
              "['ID']"
            ]
          },
          "metadata": {},
          "execution_count": 60
        }
      ]
    },
    {
      "cell_type": "code",
      "source": [
        "encoder = OrdinalEncoder(categorical_feats)\n",
        "train[categorical_feats] = encoder.fit_transform(train[categorical_feats], train['credit'])\n",
        "test[categorical_feats] = encoder.transform(test[categorical_feats])\n",
        "\n",
        "train['ID'] = train['ID'].astype('int64')\n",
        "test['ID'] = test['ID'].astype('int64')"
      ],
      "metadata": {
        "id": "baGFjxNOYpLP"
      },
      "execution_count": null,
      "outputs": []
    },
    {
      "cell_type": "markdown",
      "source": [
        "# feature_set_3 저장"
      ],
      "metadata": {
        "id": "vgP9YXXdgJkZ"
      }
    },
    {
      "cell_type": "code",
      "source": [
        "train.head()"
      ],
      "metadata": {
        "id": "K1TIeGk0gngp"
      },
      "execution_count": null,
      "outputs": []
    },
    {
      "cell_type": "code",
      "source": [
        "test.head()"
      ],
      "metadata": {
        "id": "FfB2H0pqgpC_"
      },
      "execution_count": null,
      "outputs": []
    },
    {
      "cell_type": "code",
      "source": [
        "pd.DataFrame( train ).to_csv('/content/drive/MyDrive/data/credit/feature_set_3/train_3.csv', index=False)\n",
        "pd.DataFrame( test ).to_csv('/content/drive/MyDrive/data/credit/feature_set_3/test_3.csv', index=False)"
      ],
      "metadata": {
        "id": "NFB8WjuXgM-o"
      },
      "execution_count": null,
      "outputs": []
    },
    {
      "cell_type": "markdown",
      "source": [
        "# 모델링-1 (CatBoost)\n",
        "- Clustering과 Scaling 없이 진행한다.\n",
        "- CrossValidation Parameter\n",
        "    - n_folds를 10과 15로 나누어 진행한다."
      ],
      "metadata": {
        "id": "ybK-ODeHhfh_"
      }
    },
    {
      "cell_type": "code",
      "source": [
        "train_path = '/content/drive/MyDrive/data/credit/feature_set_3/train_3.csv'\n",
        "test_path = '/content/drive/MyDrive/data/credit/feature_set_3/test_3.csv'"
      ],
      "metadata": {
        "id": "9G6R_iuThipQ"
      },
      "execution_count": null,
      "outputs": []
    },
    {
      "cell_type": "code",
      "source": [
        "train = pd.read_csv(train_path)\n",
        "test = pd.read_csv(test_path)"
      ],
      "metadata": {
        "id": "9jXM7ULUhtCQ"
      },
      "execution_count": null,
      "outputs": []
    },
    {
      "cell_type": "code",
      "source": [
        "train.head()"
      ],
      "metadata": {
        "colab": {
          "base_uri": "https://localhost:8080/",
          "height": 270
        },
        "id": "l2bLt3WchzyX",
        "outputId": "73dcb286-8cb1-4c72-9254-c6a7921ebfa1"
      },
      "execution_count": null,
      "outputs": [
        {
          "output_type": "execute_result",
          "data": {
            "text/html": [
              "\n",
              "  <div id=\"df-1fad9df5-d3ef-40d2-b4d4-c0343017169b\">\n",
              "    <div class=\"colab-df-container\">\n",
              "      <div>\n",
              "<style scoped>\n",
              "    .dataframe tbody tr th:only-of-type {\n",
              "        vertical-align: middle;\n",
              "    }\n",
              "\n",
              "    .dataframe tbody tr th {\n",
              "        vertical-align: top;\n",
              "    }\n",
              "\n",
              "    .dataframe thead th {\n",
              "        text-align: right;\n",
              "    }\n",
              "</style>\n",
              "<table border=\"1\" class=\"dataframe\">\n",
              "  <thead>\n",
              "    <tr style=\"text-align: right;\">\n",
              "      <th></th>\n",
              "      <th>gender</th>\n",
              "      <th>car</th>\n",
              "      <th>reality</th>\n",
              "      <th>income_total</th>\n",
              "      <th>income_type</th>\n",
              "      <th>edu_type</th>\n",
              "      <th>family_type</th>\n",
              "      <th>house_type</th>\n",
              "      <th>DAYS_BIRTH</th>\n",
              "      <th>DAYS_EMPLOYED</th>\n",
              "      <th>work_phone</th>\n",
              "      <th>phone</th>\n",
              "      <th>email</th>\n",
              "      <th>occyp_type</th>\n",
              "      <th>family_size</th>\n",
              "      <th>begin_month</th>\n",
              "      <th>credit</th>\n",
              "      <th>ID</th>\n",
              "      <th>income_weight</th>\n",
              "      <th>income_age</th>\n",
              "      <th>income_emp</th>\n",
              "      <th>income_total_dev</th>\n",
              "      <th>income_total_log</th>\n",
              "      <th>DAYS_EMPLOYED_log</th>\n",
              "      <th>DAYS_EMPLOYED_before</th>\n",
              "      <th>DAYS_BIRTH_cubic</th>\n",
              "      <th>DAYS_BIRTH_weight</th>\n",
              "      <th>income_family</th>\n",
              "      <th>DAYS_BIRTH_bin</th>\n",
              "      <th>DAYS_EMPLOYED_bin</th>\n",
              "    </tr>\n",
              "  </thead>\n",
              "  <tbody>\n",
              "    <tr>\n",
              "      <th>0</th>\n",
              "      <td>0</td>\n",
              "      <td>0</td>\n",
              "      <td>0</td>\n",
              "      <td>20</td>\n",
              "      <td>0</td>\n",
              "      <td>1</td>\n",
              "      <td>1</td>\n",
              "      <td>2</td>\n",
              "      <td>13899</td>\n",
              "      <td>4709</td>\n",
              "      <td>0</td>\n",
              "      <td>0</td>\n",
              "      <td>0</td>\n",
              "      <td>12</td>\n",
              "      <td>2</td>\n",
              "      <td>6</td>\n",
              "      <td>1.0</td>\n",
              "      <td>1</td>\n",
              "      <td>1.450273e-32</td>\n",
              "      <td>2.814548e+09</td>\n",
              "      <td>9.535725e+08</td>\n",
              "      <td>2.308172</td>\n",
              "      <td>3.056357</td>\n",
              "      <td>8.457443</td>\n",
              "      <td>9190</td>\n",
              "      <td>2685039411699</td>\n",
              "      <td>5.176460e-09</td>\n",
              "      <td>10.0</td>\n",
              "      <td>0</td>\n",
              "      <td>0</td>\n",
              "    </tr>\n",
              "    <tr>\n",
              "      <th>1</th>\n",
              "      <td>0</td>\n",
              "      <td>0</td>\n",
              "      <td>1</td>\n",
              "      <td>24</td>\n",
              "      <td>0</td>\n",
              "      <td>4</td>\n",
              "      <td>0</td>\n",
              "      <td>1</td>\n",
              "      <td>11380</td>\n",
              "      <td>1540</td>\n",
              "      <td>0</td>\n",
              "      <td>0</td>\n",
              "      <td>1</td>\n",
              "      <td>8</td>\n",
              "      <td>3</td>\n",
              "      <td>5</td>\n",
              "      <td>1.0</td>\n",
              "      <td>2</td>\n",
              "      <td>4.350596e-33</td>\n",
              "      <td>2.816550e+09</td>\n",
              "      <td>3.811500e+08</td>\n",
              "      <td>36.231574</td>\n",
              "      <td>3.248435</td>\n",
              "      <td>7.340187</td>\n",
              "      <td>9840</td>\n",
              "      <td>1473760072000</td>\n",
              "      <td>7.721745e-09</td>\n",
              "      <td>8.0</td>\n",
              "      <td>1</td>\n",
              "      <td>1</td>\n",
              "    </tr>\n",
              "    <tr>\n",
              "      <th>2</th>\n",
              "      <td>1</td>\n",
              "      <td>1</td>\n",
              "      <td>1</td>\n",
              "      <td>45</td>\n",
              "      <td>4</td>\n",
              "      <td>1</td>\n",
              "      <td>1</td>\n",
              "      <td>1</td>\n",
              "      <td>19087</td>\n",
              "      <td>4434</td>\n",
              "      <td>0</td>\n",
              "      <td>1</td>\n",
              "      <td>0</td>\n",
              "      <td>10</td>\n",
              "      <td>2</td>\n",
              "      <td>22</td>\n",
              "      <td>2.0</td>\n",
              "      <td>3</td>\n",
              "      <td>1.204273e-34</td>\n",
              "      <td>8.589150e+09</td>\n",
              "      <td>1.995300e+09</td>\n",
              "      <td>690.074382</td>\n",
              "      <td>3.828641</td>\n",
              "      <td>8.397283</td>\n",
              "      <td>14653</td>\n",
              "      <td>6953653091503</td>\n",
              "      <td>2.744888e-09</td>\n",
              "      <td>22.5</td>\n",
              "      <td>2</td>\n",
              "      <td>0</td>\n",
              "    </tr>\n",
              "    <tr>\n",
              "      <th>3</th>\n",
              "      <td>0</td>\n",
              "      <td>0</td>\n",
              "      <td>1</td>\n",
              "      <td>20</td>\n",
              "      <td>0</td>\n",
              "      <td>4</td>\n",
              "      <td>1</td>\n",
              "      <td>1</td>\n",
              "      <td>15088</td>\n",
              "      <td>2092</td>\n",
              "      <td>0</td>\n",
              "      <td>1</td>\n",
              "      <td>0</td>\n",
              "      <td>15</td>\n",
              "      <td>2</td>\n",
              "      <td>37</td>\n",
              "      <td>0.0</td>\n",
              "      <td>4</td>\n",
              "      <td>1.450273e-32</td>\n",
              "      <td>3.055320e+09</td>\n",
              "      <td>4.236300e+08</td>\n",
              "      <td>2.308172</td>\n",
              "      <td>3.056357</td>\n",
              "      <td>7.646354</td>\n",
              "      <td>12996</td>\n",
              "      <td>3434749161472</td>\n",
              "      <td>4.392752e-09</td>\n",
              "      <td>10.0</td>\n",
              "      <td>3</td>\n",
              "      <td>2</td>\n",
              "    </tr>\n",
              "    <tr>\n",
              "      <th>4</th>\n",
              "      <td>0</td>\n",
              "      <td>1</td>\n",
              "      <td>1</td>\n",
              "      <td>15</td>\n",
              "      <td>2</td>\n",
              "      <td>1</td>\n",
              "      <td>1</td>\n",
              "      <td>1</td>\n",
              "      <td>15037</td>\n",
              "      <td>2105</td>\n",
              "      <td>0</td>\n",
              "      <td>0</td>\n",
              "      <td>0</td>\n",
              "      <td>10</td>\n",
              "      <td>2</td>\n",
              "      <td>26</td>\n",
              "      <td>2.0</td>\n",
              "      <td>5</td>\n",
              "      <td>6.551137e-32</td>\n",
              "      <td>2.368328e+09</td>\n",
              "      <td>3.315375e+08</td>\n",
              "      <td>8.884770</td>\n",
              "      <td>2.818398</td>\n",
              "      <td>7.652546</td>\n",
              "      <td>12932</td>\n",
              "      <td>3400036655653</td>\n",
              "      <td>4.422599e-09</td>\n",
              "      <td>7.5</td>\n",
              "      <td>3</td>\n",
              "      <td>2</td>\n",
              "    </tr>\n",
              "  </tbody>\n",
              "</table>\n",
              "</div>\n",
              "      <button class=\"colab-df-convert\" onclick=\"convertToInteractive('df-1fad9df5-d3ef-40d2-b4d4-c0343017169b')\"\n",
              "              title=\"Convert this dataframe to an interactive table.\"\n",
              "              style=\"display:none;\">\n",
              "        \n",
              "  <svg xmlns=\"http://www.w3.org/2000/svg\" height=\"24px\"viewBox=\"0 0 24 24\"\n",
              "       width=\"24px\">\n",
              "    <path d=\"M0 0h24v24H0V0z\" fill=\"none\"/>\n",
              "    <path d=\"M18.56 5.44l.94 2.06.94-2.06 2.06-.94-2.06-.94-.94-2.06-.94 2.06-2.06.94zm-11 1L8.5 8.5l.94-2.06 2.06-.94-2.06-.94L8.5 2.5l-.94 2.06-2.06.94zm10 10l.94 2.06.94-2.06 2.06-.94-2.06-.94-.94-2.06-.94 2.06-2.06.94z\"/><path d=\"M17.41 7.96l-1.37-1.37c-.4-.4-.92-.59-1.43-.59-.52 0-1.04.2-1.43.59L10.3 9.45l-7.72 7.72c-.78.78-.78 2.05 0 2.83L4 21.41c.39.39.9.59 1.41.59.51 0 1.02-.2 1.41-.59l7.78-7.78 2.81-2.81c.8-.78.8-2.07 0-2.86zM5.41 20L4 18.59l7.72-7.72 1.47 1.35L5.41 20z\"/>\n",
              "  </svg>\n",
              "      </button>\n",
              "      \n",
              "  <style>\n",
              "    .colab-df-container {\n",
              "      display:flex;\n",
              "      flex-wrap:wrap;\n",
              "      gap: 12px;\n",
              "    }\n",
              "\n",
              "    .colab-df-convert {\n",
              "      background-color: #E8F0FE;\n",
              "      border: none;\n",
              "      border-radius: 50%;\n",
              "      cursor: pointer;\n",
              "      display: none;\n",
              "      fill: #1967D2;\n",
              "      height: 32px;\n",
              "      padding: 0 0 0 0;\n",
              "      width: 32px;\n",
              "    }\n",
              "\n",
              "    .colab-df-convert:hover {\n",
              "      background-color: #E2EBFA;\n",
              "      box-shadow: 0px 1px 2px rgba(60, 64, 67, 0.3), 0px 1px 3px 1px rgba(60, 64, 67, 0.15);\n",
              "      fill: #174EA6;\n",
              "    }\n",
              "\n",
              "    [theme=dark] .colab-df-convert {\n",
              "      background-color: #3B4455;\n",
              "      fill: #D2E3FC;\n",
              "    }\n",
              "\n",
              "    [theme=dark] .colab-df-convert:hover {\n",
              "      background-color: #434B5C;\n",
              "      box-shadow: 0px 1px 3px 1px rgba(0, 0, 0, 0.15);\n",
              "      filter: drop-shadow(0px 1px 2px rgba(0, 0, 0, 0.3));\n",
              "      fill: #FFFFFF;\n",
              "    }\n",
              "  </style>\n",
              "\n",
              "      <script>\n",
              "        const buttonEl =\n",
              "          document.querySelector('#df-1fad9df5-d3ef-40d2-b4d4-c0343017169b button.colab-df-convert');\n",
              "        buttonEl.style.display =\n",
              "          google.colab.kernel.accessAllowed ? 'block' : 'none';\n",
              "\n",
              "        async function convertToInteractive(key) {\n",
              "          const element = document.querySelector('#df-1fad9df5-d3ef-40d2-b4d4-c0343017169b');\n",
              "          const dataTable =\n",
              "            await google.colab.kernel.invokeFunction('convertToInteractive',\n",
              "                                                     [key], {});\n",
              "          if (!dataTable) return;\n",
              "\n",
              "          const docLinkHtml = 'Like what you see? Visit the ' +\n",
              "            '<a target=\"_blank\" href=https://colab.research.google.com/notebooks/data_table.ipynb>data table notebook</a>'\n",
              "            + ' to learn more about interactive tables.';\n",
              "          element.innerHTML = '';\n",
              "          dataTable['output_type'] = 'display_data';\n",
              "          await google.colab.output.renderOutput(dataTable, element);\n",
              "          const docLink = document.createElement('div');\n",
              "          docLink.innerHTML = docLinkHtml;\n",
              "          element.appendChild(docLink);\n",
              "        }\n",
              "      </script>\n",
              "    </div>\n",
              "  </div>\n",
              "  "
            ],
            "text/plain": [
              "   gender  car  reality  ...  income_family  DAYS_BIRTH_bin  DAYS_EMPLOYED_bin\n",
              "0       0    0        0  ...           10.0               0                  0\n",
              "1       0    0        1  ...            8.0               1                  1\n",
              "2       1    1        1  ...           22.5               2                  0\n",
              "3       0    0        1  ...           10.0               3                  2\n",
              "4       0    1        1  ...            7.5               3                  2\n",
              "\n",
              "[5 rows x 30 columns]"
            ]
          },
          "metadata": {},
          "execution_count": 121
        }
      ]
    },
    {
      "cell_type": "code",
      "source": [
        "train.shape, test.shape"
      ],
      "metadata": {
        "colab": {
          "base_uri": "https://localhost:8080/"
        },
        "id": "jvCM4HaW7pyL",
        "outputId": "e13fd15b-445d-45d2-d20c-744fff08d891"
      },
      "execution_count": null,
      "outputs": [
        {
          "output_type": "execute_result",
          "data": {
            "text/plain": [
              "((26451, 30), (10000, 29))"
            ]
          },
          "metadata": {},
          "execution_count": 79
        }
      ]
    },
    {
      "cell_type": "code",
      "source": [
        "def plot_feature_importance(importance,names,model_type):\n",
        "    \n",
        "    feature_importance = np.array(importance)\n",
        "    feature_names = np.array(names)\n",
        "    \n",
        "    data={'feature_names':feature_names,'feature_importance':feature_importance}\n",
        "    fi_df = pd.DataFrame(data)\n",
        "    \n",
        "    fi_df.sort_values(by=['feature_importance'], ascending=False,inplace=True)\n",
        "\n",
        "    plt.figure(figsize=(10,8))\n",
        "\n",
        "    sns.barplot(x=fi_df['feature_importance'], y=fi_df['feature_names'])\n",
        "\n",
        "    plt.title(model_type + ' Feature Importance')\n",
        "    plt.xlabel('Feature Importance')\n",
        "    plt.ylabel('Feature Names')"
      ],
      "metadata": {
        "id": "oepIURTC8hZ0"
      },
      "execution_count": null,
      "outputs": []
    },
    {
      "cell_type": "code",
      "source": [
        "# one of the parameters : cat_features\n",
        "categorical_feats"
      ],
      "metadata": {
        "colab": {
          "base_uri": "https://localhost:8080/"
        },
        "outputId": "82b89b51-b0e6-4488-acd8-6015a6b0c322",
        "id": "vO5pXYwFU9LG"
      },
      "execution_count": null,
      "outputs": [
        {
          "output_type": "execute_result",
          "data": {
            "text/plain": [
              "['ID']"
            ]
          },
          "metadata": {},
          "execution_count": 81
        }
      ]
    },
    {
      "cell_type": "markdown",
      "source": [
        "## n_fold = 10\n",
        "- Log Loss: 0.668709"
      ],
      "metadata": {
        "id": "N3L4xLBoVH4_"
      }
    },
    {
      "cell_type": "code",
      "source": [
        "n_est = 2000\n",
        "seed = 42\n",
        "n_fold = 10\n",
        "n_class = 3\n",
        "\n",
        "target = 'credit'\n",
        "X = train.drop(target, axis=1)\n",
        "y = train[target]\n",
        "X_test = test"
      ],
      "metadata": {
        "id": "5mSLRcz2VH5A"
      },
      "execution_count": null,
      "outputs": []
    },
    {
      "cell_type": "code",
      "source": [
        "skfold = StratifiedKFold(n_splits=n_fold, shuffle=True, random_state=seed)\n",
        "folds=[]\n",
        "\n",
        "for train_idx, valid_idx in skfold.split(X, y):\n",
        "    folds.append((train_idx, valid_idx))\n",
        "\n",
        "cat_pred = np.zeros((X.shape[0], n_class))\n",
        "cat_pred_test = np.zeros((X_test.shape[0], n_class))\n",
        "cat_cols = ['income_type', 'edu_type', 'family_type', 'house_type', 'occyp_type', 'ID']\n",
        "\n",
        "for fold in range(n_fold):\n",
        "    print(f'\\n----------------- Fold {fold} -----------------\\n')\n",
        "  \n",
        "    train_idx, valid_idx = folds[fold]\n",
        "    X_train, X_valid, y_train, y_valid = X.iloc[train_idx], X.iloc[valid_idx], y[train_idx], y[valid_idx]\n",
        "    train_data = Pool(data=X_train, label=y_train, cat_features=cat_cols)\n",
        "    valid_data = Pool(data=X_valid, label=y_valid, cat_features=cat_cols)\n",
        "    model_cat = CatBoostClassifier()\n",
        "    model_cat.fit(train_data, eval_set=valid_data, use_best_model=True, early_stopping_rounds=100, verbose=100)\n",
        "    \n",
        "    cat_pred[valid_idx] = model_cat.predict_proba(X_valid)\n",
        "    cat_pred_test += model_cat.predict_proba(X_test) / n_fold\n",
        "    print(f'CV Log Loss Score: {log_loss(y_valid, cat_pred[valid_idx]):.6f}')\n",
        "    \n",
        "print(f'\\tLog Loss: {log_loss(y, cat_pred):.6f}')\n",
        "\n",
        "\n"
      ],
      "metadata": {
        "colab": {
          "base_uri": "https://localhost:8080/"
        },
        "outputId": "d166b9c6-37d5-4dd4-f7ee-18bd01ad760a",
        "id": "lv_aFcGvVH5A"
      },
      "execution_count": null,
      "outputs": [
        {
          "output_type": "stream",
          "name": "stdout",
          "text": [
            "\n",
            "----------------- Fold 0 -----------------\n",
            "\n",
            "Learning rate set to 0.115043\n",
            "0:\tlearn: 1.0358760\ttest: 1.0343382\tbest: 1.0343382 (0)\ttotal: 228ms\tremaining: 3m 48s\n",
            "100:\tlearn: 0.7067372\ttest: 0.6589122\tbest: 0.6589122 (100)\ttotal: 16.6s\tremaining: 2m 27s\n",
            "200:\tlearn: 0.6882969\ttest: 0.6564202\tbest: 0.6563252 (175)\ttotal: 29.1s\tremaining: 1m 55s\n",
            "300:\tlearn: 0.6720172\ttest: 0.6565387\tbest: 0.6561792 (261)\ttotal: 43s\tremaining: 1m 39s\n",
            "Stopped by overfitting detector  (100 iterations wait)\n",
            "\n",
            "bestTest = 0.6561791751\n",
            "bestIteration = 261\n",
            "\n",
            "Shrink model to first 262 iterations.\n",
            "CV Log Loss Score: 0.656179\n",
            "\n",
            "----------------- Fold 1 -----------------\n",
            "\n",
            "Learning rate set to 0.115043\n",
            "0:\tlearn: 1.0339885\ttest: 1.0345593\tbest: 1.0345593 (0)\ttotal: 139ms\tremaining: 2m 19s\n",
            "100:\tlearn: 0.7096889\ttest: 0.6587712\tbest: 0.6587712 (100)\ttotal: 11.1s\tremaining: 1m 38s\n",
            "200:\tlearn: 0.6906049\ttest: 0.6569518\tbest: 0.6567442 (187)\ttotal: 24.9s\tremaining: 1m 39s\n",
            "300:\tlearn: 0.6747758\ttest: 0.6583372\tbest: 0.6566172 (208)\ttotal: 37.8s\tremaining: 1m 27s\n",
            "Stopped by overfitting detector  (100 iterations wait)\n",
            "\n",
            "bestTest = 0.6566171663\n",
            "bestIteration = 208\n",
            "\n",
            "Shrink model to first 209 iterations.\n",
            "CV Log Loss Score: 0.656617\n",
            "\n",
            "----------------- Fold 2 -----------------\n",
            "\n",
            "Learning rate set to 0.115043\n",
            "0:\tlearn: 1.0340217\ttest: 1.0348467\tbest: 1.0348467 (0)\ttotal: 158ms\tremaining: 2m 37s\n",
            "100:\tlearn: 0.7061836\ttest: 0.6633995\tbest: 0.6633982 (99)\ttotal: 11.4s\tremaining: 1m 41s\n",
            "200:\tlearn: 0.6890629\ttest: 0.6611288\tbest: 0.6610689 (198)\ttotal: 23.8s\tremaining: 1m 34s\n",
            "300:\tlearn: 0.6728924\ttest: 0.6605071\tbest: 0.6600246 (278)\ttotal: 37.4s\tremaining: 1m 26s\n",
            "Stopped by overfitting detector  (100 iterations wait)\n",
            "\n",
            "bestTest = 0.660024642\n",
            "bestIteration = 278\n",
            "\n",
            "Shrink model to first 279 iterations.\n",
            "CV Log Loss Score: 0.660025\n",
            "\n",
            "----------------- Fold 3 -----------------\n",
            "\n",
            "Learning rate set to 0.115043\n",
            "0:\tlearn: 1.0341610\ttest: 1.0341255\tbest: 1.0341255 (0)\ttotal: 139ms\tremaining: 2m 19s\n",
            "100:\tlearn: 0.7038037\ttest: 0.6777841\tbest: 0.6777841 (100)\ttotal: 11.4s\tremaining: 1m 41s\n",
            "200:\tlearn: 0.6840161\ttest: 0.6777564\tbest: 0.6761957 (155)\ttotal: 24.1s\tremaining: 1m 35s\n",
            "Stopped by overfitting detector  (100 iterations wait)\n",
            "\n",
            "bestTest = 0.6761956584\n",
            "bestIteration = 155\n",
            "\n",
            "Shrink model to first 156 iterations.\n",
            "CV Log Loss Score: 0.676196\n",
            "\n",
            "----------------- Fold 4 -----------------\n",
            "\n",
            "Learning rate set to 0.115043\n",
            "0:\tlearn: 1.0342476\ttest: 1.0335852\tbest: 1.0335852 (0)\ttotal: 135ms\tremaining: 2m 15s\n",
            "100:\tlearn: 0.7048126\ttest: 0.6702302\tbest: 0.6702302 (100)\ttotal: 12.1s\tremaining: 1m 47s\n",
            "200:\tlearn: 0.6870257\ttest: 0.6674198\tbest: 0.6674198 (200)\ttotal: 25.6s\tremaining: 1m 41s\n",
            "300:\tlearn: 0.6714521\ttest: 0.6676225\tbest: 0.6673747 (271)\ttotal: 39.3s\tremaining: 1m 31s\n",
            "400:\tlearn: 0.6546997\ttest: 0.6678439\tbest: 0.6670231 (373)\ttotal: 52.1s\tremaining: 1m 17s\n",
            "Stopped by overfitting detector  (100 iterations wait)\n",
            "\n",
            "bestTest = 0.6670230521\n",
            "bestIteration = 373\n",
            "\n",
            "Shrink model to first 374 iterations.\n",
            "CV Log Loss Score: 0.667023\n",
            "\n",
            "----------------- Fold 5 -----------------\n",
            "\n",
            "Learning rate set to 0.115043\n",
            "0:\tlearn: 1.0339711\ttest: 1.0348835\tbest: 1.0348835 (0)\ttotal: 137ms\tremaining: 2m 16s\n",
            "100:\tlearn: 0.7061696\ttest: 0.6836296\tbest: 0.6835690 (99)\ttotal: 11.1s\tremaining: 1m 38s\n",
            "200:\tlearn: 0.6875169\ttest: 0.6834360\tbest: 0.6832331 (161)\ttotal: 23.8s\tremaining: 1m 34s\n",
            "300:\tlearn: 0.6696705\ttest: 0.6837229\tbest: 0.6829992 (208)\ttotal: 36.7s\tremaining: 1m 25s\n",
            "Stopped by overfitting detector  (100 iterations wait)\n",
            "\n",
            "bestTest = 0.6829991706\n",
            "bestIteration = 208\n",
            "\n",
            "Shrink model to first 209 iterations.\n",
            "CV Log Loss Score: 0.682999\n",
            "\n",
            "----------------- Fold 6 -----------------\n",
            "\n",
            "Learning rate set to 0.115043\n",
            "0:\tlearn: 1.0341734\ttest: 1.0341681\tbest: 1.0341681 (0)\ttotal: 151ms\tremaining: 2m 31s\n",
            "100:\tlearn: 0.7045256\ttest: 0.6691902\tbest: 0.6691902 (100)\ttotal: 11.5s\tremaining: 1m 42s\n",
            "200:\tlearn: 0.6856497\ttest: 0.6661244\tbest: 0.6658596 (190)\ttotal: 24.3s\tremaining: 1m 36s\n",
            "300:\tlearn: 0.6676167\ttest: 0.6652716\tbest: 0.6652716 (300)\ttotal: 37s\tremaining: 1m 26s\n",
            "400:\tlearn: 0.6510423\ttest: 0.6653420\tbest: 0.6651564 (339)\ttotal: 49.9s\tremaining: 1m 14s\n",
            "Stopped by overfitting detector  (100 iterations wait)\n",
            "\n",
            "bestTest = 0.6651564006\n",
            "bestIteration = 339\n",
            "\n",
            "Shrink model to first 340 iterations.\n",
            "CV Log Loss Score: 0.665156\n",
            "\n",
            "----------------- Fold 7 -----------------\n",
            "\n",
            "Learning rate set to 0.115043\n",
            "0:\tlearn: 1.0340962\ttest: 1.0345544\tbest: 1.0345544 (0)\ttotal: 135ms\tremaining: 2m 14s\n",
            "100:\tlearn: 0.7053021\ttest: 0.6784734\tbest: 0.6784734 (100)\ttotal: 11.3s\tremaining: 1m 40s\n",
            "200:\tlearn: 0.6845358\ttest: 0.6768670\tbest: 0.6768670 (200)\ttotal: 23.7s\tremaining: 1m 34s\n",
            "300:\tlearn: 0.6669284\ttest: 0.6773264\tbest: 0.6766760 (227)\ttotal: 36.4s\tremaining: 1m 24s\n",
            "Stopped by overfitting detector  (100 iterations wait)\n",
            "\n",
            "bestTest = 0.6766760486\n",
            "bestIteration = 227\n",
            "\n",
            "Shrink model to first 228 iterations.\n",
            "CV Log Loss Score: 0.676676\n",
            "\n",
            "----------------- Fold 8 -----------------\n",
            "\n",
            "Learning rate set to 0.115043\n",
            "0:\tlearn: 1.0340551\ttest: 1.0348448\tbest: 1.0348448 (0)\ttotal: 136ms\tremaining: 2m 15s\n",
            "100:\tlearn: 0.7069503\ttest: 0.6752138\tbest: 0.6751016 (97)\ttotal: 11.1s\tremaining: 1m 38s\n",
            "200:\tlearn: 0.6878768\ttest: 0.6740080\tbest: 0.6733622 (133)\ttotal: 23.6s\tremaining: 1m 33s\n",
            "Stopped by overfitting detector  (100 iterations wait)\n",
            "\n",
            "bestTest = 0.6733622465\n",
            "bestIteration = 133\n",
            "\n",
            "Shrink model to first 134 iterations.\n",
            "CV Log Loss Score: 0.673362\n",
            "\n",
            "----------------- Fold 9 -----------------\n",
            "\n",
            "Learning rate set to 0.115043\n",
            "0:\tlearn: 1.0344225\ttest: 1.0325626\tbest: 1.0325626 (0)\ttotal: 131ms\tremaining: 2m 11s\n",
            "100:\tlearn: 0.7057540\ttest: 0.6746999\tbest: 0.6746999 (100)\ttotal: 11.2s\tremaining: 1m 39s\n",
            "200:\tlearn: 0.6864250\ttest: 0.6733127\tbest: 0.6728585 (118)\ttotal: 23.8s\tremaining: 1m 34s\n",
            "Stopped by overfitting detector  (100 iterations wait)\n",
            "\n",
            "bestTest = 0.6728585401\n",
            "bestIteration = 118\n",
            "\n",
            "Shrink model to first 119 iterations.\n",
            "CV Log Loss Score: 0.672859\n",
            "\tLog Loss: 0.668709\n"
          ]
        }
      ]
    },
    {
      "cell_type": "markdown",
      "source": [
        "### Feature Importance"
      ],
      "metadata": {
        "id": "2g6Q9fsWVH5A"
      }
    },
    {
      "cell_type": "code",
      "source": [
        "plot_feature_importance(model_cat.get_feature_importance(),X_test.columns,'CATBOOST')"
      ],
      "metadata": {
        "colab": {
          "base_uri": "https://localhost:8080/",
          "height": 513
        },
        "outputId": "81a10982-5c32-4f86-de01-73dea4f1ae7d",
        "id": "-oD2C6ZbVH5B"
      },
      "execution_count": null,
      "outputs": [
        {
          "output_type": "display_data",
          "data": {
            "image/png": "[encoded data removed]",
            "text/plain": [
              "<Figure size 720x576 with 1 Axes>"
            ]
          },
          "metadata": {
            "needs_background": "light"
          }
        }
      ]
    },
    {
      "cell_type": "markdown",
      "source": [
        "- ID의 설명력이 갈 수록 높아진다.\n",
        "- 파생변수의 설명력\n",
        "    - DAYS_BIRTH\n",
        "        - weight / cubic\n",
        "    - income_total\n",
        "        - income_total_dev / income_emp / income_age\n",
        "    - DAYS_EMPLOYED\n",
        "        - before"
      ],
      "metadata": {
        "id": "lHVX1R1qCI08"
      }
    },
    {
      "cell_type": "markdown",
      "source": [
        "## n_fold = 15\n",
        "- Log Loss: 0.664093"
      ],
      "metadata": {
        "id": "jtWkU1eYJBj2"
      }
    },
    {
      "cell_type": "code",
      "source": [
        "n_est = 2000\n",
        "seed = 42\n",
        "n_fold = 15\n",
        "n_class = 3\n",
        "\n",
        "target = 'credit'\n",
        "X = train.drop(target, axis=1)\n",
        "y = train[target]\n",
        "X_test = test"
      ],
      "metadata": {
        "id": "pMhftGtDJBj9"
      },
      "execution_count": null,
      "outputs": []
    },
    {
      "cell_type": "code",
      "source": [
        "skfold = StratifiedKFold(n_splits=n_fold, shuffle=True, random_state=seed)\n",
        "folds=[]\n",
        "log_loss_avg = []\n",
        "\n",
        "for train_idx, valid_idx in skfold.split(X, y):\n",
        "    folds.append((train_idx, valid_idx))\n",
        "\n",
        "cat_pred = np.zeros((X.shape[0], n_class))\n",
        "cat_pred_test = np.zeros((X_test.shape[0], n_class))\n",
        "cat_cols = ['income_type', 'edu_type', 'family_type', 'house_type', 'occyp_type', 'ID']\n",
        "\n",
        "for fold in range(n_fold):\n",
        "    print(f'\\n----------------- Fold {fold} -----------------\\n')\n",
        "  \n",
        "    train_idx, valid_idx = folds[fold]\n",
        "    X_train, X_valid, y_train, y_valid = X.iloc[train_idx], X.iloc[valid_idx], y[train_idx], y[valid_idx]\n",
        "    train_data = Pool(data=X_train, label=y_train, cat_features=cat_cols)\n",
        "    valid_data = Pool(data=X_valid, label=y_valid, cat_features=cat_cols)\n",
        "    model_cat = CatBoostClassifier()\n",
        "    model_cat.fit(train_data, eval_set=valid_data, use_best_model=True, early_stopping_rounds=100, verbose=100)\n",
        "    \n",
        "    cat_pred[valid_idx] = model_cat.predict_proba(X_valid)\n",
        "    cat_pred_test += model_cat.predict_proba(X_test) / n_fold\n",
        "    print(f'CV Log Loss Score: {log_loss(y_valid, cat_pred[valid_idx]):.6f}')\n",
        "    \n",
        "print(f'\\tLog Loss: {log_loss(y, cat_pred):.6f}')\n",
        "\n",
        "\n"
      ],
      "metadata": {
        "colab": {
          "base_uri": "https://localhost:8080/"
        },
        "outputId": "77e7d2b6-b60d-48d6-95ad-826af9c095f1",
        "id": "P_zBfJenJBj9"
      },
      "execution_count": null,
      "outputs": [
        {
          "output_type": "stream",
          "name": "stdout",
          "text": [
            "\n",
            "----------------- Fold 0 -----------------\n",
            "\n",
            "Learning rate set to 0.115127\n",
            "0:\tlearn: 1.0356057\ttest: 1.0341413\tbest: 1.0341413 (0)\ttotal: 136ms\tremaining: 2m 15s\n",
            "100:\tlearn: 0.7058240\ttest: 0.6422354\tbest: 0.6421789 (99)\ttotal: 15s\tremaining: 2m 13s\n",
            "200:\tlearn: 0.6874758\ttest: 0.6398888\tbest: 0.6398619 (189)\ttotal: 27.8s\tremaining: 1m 50s\n",
            "Stopped by overfitting detector  (100 iterations wait)\n",
            "\n",
            "bestTest = 0.6398618659\n",
            "bestIteration = 189\n",
            "\n",
            "Shrink model to first 190 iterations.\n",
            "CV Log Loss Score: 0.639862\n",
            "\n",
            "----------------- Fold 1 -----------------\n",
            "\n",
            "Learning rate set to 0.115127\n",
            "0:\tlearn: 1.0356100\ttest: 1.0349051\tbest: 1.0349051 (0)\ttotal: 145ms\tremaining: 2m 25s\n",
            "100:\tlearn: 0.7048109\ttest: 0.6734143\tbest: 0.6734143 (100)\ttotal: 11.2s\tremaining: 1m 39s\n",
            "200:\tlearn: 0.6868747\ttest: 0.6714541\tbest: 0.6710867 (198)\ttotal: 23.7s\tremaining: 1m 34s\n",
            "300:\tlearn: 0.6703758\ttest: 0.6710550\tbest: 0.6705161 (280)\ttotal: 36.3s\tremaining: 1m 24s\n",
            "Stopped by overfitting detector  (100 iterations wait)\n",
            "\n",
            "bestTest = 0.6705161088\n",
            "bestIteration = 280\n",
            "\n",
            "Shrink model to first 281 iterations.\n",
            "CV Log Loss Score: 0.670516\n",
            "\n",
            "----------------- Fold 2 -----------------\n",
            "\n",
            "Learning rate set to 0.115127\n",
            "0:\tlearn: 1.0354497\ttest: 1.0358590\tbest: 1.0358590 (0)\ttotal: 150ms\tremaining: 2m 30s\n",
            "100:\tlearn: 0.7049154\ttest: 0.6501429\tbest: 0.6501429 (100)\ttotal: 11.2s\tremaining: 1m 39s\n",
            "200:\tlearn: 0.6868781\ttest: 0.6473885\tbest: 0.6471128 (191)\ttotal: 24s\tremaining: 1m 35s\n",
            "300:\tlearn: 0.6703244\ttest: 0.6467922\tbest: 0.6461220 (274)\ttotal: 37s\tremaining: 1m 25s\n",
            "400:\tlearn: 0.6536663\ttest: 0.6466283\tbest: 0.6460324 (342)\ttotal: 50.1s\tremaining: 1m 14s\n",
            "Stopped by overfitting detector  (100 iterations wait)\n",
            "\n",
            "bestTest = 0.6460324107\n",
            "bestIteration = 342\n",
            "\n",
            "Shrink model to first 343 iterations.\n",
            "CV Log Loss Score: 0.646032\n",
            "\n",
            "----------------- Fold 3 -----------------\n",
            "\n",
            "Learning rate set to 0.115127\n",
            "0:\tlearn: 1.0351903\ttest: 1.0369501\tbest: 1.0369501 (0)\ttotal: 68.3ms\tremaining: 1m 8s\n",
            "100:\tlearn: 0.7052138\ttest: 0.6545720\tbest: 0.6545720 (100)\ttotal: 11.3s\tremaining: 1m 40s\n",
            "200:\tlearn: 0.6879837\ttest: 0.6510691\tbest: 0.6510592 (199)\ttotal: 24.3s\tremaining: 1m 36s\n",
            "300:\tlearn: 0.6718783\ttest: 0.6485860\tbest: 0.6485787 (299)\ttotal: 37s\tremaining: 1m 25s\n",
            "400:\tlearn: 0.6552939\ttest: 0.6477163\tbest: 0.6475957 (390)\ttotal: 49.7s\tremaining: 1m 14s\n",
            "500:\tlearn: 0.6393058\ttest: 0.6475640\tbest: 0.6473944 (485)\ttotal: 1m 2s\tremaining: 1m 2s\n",
            "600:\tlearn: 0.6238364\ttest: 0.6461938\tbest: 0.6460297 (597)\ttotal: 1m 15s\tremaining: 50.2s\n",
            "700:\tlearn: 0.6102705\ttest: 0.6463842\tbest: 0.6455290 (650)\ttotal: 1m 28s\tremaining: 37.8s\n",
            "Stopped by overfitting detector  (100 iterations wait)\n",
            "\n",
            "bestTest = 0.645529011\n",
            "bestIteration = 650\n",
            "\n",
            "Shrink model to first 651 iterations.\n",
            "CV Log Loss Score: 0.645529\n",
            "\n",
            "----------------- Fold 4 -----------------\n",
            "\n",
            "Learning rate set to 0.115127\n",
            "0:\tlearn: 1.0354385\ttest: 1.0361726\tbest: 1.0361726 (0)\ttotal: 159ms\tremaining: 2m 38s\n",
            "100:\tlearn: 0.7053600\ttest: 0.6688104\tbest: 0.6688104 (100)\ttotal: 11.2s\tremaining: 1m 39s\n",
            "200:\tlearn: 0.6873199\ttest: 0.6660626\tbest: 0.6658698 (192)\ttotal: 23.9s\tremaining: 1m 34s\n",
            "300:\tlearn: 0.6710959\ttest: 0.6657845\tbest: 0.6650029 (273)\ttotal: 36.8s\tremaining: 1m 25s\n",
            "Stopped by overfitting detector  (100 iterations wait)\n",
            "\n",
            "bestTest = 0.6650029358\n",
            "bestIteration = 273\n",
            "\n",
            "Shrink model to first 274 iterations.\n",
            "CV Log Loss Score: 0.665003\n",
            "\n",
            "----------------- Fold 5 -----------------\n",
            "\n",
            "Learning rate set to 0.115127\n",
            "0:\tlearn: 1.0354287\ttest: 1.0353381\tbest: 1.0353381 (0)\ttotal: 66.1ms\tremaining: 1m 6s\n",
            "100:\tlearn: 0.7033613\ttest: 0.6761324\tbest: 0.6761155 (99)\ttotal: 11.3s\tremaining: 1m 40s\n",
            "200:\tlearn: 0.6832801\ttest: 0.6749084\tbest: 0.6740582 (177)\ttotal: 23.9s\tremaining: 1m 35s\n",
            "Stopped by overfitting detector  (100 iterations wait)\n",
            "\n",
            "bestTest = 0.6740581888\n",
            "bestIteration = 177\n",
            "\n",
            "Shrink model to first 178 iterations.\n",
            "CV Log Loss Score: 0.674058\n",
            "\n",
            "----------------- Fold 6 -----------------\n",
            "\n",
            "Learning rate set to 0.115127\n",
            "0:\tlearn: 1.0347155\ttest: 1.0332052\tbest: 1.0332052 (0)\ttotal: 43.9ms\tremaining: 43.9s\n",
            "100:\tlearn: 0.7041320\ttest: 0.6650500\tbest: 0.6650500 (100)\ttotal: 10.9s\tremaining: 1m 37s\n",
            "200:\tlearn: 0.6863556\ttest: 0.6649771\tbest: 0.6646197 (135)\ttotal: 23.6s\tremaining: 1m 33s\n",
            "Stopped by overfitting detector  (100 iterations wait)\n",
            "\n",
            "bestTest = 0.6646196646\n",
            "bestIteration = 135\n",
            "\n",
            "Shrink model to first 136 iterations.\n",
            "CV Log Loss Score: 0.664620\n",
            "\n",
            "----------------- Fold 7 -----------------\n",
            "\n",
            "Learning rate set to 0.115127\n",
            "0:\tlearn: 1.0344668\ttest: 1.0351583\tbest: 1.0351583 (0)\ttotal: 45.2ms\tremaining: 45.2s\n",
            "100:\tlearn: 0.7043844\ttest: 0.6773766\tbest: 0.6773081 (99)\ttotal: 11.1s\tremaining: 1m 38s\n",
            "200:\tlearn: 0.6856727\ttest: 0.6724504\tbest: 0.6724036 (199)\ttotal: 23.8s\tremaining: 1m 34s\n",
            "300:\tlearn: 0.6700879\ttest: 0.6716726\tbest: 0.6711978 (293)\ttotal: 36.6s\tremaining: 1m 25s\n",
            "400:\tlearn: 0.6546867\ttest: 0.6707790\tbest: 0.6705649 (363)\ttotal: 49.6s\tremaining: 1m 14s\n",
            "Stopped by overfitting detector  (100 iterations wait)\n",
            "\n",
            "bestTest = 0.6705648927\n",
            "bestIteration = 363\n",
            "\n",
            "Shrink model to first 364 iterations.\n",
            "CV Log Loss Score: 0.670565\n",
            "\n",
            "----------------- Fold 8 -----------------\n",
            "\n",
            "Learning rate set to 0.115127\n",
            "0:\tlearn: 1.0343974\ttest: 1.0356491\tbest: 1.0356491 (0)\ttotal: 43.7ms\tremaining: 43.6s\n",
            "100:\tlearn: 0.7014243\ttest: 0.6772755\tbest: 0.6772755 (100)\ttotal: 11.7s\tremaining: 1m 44s\n",
            "200:\tlearn: 0.6835537\ttest: 0.6761675\tbest: 0.6758722 (182)\ttotal: 24.3s\tremaining: 1m 36s\n",
            "300:\tlearn: 0.6674093\ttest: 0.6761082\tbest: 0.6756724 (293)\ttotal: 37.1s\tremaining: 1m 26s\n",
            "Stopped by overfitting detector  (100 iterations wait)\n",
            "\n",
            "bestTest = 0.6756724047\n",
            "bestIteration = 293\n",
            "\n",
            "Shrink model to first 294 iterations.\n",
            "CV Log Loss Score: 0.675672\n",
            "\n",
            "----------------- Fold 9 -----------------\n",
            "\n",
            "Learning rate set to 0.115127\n",
            "0:\tlearn: 1.0346158\ttest: 1.0345908\tbest: 1.0345908 (0)\ttotal: 150ms\tremaining: 2m 30s\n",
            "100:\tlearn: 0.7050350\ttest: 0.6582998\tbest: 0.6581879 (94)\ttotal: 11.3s\tremaining: 1m 40s\n",
            "200:\tlearn: 0.6874162\ttest: 0.6542934\tbest: 0.6542934 (200)\ttotal: 24.1s\tremaining: 1m 35s\n",
            "300:\tlearn: 0.6681612\ttest: 0.6540747\tbest: 0.6533469 (230)\ttotal: 36.8s\tremaining: 1m 25s\n",
            "Stopped by overfitting detector  (100 iterations wait)\n",
            "\n",
            "bestTest = 0.6533469129\n",
            "bestIteration = 230\n",
            "\n",
            "Shrink model to first 231 iterations.\n",
            "CV Log Loss Score: 0.653347\n",
            "\n",
            "----------------- Fold 10 -----------------\n",
            "\n",
            "Learning rate set to 0.115127\n",
            "0:\tlearn: 1.0345257\ttest: 1.0350898\tbest: 1.0350898 (0)\ttotal: 151ms\tremaining: 2m 31s\n",
            "100:\tlearn: 0.7042847\ttest: 0.6652339\tbest: 0.6652339 (100)\ttotal: 11.6s\tremaining: 1m 43s\n",
            "200:\tlearn: 0.6856674\ttest: 0.6635751\tbest: 0.6635751 (200)\ttotal: 24.3s\tremaining: 1m 36s\n",
            "300:\tlearn: 0.6696711\ttest: 0.6619150\tbest: 0.6619150 (300)\ttotal: 37.4s\tremaining: 1m 26s\n",
            "400:\tlearn: 0.6535764\ttest: 0.6618570\tbest: 0.6617079 (304)\ttotal: 50.3s\tremaining: 1m 15s\n",
            "Stopped by overfitting detector  (100 iterations wait)\n",
            "\n",
            "bestTest = 0.6617079127\n",
            "bestIteration = 304\n",
            "\n",
            "Shrink model to first 305 iterations.\n",
            "CV Log Loss Score: 0.661708\n",
            "\n",
            "----------------- Fold 11 -----------------\n",
            "\n",
            "Learning rate set to 0.115127\n",
            "0:\tlearn: 1.0344858\ttest: 1.0349390\tbest: 1.0349390 (0)\ttotal: 45.5ms\tremaining: 45.5s\n",
            "100:\tlearn: 0.7035599\ttest: 0.6914406\tbest: 0.6914288 (99)\ttotal: 11.2s\tremaining: 1m 39s\n",
            "200:\tlearn: 0.6867130\ttest: 0.6925049\tbest: 0.6912761 (106)\ttotal: 23.8s\tremaining: 1m 34s\n",
            "Stopped by overfitting detector  (100 iterations wait)\n",
            "\n",
            "bestTest = 0.6912760503\n",
            "bestIteration = 106\n",
            "\n",
            "Shrink model to first 107 iterations.\n",
            "CV Log Loss Score: 0.691276\n",
            "\n",
            "----------------- Fold 12 -----------------\n",
            "\n",
            "Learning rate set to 0.115127\n",
            "0:\tlearn: 1.0343901\ttest: 1.0357459\tbest: 1.0357459 (0)\ttotal: 43ms\tremaining: 42.9s\n",
            "100:\tlearn: 0.7039797\ttest: 0.6595452\tbest: 0.6595452 (100)\ttotal: 11.4s\tremaining: 1m 41s\n",
            "200:\tlearn: 0.6851464\ttest: 0.6563094\tbest: 0.6563094 (200)\ttotal: 24.2s\tremaining: 1m 36s\n",
            "300:\tlearn: 0.6692583\ttest: 0.6557886\tbest: 0.6555899 (240)\ttotal: 36.9s\tremaining: 1m 25s\n",
            "Stopped by overfitting detector  (100 iterations wait)\n",
            "\n",
            "bestTest = 0.6555899204\n",
            "bestIteration = 240\n",
            "\n",
            "Shrink model to first 241 iterations.\n",
            "CV Log Loss Score: 0.655590\n",
            "\n",
            "----------------- Fold 13 -----------------\n",
            "\n",
            "Learning rate set to 0.115127\n",
            "0:\tlearn: 1.0347707\ttest: 1.0327801\tbest: 1.0327801 (0)\ttotal: 44ms\tremaining: 43.9s\n",
            "100:\tlearn: 0.7033238\ttest: 0.6819934\tbest: 0.6818415 (98)\ttotal: 11.5s\tremaining: 1m 42s\n",
            "200:\tlearn: 0.6840621\ttest: 0.6822161\tbest: 0.6806257 (134)\ttotal: 24.3s\tremaining: 1m 36s\n",
            "Stopped by overfitting detector  (100 iterations wait)\n",
            "\n",
            "bestTest = 0.6806256745\n",
            "bestIteration = 134\n",
            "\n",
            "Shrink model to first 135 iterations.\n",
            "CV Log Loss Score: 0.680626\n",
            "\n",
            "----------------- Fold 14 -----------------\n",
            "\n",
            "Learning rate set to 0.115127\n",
            "0:\tlearn: 1.0346109\ttest: 1.0340100\tbest: 1.0340100 (0)\ttotal: 45.6ms\tremaining: 45.6s\n",
            "100:\tlearn: 0.7060487\ttest: 0.6741122\tbest: 0.6738078 (95)\ttotal: 11s\tremaining: 1m 38s\n",
            "200:\tlearn: 0.6877284\ttest: 0.6697465\tbest: 0.6697331 (199)\ttotal: 23.5s\tremaining: 1m 33s\n",
            "300:\tlearn: 0.6719482\ttest: 0.6692081\tbest: 0.6690037 (294)\ttotal: 35.9s\tremaining: 1m 23s\n",
            "400:\tlearn: 0.6544717\ttest: 0.6679327\tbest: 0.6673207 (389)\ttotal: 48.2s\tremaining: 1m 11s\n",
            "500:\tlearn: 0.6387049\ttest: 0.6674468\tbest: 0.6670119 (450)\ttotal: 1m\tremaining: 1m\n",
            "Stopped by overfitting detector  (100 iterations wait)\n",
            "\n",
            "bestTest = 0.6670118517\n",
            "bestIteration = 450\n",
            "\n",
            "Shrink model to first 451 iterations.\n",
            "CV Log Loss Score: 0.667012\n",
            "\tLog Loss: 0.664093\n"
          ]
        }
      ]
    },
    {
      "cell_type": "markdown",
      "source": [
        "### Feature Importance"
      ],
      "metadata": {
        "id": "RBUd2moRQGAz"
      }
    },
    {
      "cell_type": "code",
      "source": [
        "plot_feature_importance(model_cat.get_feature_importance(),X_test.columns,'CATBOOST')"
      ],
      "metadata": {
        "colab": {
          "base_uri": "https://localhost:8080/",
          "height": 513
        },
        "outputId": "d466514d-073d-4646-ad64-b652b5a04ba7",
        "id": "5MmnJST_QGAz"
      },
      "execution_count": null,
      "outputs": [
        {
          "output_type": "display_data",
          "data": {
            "image/png": "[encoded data removed]",
            "text/plain": [
              "<Figure size 720x576 with 1 Axes>"
            ]
          },
          "metadata": {
            "needs_background": "light"
          }
        }
      ]
    },
    {
      "cell_type": "markdown",
      "source": [
        "- n_fold가 10인 경우보다 ID 변수 설명력이 작아졌다."
      ],
      "metadata": {
        "id": "Np1x5oFNQIH7"
      }
    },
    {
      "cell_type": "markdown",
      "source": [
        "# 모델링-2 (CatBoost)\n",
        "- 설명력이 부족했던 변수를 제거\n",
        "- 클러스터링 / 정규화 진행\n",
        "- CrossValidation Parameter\n",
        "    - n_folds를 10과 15로 나누어 진행한다."
      ],
      "metadata": {
        "id": "qOokmJFb777E"
      }
    },
    {
      "cell_type": "code",
      "source": [
        "# 설명력이 부족한 변수를 제거해보자\n",
        "col = ['income_total', 'work_phone', 'email', 'DAYS_EMPLOYED_bin']\n",
        "for df in [train, test]:\n",
        "    df.drop(columns=col, inplace=True)\n",
        "    "
      ],
      "metadata": {
        "id": "JXih0byF7-FE"
      },
      "execution_count": null,
      "outputs": []
    },
    {
      "cell_type": "markdown",
      "source": [
        "### 클러스터링\n",
        "- 36개의 군집으로 나누어본다."
      ],
      "metadata": {
        "id": "nSeUuN5uHTub"
      }
    },
    {
      "cell_type": "code",
      "source": [
        "from sklearn.cluster import KMeans"
      ],
      "metadata": {
        "id": "On-YrpTCIIet"
      },
      "execution_count": null,
      "outputs": []
    },
    {
      "cell_type": "code",
      "source": [
        "kmeans_train = train.drop(['credit'], axis=1)\n",
        "kmeans = KMeans(n_clusters=36, random_state=42).fit(kmeans_train)\n",
        "train['cluster'] = kmeans.predict(kmeans_train)\n",
        "test['cluster'] = kmeans.predict(test)"
      ],
      "metadata": {
        "id": "W_iffcRHHO7T"
      },
      "execution_count": null,
      "outputs": []
    },
    {
      "cell_type": "code",
      "source": [
        "train['cluster'].value_counts()"
      ],
      "metadata": {
        "id": "Wv69kI42ItsX",
        "colab": {
          "base_uri": "https://localhost:8080/"
        },
        "outputId": "73d6f6cf-f7c0-44b0-a9b1-ea0d2a924369"
      },
      "execution_count": null,
      "outputs": [
        {
          "output_type": "execute_result",
          "data": {
            "text/plain": [
              "23    1746\n",
              "14    1455\n",
              "25    1420\n",
              "19    1364\n",
              "11    1350\n",
              "1     1314\n",
              "12    1046\n",
              "20    1035\n",
              "6     1011\n",
              "5      985\n",
              "34     915\n",
              "21     869\n",
              "27     827\n",
              "9      825\n",
              "15     808\n",
              "2      711\n",
              "16     655\n",
              "28     621\n",
              "3      582\n",
              "10     546\n",
              "18     545\n",
              "31     540\n",
              "35     540\n",
              "33     539\n",
              "0      537\n",
              "8      526\n",
              "22     500\n",
              "17     476\n",
              "29     407\n",
              "7      365\n",
              "32     360\n",
              "24     297\n",
              "13     281\n",
              "4      195\n",
              "26     167\n",
              "30      91\n",
              "Name: cluster, dtype: int64"
            ]
          },
          "metadata": {},
          "execution_count": 138
        }
      ]
    },
    {
      "cell_type": "code",
      "source": [
        "sns.countplot(data=train, x='cluster', hue='credit')"
      ],
      "metadata": {
        "id": "nR9DkxbOK1Yb",
        "colab": {
          "base_uri": "https://localhost:8080/",
          "height": 298
        },
        "outputId": "21d1578b-0531-49db-c458-cfadc023ffe0"
      },
      "execution_count": null,
      "outputs": [
        {
          "output_type": "execute_result",
          "data": {
            "text/plain": [
              "<matplotlib.axes._subplots.AxesSubplot at 0x7f2c0f585310>"
            ]
          },
          "metadata": {},
          "execution_count": 139
        },
        {
          "output_type": "display_data",
          "data": {
            "image/png": "[encoded data removed]",
            "text/plain": [
              "<Figure size 432x288 with 1 Axes>"
            ]
          },
          "metadata": {
            "needs_background": "light"
          }
        }
      ]
    },
    {
      "cell_type": "markdown",
      "source": [
        "### StandardScale\n",
        "- 평균 1, 분산 0 : N(1,0)으로 만들어준다.\n",
        "- 이미 로그변환을 마친 컬럼 제외\n",
        "- income_total, DAYS_EMOPLOYED, DAYS_BIRTH, begin_month"
      ],
      "metadata": {
        "id": "OHImHFi6JXSU"
      }
    },
    {
      "cell_type": "code",
      "source": [
        "from sklearn.preprocessing import StandardScaler\n",
        "import multiprocessing"
      ],
      "metadata": {
        "id": "BrzyS3EFL7Vb"
      },
      "execution_count": null,
      "outputs": []
    },
    {
      "cell_type": "code",
      "source": [
        "cat_col = ['income_type', 'edu_type', 'family_type', 'house_type', 'occyp_type', 'ID',\n",
        "            'DAYS_EMPLOYED_log', 'income_total_log', 'income_total', 'work_phone', 'email',\n",
        "            'DAYS_EMPLOYED_bin' ]"
      ],
      "metadata": {
        "id": "LX4ELfE8XdwS"
      },
      "execution_count": null,
      "outputs": []
    },
    {
      "cell_type": "code",
      "source": [
        "for feat in cat_col:\n",
        "    numerical_feats.remove(feat)\n",
        "\n",
        "scaler = StandardScaler()\n",
        "train[numerical_feats] = scaler.fit_transform(train[numerical_feats])\n",
        "test[numerical_feats] = scaler.transform(test[numerical_feats])"
      ],
      "metadata": {
        "id": "meU0VLBaLJ0u"
      },
      "execution_count": null,
      "outputs": []
    },
    {
      "cell_type": "markdown",
      "source": [
        "### n_fold = 10\n",
        "- Log Loss: 0.669396"
      ],
      "metadata": {
        "id": "7Kw4Ix97XQ2f"
      }
    },
    {
      "cell_type": "code",
      "source": [
        "n_est = 2000\n",
        "seed = 42\n",
        "n_fold = 10\n",
        "n_class = 3\n",
        "\n",
        "target = 'credit'\n",
        "X = train.drop(target, axis=1)\n",
        "y = train[target]\n",
        "X_test = test"
      ],
      "metadata": {
        "id": "IR8yxEcGXQ2f"
      },
      "execution_count": null,
      "outputs": []
    },
    {
      "cell_type": "code",
      "source": [
        "skfold = StratifiedKFold(n_splits=n_fold, shuffle=True, random_state=seed)\n",
        "folds=[]\n",
        "log_loss_avg = []\n",
        "\n",
        "for train_idx, valid_idx in skfold.split(X, y):\n",
        "    folds.append((train_idx, valid_idx))\n",
        "\n",
        "cat_pred = np.zeros((X.shape[0], n_class))\n",
        "cat_pred_test = np.zeros((X_test.shape[0], n_class))\n",
        "cat_cols = ['income_type', 'edu_type', 'family_type', 'house_type', 'occyp_type', 'ID']\n",
        "\n",
        "for fold in range(n_fold):\n",
        "    print(f'\\n----------------- Fold {fold} -----------------\\n')\n",
        "  \n",
        "    train_idx, valid_idx = folds[fold]\n",
        "    X_train, X_valid, y_train, y_valid = X.iloc[train_idx], X.iloc[valid_idx], y[train_idx], y[valid_idx]\n",
        "    train_data = Pool(data=X_train, label=y_train, cat_features=cat_cols)\n",
        "    valid_data = Pool(data=X_valid, label=y_valid, cat_features=cat_cols)\n",
        "    model_cat = CatBoostClassifier()\n",
        "    model_cat.fit(train_data, eval_set=valid_data, use_best_model=True, early_stopping_rounds=100, verbose=100)\n",
        "    \n",
        "    cat_pred[valid_idx] = model_cat.predict_proba(X_valid)\n",
        "    cat_pred_test += model_cat.predict_proba(X_test) / n_fold\n",
        "    print(f'CV Log Loss Score: {log_loss(y_valid, cat_pred[valid_idx]):.6f}')\n",
        "    \n",
        "print(f'\\tLog Loss: {log_loss(y, cat_pred):.6f}')\n",
        "\n",
        "\n"
      ],
      "metadata": {
        "colab": {
          "base_uri": "https://localhost:8080/"
        },
        "outputId": "ca705616-b78e-4788-c7e5-8324185a08b1",
        "id": "r4y0flSZXQ2g"
      },
      "execution_count": null,
      "outputs": [
        {
          "output_type": "stream",
          "name": "stdout",
          "text": [
            "\n",
            "----------------- Fold 0 -----------------\n",
            "\n",
            "Learning rate set to 0.115043\n",
            "0:\tlearn: 1.0358741\ttest: 1.0342023\tbest: 1.0342023 (0)\ttotal: 300ms\tremaining: 4m 59s\n",
            "100:\tlearn: 0.7059414\ttest: 0.6589508\tbest: 0.6589181 (96)\ttotal: 12s\tremaining: 1m 46s\n",
            "200:\tlearn: 0.6860390\ttest: 0.6577139\tbest: 0.6572876 (147)\ttotal: 24.5s\tremaining: 1m 37s\n",
            "300:\tlearn: 0.6677530\ttest: 0.6564003\tbest: 0.6562299 (297)\ttotal: 38s\tremaining: 1m 28s\n",
            "Stopped by overfitting detector  (100 iterations wait)\n",
            "\n",
            "bestTest = 0.6562298762\n",
            "bestIteration = 297\n",
            "\n",
            "Shrink model to first 298 iterations.\n",
            "CV Log Loss Score: 0.656230\n",
            "\n",
            "----------------- Fold 1 -----------------\n",
            "\n",
            "Learning rate set to 0.115043\n",
            "0:\tlearn: 1.0378588\ttest: 1.0390255\tbest: 1.0390255 (0)\ttotal: 98.1ms\tremaining: 1m 37s\n",
            "100:\tlearn: 0.7081581\ttest: 0.6613689\tbest: 0.6612743 (90)\ttotal: 11.5s\tremaining: 1m 42s\n",
            "200:\tlearn: 0.6890117\ttest: 0.6593983\tbest: 0.6589734 (187)\ttotal: 24.2s\tremaining: 1m 36s\n",
            "300:\tlearn: 0.6704032\ttest: 0.6602036\tbest: 0.6586399 (241)\ttotal: 46.1s\tremaining: 1m 47s\n",
            "Stopped by overfitting detector  (100 iterations wait)\n",
            "\n",
            "bestTest = 0.6586398566\n",
            "bestIteration = 241\n",
            "\n",
            "Shrink model to first 242 iterations.\n",
            "CV Log Loss Score: 0.658640\n",
            "\n",
            "----------------- Fold 2 -----------------\n",
            "\n",
            "Learning rate set to 0.115043\n",
            "0:\tlearn: 1.0378176\ttest: 1.0388838\tbest: 1.0388838 (0)\ttotal: 253ms\tremaining: 4m 12s\n",
            "100:\tlearn: 0.7067511\ttest: 0.6658158\tbest: 0.6658158 (100)\ttotal: 15.1s\tremaining: 2m 14s\n",
            "200:\tlearn: 0.6889437\ttest: 0.6619053\tbest: 0.6619053 (200)\ttotal: 27.5s\tremaining: 1m 49s\n",
            "300:\tlearn: 0.6726004\ttest: 0.6617925\tbest: 0.6616520 (237)\ttotal: 40.1s\tremaining: 1m 33s\n",
            "Stopped by overfitting detector  (100 iterations wait)\n",
            "\n",
            "bestTest = 0.661652042\n",
            "bestIteration = 237\n",
            "\n",
            "Shrink model to first 238 iterations.\n",
            "CV Log Loss Score: 0.661652\n",
            "\n",
            "----------------- Fold 3 -----------------\n",
            "\n",
            "Learning rate set to 0.115043\n",
            "0:\tlearn: 1.0380426\ttest: 1.0380447\tbest: 1.0380447 (0)\ttotal: 91.8ms\tremaining: 1m 31s\n",
            "100:\tlearn: 0.7049022\ttest: 0.6789429\tbest: 0.6787355 (94)\ttotal: 10.9s\tremaining: 1m 37s\n",
            "200:\tlearn: 0.6845196\ttest: 0.6771100\tbest: 0.6770476 (190)\ttotal: 23.4s\tremaining: 1m 33s\n",
            "300:\tlearn: 0.6683181\ttest: 0.6778403\tbest: 0.6769410 (207)\ttotal: 36.2s\tremaining: 1m 23s\n",
            "Stopped by overfitting detector  (100 iterations wait)\n",
            "\n",
            "bestTest = 0.6769410281\n",
            "bestIteration = 207\n",
            "\n",
            "Shrink model to first 208 iterations.\n",
            "CV Log Loss Score: 0.676941\n",
            "\n",
            "----------------- Fold 4 -----------------\n",
            "\n",
            "Learning rate set to 0.115043\n",
            "0:\tlearn: 1.0347608\ttest: 1.0340838\tbest: 1.0340838 (0)\ttotal: 81.4ms\tremaining: 1m 21s\n",
            "100:\tlearn: 0.7054911\ttest: 0.6702429\tbest: 0.6702429 (100)\ttotal: 12.2s\tremaining: 1m 48s\n",
            "200:\tlearn: 0.6873133\ttest: 0.6676376\tbest: 0.6676017 (199)\ttotal: 24.7s\tremaining: 1m 38s\n",
            "300:\tlearn: 0.6697816\ttest: 0.6665909\tbest: 0.6665849 (299)\ttotal: 37.5s\tremaining: 1m 27s\n",
            "400:\tlearn: 0.6536754\ttest: 0.6666810\tbest: 0.6664374 (390)\ttotal: 50.1s\tremaining: 1m 14s\n",
            "Stopped by overfitting detector  (100 iterations wait)\n",
            "\n",
            "bestTest = 0.6664373856\n",
            "bestIteration = 390\n",
            "\n",
            "Shrink model to first 391 iterations.\n",
            "CV Log Loss Score: 0.666437\n",
            "\n",
            "----------------- Fold 5 -----------------\n",
            "\n",
            "Learning rate set to 0.115043\n",
            "0:\tlearn: 1.0340128\ttest: 1.0350522\tbest: 1.0350522 (0)\ttotal: 142ms\tremaining: 2m 21s\n",
            "100:\tlearn: 0.7054938\ttest: 0.6838692\tbest: 0.6838692 (100)\ttotal: 11.5s\tremaining: 1m 42s\n",
            "200:\tlearn: 0.6868936\ttest: 0.6835132\tbest: 0.6829604 (178)\ttotal: 24s\tremaining: 1m 35s\n",
            "Stopped by overfitting detector  (100 iterations wait)\n",
            "\n",
            "bestTest = 0.6829604335\n",
            "bestIteration = 178\n",
            "\n",
            "Shrink model to first 179 iterations.\n",
            "CV Log Loss Score: 0.682960\n",
            "\n",
            "----------------- Fold 6 -----------------\n",
            "\n",
            "Learning rate set to 0.115043\n",
            "0:\tlearn: 1.0380377\ttest: 1.0379184\tbest: 1.0379184 (0)\ttotal: 79.4ms\tremaining: 1m 19s\n",
            "100:\tlearn: 0.7073458\ttest: 0.6696706\tbest: 0.6696706 (100)\ttotal: 11.1s\tremaining: 1m 38s\n",
            "200:\tlearn: 0.6884507\ttest: 0.6684667\tbest: 0.6684194 (197)\ttotal: 24.5s\tremaining: 1m 37s\n",
            "300:\tlearn: 0.6701638\ttest: 0.6682546\tbest: 0.6680450 (251)\ttotal: 36.9s\tremaining: 1m 25s\n",
            "400:\tlearn: 0.6521655\ttest: 0.6684566\tbest: 0.6680325 (383)\ttotal: 49.7s\tremaining: 1m 14s\n",
            "Stopped by overfitting detector  (100 iterations wait)\n",
            "\n",
            "bestTest = 0.6680324636\n",
            "bestIteration = 383\n",
            "\n",
            "Shrink model to first 384 iterations.\n",
            "CV Log Loss Score: 0.668032\n",
            "\n",
            "----------------- Fold 7 -----------------\n",
            "\n",
            "Learning rate set to 0.115043\n",
            "0:\tlearn: 1.0379797\ttest: 1.0384344\tbest: 1.0384344 (0)\ttotal: 85.1ms\tremaining: 1m 25s\n",
            "100:\tlearn: 0.7051304\ttest: 0.6791886\tbest: 0.6791886 (100)\ttotal: 11.1s\tremaining: 1m 38s\n",
            "200:\tlearn: 0.6846491\ttest: 0.6774961\tbest: 0.6772820 (179)\ttotal: 23.4s\tremaining: 1m 33s\n",
            "Stopped by overfitting detector  (100 iterations wait)\n",
            "\n",
            "bestTest = 0.6772819816\n",
            "bestIteration = 179\n",
            "\n",
            "Shrink model to first 180 iterations.\n",
            "CV Log Loss Score: 0.677282\n",
            "\n",
            "----------------- Fold 8 -----------------\n",
            "\n",
            "Learning rate set to 0.115043\n",
            "0:\tlearn: 1.0340580\ttest: 1.0350584\tbest: 1.0350584 (0)\ttotal: 129ms\tremaining: 2m 9s\n",
            "100:\tlearn: 0.7062327\ttest: 0.6740890\tbest: 0.6740890 (100)\ttotal: 10.9s\tremaining: 1m 37s\n",
            "200:\tlearn: 0.6868258\ttest: 0.6725227\tbest: 0.6720798 (180)\ttotal: 23.2s\tremaining: 1m 32s\n",
            "Stopped by overfitting detector  (100 iterations wait)\n",
            "\n",
            "bestTest = 0.6720797792\n",
            "bestIteration = 180\n",
            "\n",
            "Shrink model to first 181 iterations.\n",
            "CV Log Loss Score: 0.672080\n",
            "\n",
            "----------------- Fold 9 -----------------\n",
            "\n",
            "Learning rate set to 0.115043\n",
            "0:\tlearn: 1.0383838\ttest: 1.0367627\tbest: 1.0367627 (0)\ttotal: 83.3ms\tremaining: 1m 23s\n",
            "100:\tlearn: 0.7046051\ttest: 0.6759580\tbest: 0.6759265 (99)\ttotal: 10.9s\tremaining: 1m 37s\n",
            "200:\tlearn: 0.6861941\ttest: 0.6745367\tbest: 0.6741892 (193)\ttotal: 23.4s\tremaining: 1m 33s\n",
            "300:\tlearn: 0.6686689\ttest: 0.6740157\tbest: 0.6737120 (261)\ttotal: 36.1s\tremaining: 1m 23s\n",
            "Stopped by overfitting detector  (100 iterations wait)\n",
            "\n",
            "bestTest = 0.6737120231\n",
            "bestIteration = 261\n",
            "\n",
            "Shrink model to first 262 iterations.\n",
            "CV Log Loss Score: 0.673712\n",
            "\tLog Loss: 0.669396\n"
          ]
        }
      ]
    },
    {
      "cell_type": "markdown",
      "source": [
        "#### Feature Importance"
      ],
      "metadata": {
        "id": "GQYZv1LlXQ2g"
      }
    },
    {
      "cell_type": "code",
      "source": [
        "plot_feature_importance(model_cat.get_feature_importance(),X_test.columns,'CATBOOST')"
      ],
      "metadata": {
        "colab": {
          "base_uri": "https://localhost:8080/",
          "height": 513
        },
        "outputId": "3b46f216-d4fb-43f0-d421-0d2d590284ed",
        "id": "NJadA9ULXQ2g"
      },
      "execution_count": null,
      "outputs": [
        {
          "output_type": "display_data",
          "data": {
            "image/png": "[encoded data removed]",
            "text/plain": [
              "<Figure size 720x576 with 1 Axes>"
            ]
          },
          "metadata": {
            "needs_background": "light"
          }
        }
      ]
    },
    {
      "cell_type": "markdown",
      "source": [
        "### n_fold = 15\n",
        "- Log Loss : 0.665395"
      ],
      "metadata": {
        "id": "0Oi_2RkNcarU"
      }
    },
    {
      "cell_type": "code",
      "source": [
        "n_est = 2000\n",
        "seed = 42\n",
        "n_fold = 15\n",
        "n_class = 3\n",
        "\n",
        "target = 'credit'\n",
        "X = train.drop(target, axis=1)\n",
        "y = train[target]\n",
        "X_test = test"
      ],
      "metadata": {
        "id": "Mfbq7nQ0carV"
      },
      "execution_count": null,
      "outputs": []
    },
    {
      "cell_type": "code",
      "source": [
        "skfold = StratifiedKFold(n_splits=n_fold, shuffle=True, random_state=seed)\n",
        "folds=[]\n",
        "log_loss_avg = []\n",
        "\n",
        "for train_idx, valid_idx in skfold.split(X, y):\n",
        "    folds.append((train_idx, valid_idx))\n",
        "\n",
        "cat_pred = np.zeros((X.shape[0], n_class))\n",
        "cat_pred_test = np.zeros((X_test.shape[0], n_class))\n",
        "cat_cols = ['income_type', 'edu_type', 'family_type', 'house_type', 'occyp_type', 'ID']\n",
        "\n",
        "for fold in range(n_fold):\n",
        "    print(f'\\n----------------- Fold {fold} -----------------\\n')\n",
        "  \n",
        "    train_idx, valid_idx = folds[fold]\n",
        "    X_train, X_valid, y_train, y_valid = X.iloc[train_idx], X.iloc[valid_idx], y[train_idx], y[valid_idx]\n",
        "    train_data = Pool(data=X_train, label=y_train, cat_features=cat_cols)\n",
        "    valid_data = Pool(data=X_valid, label=y_valid, cat_features=cat_cols)\n",
        "    model_cat = CatBoostClassifier()\n",
        "    model_cat.fit(train_data, eval_set=valid_data, use_best_model=True, early_stopping_rounds=100, verbose=100)\n",
        "    \n",
        "    cat_pred[valid_idx] = model_cat.predict_proba(X_valid)\n",
        "    cat_pred_test += model_cat.predict_proba(X_test) / n_fold\n",
        "    print(f'CV Log Loss Score: {log_loss(y_valid, cat_pred[valid_idx]):.6f}')\n",
        "    \n",
        "print(f'\\tLog Loss: {log_loss(y, cat_pred):.6f}')\n",
        "\n",
        "\n"
      ],
      "metadata": {
        "colab": {
          "base_uri": "https://localhost:8080/"
        },
        "outputId": "ad8b9407-9663-451f-f3e8-b55613db2397",
        "id": "XQRZNZfjcarV"
      },
      "execution_count": null,
      "outputs": [
        {
          "output_type": "stream",
          "name": "stdout",
          "text": [
            "\n",
            "----------------- Fold 0 -----------------\n",
            "\n",
            "Learning rate set to 0.115127\n",
            "0:\tlearn: 1.0348881\ttest: 1.0336665\tbest: 1.0336665 (0)\ttotal: 144ms\tremaining: 2m 23s\n",
            "100:\tlearn: 0.7056921\ttest: 0.6419577\tbest: 0.6419425 (95)\ttotal: 11.5s\tremaining: 1m 41s\n",
            "200:\tlearn: 0.6868178\ttest: 0.6395174\tbest: 0.6395174 (200)\ttotal: 30.9s\tremaining: 2m 2s\n",
            "300:\tlearn: 0.6691743\ttest: 0.6396400\tbest: 0.6391660 (275)\ttotal: 45.3s\tremaining: 1m 45s\n",
            "400:\tlearn: 0.6529950\ttest: 0.6394316\tbest: 0.6387545 (381)\ttotal: 58.3s\tremaining: 1m 27s\n",
            "Stopped by overfitting detector  (100 iterations wait)\n",
            "\n",
            "bestTest = 0.6387544707\n",
            "bestIteration = 381\n",
            "\n",
            "Shrink model to first 382 iterations.\n",
            "CV Log Loss Score: 0.638754\n",
            "\n",
            "----------------- Fold 1 -----------------\n",
            "\n",
            "Learning rate set to 0.115127\n",
            "0:\tlearn: 1.0347871\ttest: 1.0340401\tbest: 1.0340401 (0)\ttotal: 136ms\tremaining: 2m 16s\n",
            "100:\tlearn: 0.7041998\ttest: 0.6733554\tbest: 0.6731291 (82)\ttotal: 11.6s\tremaining: 1m 43s\n",
            "200:\tlearn: 0.6859933\ttest: 0.6712444\tbest: 0.6711024 (146)\ttotal: 24.3s\tremaining: 1m 36s\n",
            "Stopped by overfitting detector  (100 iterations wait)\n",
            "\n",
            "bestTest = 0.671102379\n",
            "bestIteration = 146\n",
            "\n",
            "Shrink model to first 147 iterations.\n",
            "CV Log Loss Score: 0.671102\n",
            "\n",
            "----------------- Fold 2 -----------------\n",
            "\n",
            "Learning rate set to 0.115127\n",
            "0:\tlearn: 1.0346580\ttest: 1.0353491\tbest: 1.0353491 (0)\ttotal: 147ms\tremaining: 2m 26s\n",
            "100:\tlearn: 0.7052365\ttest: 0.6516501\tbest: 0.6513670 (94)\ttotal: 11.4s\tremaining: 1m 41s\n",
            "200:\tlearn: 0.6876338\ttest: 0.6508311\tbest: 0.6505415 (195)\ttotal: 23.7s\tremaining: 1m 34s\n",
            "300:\tlearn: 0.6717974\ttest: 0.6520697\tbest: 0.6503907 (223)\ttotal: 36.5s\tremaining: 1m 24s\n",
            "Stopped by overfitting detector  (100 iterations wait)\n",
            "\n",
            "bestTest = 0.650390678\n",
            "bestIteration = 223\n",
            "\n",
            "Shrink model to first 224 iterations.\n",
            "CV Log Loss Score: 0.650391\n",
            "\n",
            "----------------- Fold 3 -----------------\n",
            "\n",
            "Learning rate set to 0.115127\n",
            "0:\tlearn: 1.0346017\ttest: 1.0361967\tbest: 1.0361967 (0)\ttotal: 146ms\tremaining: 2m 25s\n",
            "100:\tlearn: 0.7041504\ttest: 0.6542031\tbest: 0.6541899 (99)\ttotal: 11.3s\tremaining: 1m 40s\n",
            "200:\tlearn: 0.6862345\ttest: 0.6516039\tbest: 0.6513199 (182)\ttotal: 23.8s\tremaining: 1m 34s\n",
            "300:\tlearn: 0.6687357\ttest: 0.6506944\tbest: 0.6506944 (300)\ttotal: 36.3s\tremaining: 1m 24s\n",
            "400:\tlearn: 0.6501467\ttest: 0.6495334\tbest: 0.6488996 (380)\ttotal: 48.9s\tremaining: 1m 12s\n",
            "Stopped by overfitting detector  (100 iterations wait)\n",
            "\n",
            "bestTest = 0.648899649\n",
            "bestIteration = 380\n",
            "\n",
            "Shrink model to first 381 iterations.\n",
            "CV Log Loss Score: 0.648900\n",
            "\n",
            "----------------- Fold 4 -----------------\n",
            "\n",
            "Learning rate set to 0.115127\n",
            "0:\tlearn: 1.0347537\ttest: 1.0347088\tbest: 1.0347088 (0)\ttotal: 139ms\tremaining: 2m 19s\n",
            "100:\tlearn: 0.7031732\ttest: 0.6695091\tbest: 0.6693409 (94)\ttotal: 11.5s\tremaining: 1m 42s\n",
            "200:\tlearn: 0.6857198\ttest: 0.6696339\tbest: 0.6688496 (112)\ttotal: 24s\tremaining: 1m 35s\n",
            "Stopped by overfitting detector  (100 iterations wait)\n",
            "\n",
            "bestTest = 0.6688496444\n",
            "bestIteration = 112\n",
            "\n",
            "Shrink model to first 113 iterations.\n",
            "CV Log Loss Score: 0.668850\n",
            "\n",
            "----------------- Fold 5 -----------------\n",
            "\n",
            "Learning rate set to 0.115127\n",
            "0:\tlearn: 1.0348602\ttest: 1.0339321\tbest: 1.0339321 (0)\ttotal: 147ms\tremaining: 2m 26s\n",
            "100:\tlearn: 0.7032127\ttest: 0.6771368\tbest: 0.6771368 (100)\ttotal: 11.2s\tremaining: 1m 39s\n",
            "200:\tlearn: 0.6849707\ttest: 0.6762755\tbest: 0.6760436 (189)\ttotal: 23.9s\tremaining: 1m 34s\n",
            "300:\tlearn: 0.6678330\ttest: 0.6758291\tbest: 0.6754136 (291)\ttotal: 36.6s\tremaining: 1m 24s\n",
            "400:\tlearn: 0.6508439\ttest: 0.6749396\tbest: 0.6745908 (349)\ttotal: 49s\tremaining: 1m 13s\n",
            "Stopped by overfitting detector  (100 iterations wait)\n",
            "\n",
            "bestTest = 0.6745908047\n",
            "bestIteration = 349\n",
            "\n",
            "Shrink model to first 350 iterations.\n",
            "CV Log Loss Score: 0.674591\n",
            "\n",
            "----------------- Fold 6 -----------------\n",
            "\n",
            "Learning rate set to 0.115127\n",
            "0:\tlearn: 1.0347400\ttest: 1.0329931\tbest: 1.0329931 (0)\ttotal: 80.1ms\tremaining: 1m 20s\n",
            "100:\tlearn: 0.7048823\ttest: 0.6662982\tbest: 0.6662982 (100)\ttotal: 10.7s\tremaining: 1m 34s\n",
            "200:\tlearn: 0.6848836\ttest: 0.6636395\tbest: 0.6636330 (199)\ttotal: 23.3s\tremaining: 1m 32s\n",
            "300:\tlearn: 0.6682851\ttest: 0.6633761\tbest: 0.6627989 (273)\ttotal: 35.9s\tremaining: 1m 23s\n",
            "400:\tlearn: 0.6514204\ttest: 0.6623834\tbest: 0.6622133 (388)\ttotal: 48.6s\tremaining: 1m 12s\n",
            "500:\tlearn: 0.6361757\ttest: 0.6624848\tbest: 0.6621368 (490)\ttotal: 1m 1s\tremaining: 1m\n",
            "Stopped by overfitting detector  (100 iterations wait)\n",
            "\n",
            "bestTest = 0.662136773\n",
            "bestIteration = 490\n",
            "\n",
            "Shrink model to first 491 iterations.\n",
            "CV Log Loss Score: 0.662137\n",
            "\n",
            "----------------- Fold 7 -----------------\n",
            "\n",
            "Learning rate set to 0.115127\n",
            "0:\tlearn: 1.0345038\ttest: 1.0349878\tbest: 1.0349878 (0)\ttotal: 80ms\tremaining: 1m 19s\n",
            "100:\tlearn: 0.7044116\ttest: 0.6819053\tbest: 0.6819046 (99)\ttotal: 11.3s\tremaining: 1m 40s\n",
            "200:\tlearn: 0.6838363\ttest: 0.6791832\tbest: 0.6790747 (198)\ttotal: 24.1s\tremaining: 1m 35s\n",
            "300:\tlearn: 0.6679877\ttest: 0.6782228\tbest: 0.6781578 (278)\ttotal: 37.2s\tremaining: 1m 26s\n",
            "400:\tlearn: 0.6510632\ttest: 0.6779609\tbest: 0.6773848 (321)\ttotal: 51.9s\tremaining: 1m 17s\n",
            "Stopped by overfitting detector  (100 iterations wait)\n",
            "\n",
            "bestTest = 0.677384819\n",
            "bestIteration = 321\n",
            "\n",
            "Shrink model to first 322 iterations.\n",
            "CV Log Loss Score: 0.677385\n",
            "\n",
            "----------------- Fold 8 -----------------\n",
            "\n",
            "Learning rate set to 0.115127\n",
            "0:\tlearn: 1.0344463\ttest: 1.0357136\tbest: 1.0357136 (0)\ttotal: 68.1ms\tremaining: 1m 8s\n",
            "100:\tlearn: 0.7022647\ttest: 0.6784176\tbest: 0.6784176 (100)\ttotal: 11.1s\tremaining: 1m 38s\n",
            "200:\tlearn: 0.6832287\ttest: 0.6788326\tbest: 0.6776262 (119)\ttotal: 23.8s\tremaining: 1m 34s\n",
            "Stopped by overfitting detector  (100 iterations wait)\n",
            "\n",
            "bestTest = 0.6776262395\n",
            "bestIteration = 119\n",
            "\n",
            "Shrink model to first 120 iterations.\n",
            "CV Log Loss Score: 0.677626\n",
            "\n",
            "----------------- Fold 9 -----------------\n",
            "\n",
            "Learning rate set to 0.115127\n",
            "0:\tlearn: 1.0345689\ttest: 1.0344203\tbest: 1.0344203 (0)\ttotal: 133ms\tremaining: 2m 13s\n",
            "100:\tlearn: 0.7046068\ttest: 0.6562644\tbest: 0.6562644 (100)\ttotal: 12.1s\tremaining: 1m 47s\n",
            "200:\tlearn: 0.6846893\ttest: 0.6540021\tbest: 0.6538546 (190)\ttotal: 25.1s\tremaining: 1m 39s\n",
            "300:\tlearn: 0.6676311\ttest: 0.6531471\tbest: 0.6531471 (300)\ttotal: 37.9s\tremaining: 1m 28s\n",
            "400:\tlearn: 0.6505897\ttest: 0.6522671\tbest: 0.6518976 (388)\ttotal: 50.9s\tremaining: 1m 16s\n",
            "500:\tlearn: 0.6360556\ttest: 0.6532257\tbest: 0.6517733 (454)\ttotal: 1m 3s\tremaining: 1m 3s\n",
            "Stopped by overfitting detector  (100 iterations wait)\n",
            "\n",
            "bestTest = 0.651773343\n",
            "bestIteration = 454\n",
            "\n",
            "Shrink model to first 455 iterations.\n",
            "CV Log Loss Score: 0.651773\n",
            "\n",
            "----------------- Fold 10 -----------------\n",
            "\n",
            "Learning rate set to 0.115127\n",
            "0:\tlearn: 1.0345159\ttest: 1.0345744\tbest: 1.0345744 (0)\ttotal: 65.7ms\tremaining: 1m 5s\n",
            "100:\tlearn: 0.7042392\ttest: 0.6681843\tbest: 0.6681807 (95)\ttotal: 11.1s\tremaining: 1m 38s\n",
            "200:\tlearn: 0.6856379\ttest: 0.6632113\tbest: 0.6632113 (200)\ttotal: 23.9s\tremaining: 1m 35s\n",
            "300:\tlearn: 0.6691123\ttest: 0.6630825\tbest: 0.6628899 (255)\ttotal: 37.1s\tremaining: 1m 26s\n",
            "400:\tlearn: 0.6525233\ttest: 0.6619427\tbest: 0.6619186 (384)\ttotal: 50.1s\tremaining: 1m 14s\n",
            "500:\tlearn: 0.6364011\ttest: 0.6627028\tbest: 0.6615288 (411)\ttotal: 1m 3s\tremaining: 1m 2s\n",
            "Stopped by overfitting detector  (100 iterations wait)\n",
            "\n",
            "bestTest = 0.6615287996\n",
            "bestIteration = 411\n",
            "\n",
            "Shrink model to first 412 iterations.\n",
            "CV Log Loss Score: 0.661529\n",
            "\n",
            "----------------- Fold 11 -----------------\n",
            "\n",
            "Learning rate set to 0.115127\n",
            "0:\tlearn: 1.0345209\ttest: 1.0349660\tbest: 1.0349660 (0)\ttotal: 84.7ms\tremaining: 1m 24s\n",
            "100:\tlearn: 0.7034245\ttest: 0.6905434\tbest: 0.6904818 (98)\ttotal: 11.4s\tremaining: 1m 41s\n",
            "200:\tlearn: 0.6851292\ttest: 0.6905430\tbest: 0.6895671 (120)\ttotal: 24s\tremaining: 1m 35s\n",
            "Stopped by overfitting detector  (100 iterations wait)\n",
            "\n",
            "bestTest = 0.6895670751\n",
            "bestIteration = 120\n",
            "\n",
            "Shrink model to first 121 iterations.\n",
            "CV Log Loss Score: 0.689567\n",
            "\n",
            "----------------- Fold 12 -----------------\n",
            "\n",
            "Learning rate set to 0.115127\n",
            "0:\tlearn: 1.0344326\ttest: 1.0357920\tbest: 1.0357920 (0)\ttotal: 107ms\tremaining: 1m 47s\n",
            "100:\tlearn: 0.7044283\ttest: 0.6591611\tbest: 0.6591237 (99)\ttotal: 11.4s\tremaining: 1m 41s\n",
            "200:\tlearn: 0.6852973\ttest: 0.6575288\tbest: 0.6568678 (172)\ttotal: 23.9s\tremaining: 1m 35s\n",
            "Stopped by overfitting detector  (100 iterations wait)\n",
            "\n",
            "bestTest = 0.6568677633\n",
            "bestIteration = 172\n",
            "\n",
            "Shrink model to first 173 iterations.\n",
            "CV Log Loss Score: 0.656868\n",
            "\n",
            "----------------- Fold 13 -----------------\n",
            "\n",
            "Learning rate set to 0.115127\n",
            "0:\tlearn: 1.0348230\ttest: 1.0328165\tbest: 1.0328165 (0)\ttotal: 61.3ms\tremaining: 1m 1s\n",
            "100:\tlearn: 0.7031021\ttest: 0.6825577\tbest: 0.6825348 (99)\ttotal: 11.1s\tremaining: 1m 38s\n",
            "200:\tlearn: 0.6841747\ttest: 0.6828918\tbest: 0.6813529 (141)\ttotal: 23.9s\tremaining: 1m 35s\n",
            "Stopped by overfitting detector  (100 iterations wait)\n",
            "\n",
            "bestTest = 0.6813529066\n",
            "bestIteration = 141\n",
            "\n",
            "Shrink model to first 142 iterations.\n",
            "CV Log Loss Score: 0.681353\n",
            "\n",
            "----------------- Fold 14 -----------------\n",
            "\n",
            "Learning rate set to 0.115127\n",
            "0:\tlearn: 1.0346565\ttest: 1.0340549\tbest: 1.0340549 (0)\ttotal: 87.8ms\tremaining: 1m 27s\n",
            "100:\tlearn: 0.7057145\ttest: 0.6732960\tbest: 0.6732960 (100)\ttotal: 11.1s\tremaining: 1m 39s\n",
            "200:\tlearn: 0.6868846\ttest: 0.6703518\tbest: 0.6701154 (159)\ttotal: 23.6s\tremaining: 1m 33s\n",
            "Stopped by overfitting detector  (100 iterations wait)\n",
            "\n",
            "bestTest = 0.6701153682\n",
            "bestIteration = 159\n",
            "\n",
            "Shrink model to first 160 iterations.\n",
            "CV Log Loss Score: 0.670115\n",
            "\tLog Loss: 0.665395\n"
          ]
        }
      ]
    },
    {
      "cell_type": "markdown",
      "source": [
        "#### Feature Importance"
      ],
      "metadata": {
        "id": "h3JjwhcAcarV"
      }
    },
    {
      "cell_type": "code",
      "source": [
        "plot_feature_importance(model_cat.get_feature_importance(),X_test.columns,'CATBOOST')"
      ],
      "metadata": {
        "colab": {
          "base_uri": "https://localhost:8080/",
          "height": 513
        },
        "outputId": "8af4dc3d-67d6-4d73-cba6-0cee9783ed0f",
        "id": "Dcgat4iecarW"
      },
      "execution_count": null,
      "outputs": [
        {
          "output_type": "display_data",
          "data": {
            "image/png": "[encoded data removed]",
            "text/plain": [
              "<Figure size 720x576 with 1 Axes>"
            ]
          },
          "metadata": {
            "needs_background": "light"
          }
        }
      ]
    },
    {
      "cell_type": "markdown",
      "source": [
        "# feature_set_3 후기\n",
        "- occyp_type : 직업분류\n",
        "    - 직업 분류의 설명력 또한 모든 모델링에서 높이 측정되었다.\n",
        "    - rawData의 결측치는 이 변수에 몰빵되어 있었다.\n",
        "    - 결측치의 절반 이상은 income_type과 연관되어 있었고, 정당한 이유로 결측치를 대체했던 것이 높은 설명력의 원인이 된 것 같다.\n",
        "    "
      ],
      "metadata": {
        "id": "yjPaiEnCfRB4"
      }
    },
    {
      "cell_type": "markdown",
      "source": [
        "# Submission"
      ],
      "metadata": {
        "id": "6ut3QjyRn-AK"
      }
    },
    {
      "cell_type": "code",
      "source": [
        "sub = pd.read_csv('/content/drive/MyDrive/data/credit/rawData/sample_submission.csv')"
      ],
      "metadata": {
        "id": "GwWbw-ddnx3_"
      },
      "execution_count": null,
      "outputs": []
    },
    {
      "cell_type": "code",
      "source": [
        "sub.iloc[:, 1:] = cat_pred_test"
      ],
      "metadata": {
        "id": "wS8Ba-ukoum8"
      },
      "execution_count": null,
      "outputs": []
    },
    {
      "cell_type": "code",
      "source": [
        "sub"
      ],
      "metadata": {
        "colab": {
          "base_uri": "https://localhost:8080/",
          "height": 423
        },
        "id": "hd-suhl-o7EV",
        "outputId": "6b5031e2-4dff-4841-b5cb-c6843981c8d0"
      },
      "execution_count": null,
      "outputs": [
        {
          "output_type": "execute_result",
          "data": {
            "text/html": [
              "\n",
              "  <div id=\"df-ba5e5104-b835-4ce8-877c-e6123774de22\">\n",
              "    <div class=\"colab-df-container\">\n",
              "      <div>\n",
              "<style scoped>\n",
              "    .dataframe tbody tr th:only-of-type {\n",
              "        vertical-align: middle;\n",
              "    }\n",
              "\n",
              "    .dataframe tbody tr th {\n",
              "        vertical-align: top;\n",
              "    }\n",
              "\n",
              "    .dataframe thead th {\n",
              "        text-align: right;\n",
              "    }\n",
              "</style>\n",
              "<table border=\"1\" class=\"dataframe\">\n",
              "  <thead>\n",
              "    <tr style=\"text-align: right;\">\n",
              "      <th></th>\n",
              "      <th>index</th>\n",
              "      <th>0</th>\n",
              "      <th>1</th>\n",
              "      <th>2</th>\n",
              "    </tr>\n",
              "  </thead>\n",
              "  <tbody>\n",
              "    <tr>\n",
              "      <th>0</th>\n",
              "      <td>26457</td>\n",
              "      <td>0.123848</td>\n",
              "      <td>0.158012</td>\n",
              "      <td>0.718140</td>\n",
              "    </tr>\n",
              "    <tr>\n",
              "      <th>1</th>\n",
              "      <td>26458</td>\n",
              "      <td>0.353239</td>\n",
              "      <td>0.201522</td>\n",
              "      <td>0.445239</td>\n",
              "    </tr>\n",
              "    <tr>\n",
              "      <th>2</th>\n",
              "      <td>26459</td>\n",
              "      <td>0.038361</td>\n",
              "      <td>0.069863</td>\n",
              "      <td>0.891776</td>\n",
              "    </tr>\n",
              "    <tr>\n",
              "      <th>3</th>\n",
              "      <td>26460</td>\n",
              "      <td>0.052590</td>\n",
              "      <td>0.085654</td>\n",
              "      <td>0.861756</td>\n",
              "    </tr>\n",
              "    <tr>\n",
              "      <th>4</th>\n",
              "      <td>26461</td>\n",
              "      <td>0.082865</td>\n",
              "      <td>0.247818</td>\n",
              "      <td>0.669318</td>\n",
              "    </tr>\n",
              "    <tr>\n",
              "      <th>...</th>\n",
              "      <td>...</td>\n",
              "      <td>...</td>\n",
              "      <td>...</td>\n",
              "      <td>...</td>\n",
              "    </tr>\n",
              "    <tr>\n",
              "      <th>9995</th>\n",
              "      <td>36452</td>\n",
              "      <td>0.073124</td>\n",
              "      <td>0.222610</td>\n",
              "      <td>0.704266</td>\n",
              "    </tr>\n",
              "    <tr>\n",
              "      <th>9996</th>\n",
              "      <td>36453</td>\n",
              "      <td>0.310683</td>\n",
              "      <td>0.188832</td>\n",
              "      <td>0.500485</td>\n",
              "    </tr>\n",
              "    <tr>\n",
              "      <th>9997</th>\n",
              "      <td>36454</td>\n",
              "      <td>0.047204</td>\n",
              "      <td>0.109072</td>\n",
              "      <td>0.843724</td>\n",
              "    </tr>\n",
              "    <tr>\n",
              "      <th>9998</th>\n",
              "      <td>36455</td>\n",
              "      <td>0.153709</td>\n",
              "      <td>0.302546</td>\n",
              "      <td>0.543745</td>\n",
              "    </tr>\n",
              "    <tr>\n",
              "      <th>9999</th>\n",
              "      <td>36456</td>\n",
              "      <td>0.074599</td>\n",
              "      <td>0.425133</td>\n",
              "      <td>0.500268</td>\n",
              "    </tr>\n",
              "  </tbody>\n",
              "</table>\n",
              "<p>10000 rows × 4 columns</p>\n",
              "</div>\n",
              "      <button class=\"colab-df-convert\" onclick=\"convertToInteractive('df-ba5e5104-b835-4ce8-877c-e6123774de22')\"\n",
              "              title=\"Convert this dataframe to an interactive table.\"\n",
              "              style=\"display:none;\">\n",
              "        \n",
              "  <svg xmlns=\"http://www.w3.org/2000/svg\" height=\"24px\"viewBox=\"0 0 24 24\"\n",
              "       width=\"24px\">\n",
              "    <path d=\"M0 0h24v24H0V0z\" fill=\"none\"/>\n",
              "    <path d=\"M18.56 5.44l.94 2.06.94-2.06 2.06-.94-2.06-.94-.94-2.06-.94 2.06-2.06.94zm-11 1L8.5 8.5l.94-2.06 2.06-.94-2.06-.94L8.5 2.5l-.94 2.06-2.06.94zm10 10l.94 2.06.94-2.06 2.06-.94-2.06-.94-.94-2.06-.94 2.06-2.06.94z\"/><path d=\"M17.41 7.96l-1.37-1.37c-.4-.4-.92-.59-1.43-.59-.52 0-1.04.2-1.43.59L10.3 9.45l-7.72 7.72c-.78.78-.78 2.05 0 2.83L4 21.41c.39.39.9.59 1.41.59.51 0 1.02-.2 1.41-.59l7.78-7.78 2.81-2.81c.8-.78.8-2.07 0-2.86zM5.41 20L4 18.59l7.72-7.72 1.47 1.35L5.41 20z\"/>\n",
              "  </svg>\n",
              "      </button>\n",
              "      \n",
              "  <style>\n",
              "    .colab-df-container {\n",
              "      display:flex;\n",
              "      flex-wrap:wrap;\n",
              "      gap: 12px;\n",
              "    }\n",
              "\n",
              "    .colab-df-convert {\n",
              "      background-color: #E8F0FE;\n",
              "      border: none;\n",
              "      border-radius: 50%;\n",
              "      cursor: pointer;\n",
              "      display: none;\n",
              "      fill: #1967D2;\n",
              "      height: 32px;\n",
              "      padding: 0 0 0 0;\n",
              "      width: 32px;\n",
              "    }\n",
              "\n",
              "    .colab-df-convert:hover {\n",
              "      background-color: #E2EBFA;\n",
              "      box-shadow: 0px 1px 2px rgba(60, 64, 67, 0.3), 0px 1px 3px 1px rgba(60, 64, 67, 0.15);\n",
              "      fill: #174EA6;\n",
              "    }\n",
              "\n",
              "    [theme=dark] .colab-df-convert {\n",
              "      background-color: #3B4455;\n",
              "      fill: #D2E3FC;\n",
              "    }\n",
              "\n",
              "    [theme=dark] .colab-df-convert:hover {\n",
              "      background-color: #434B5C;\n",
              "      box-shadow: 0px 1px 3px 1px rgba(0, 0, 0, 0.15);\n",
              "      filter: drop-shadow(0px 1px 2px rgba(0, 0, 0, 0.3));\n",
              "      fill: #FFFFFF;\n",
              "    }\n",
              "  </style>\n",
              "\n",
              "      <script>\n",
              "        const buttonEl =\n",
              "          document.querySelector('#df-ba5e5104-b835-4ce8-877c-e6123774de22 button.colab-df-convert');\n",
              "        buttonEl.style.display =\n",
              "          google.colab.kernel.accessAllowed ? 'block' : 'none';\n",
              "\n",
              "        async function convertToInteractive(key) {\n",
              "          const element = document.querySelector('#df-ba5e5104-b835-4ce8-877c-e6123774de22');\n",
              "          const dataTable =\n",
              "            await google.colab.kernel.invokeFunction('convertToInteractive',\n",
              "                                                     [key], {});\n",
              "          if (!dataTable) return;\n",
              "\n",
              "          const docLinkHtml = 'Like what you see? Visit the ' +\n",
              "            '<a target=\"_blank\" href=https://colab.research.google.com/notebooks/data_table.ipynb>data table notebook</a>'\n",
              "            + ' to learn more about interactive tables.';\n",
              "          element.innerHTML = '';\n",
              "          dataTable['output_type'] = 'display_data';\n",
              "          await google.colab.output.renderOutput(dataTable, element);\n",
              "          const docLink = document.createElement('div');\n",
              "          docLink.innerHTML = docLinkHtml;\n",
              "          element.appendChild(docLink);\n",
              "        }\n",
              "      </script>\n",
              "    </div>\n",
              "  </div>\n",
              "  "
            ],
            "text/plain": [
              "      index         0         1         2\n",
              "0     26457  0.123848  0.158012  0.718140\n",
              "1     26458  0.353239  0.201522  0.445239\n",
              "2     26459  0.038361  0.069863  0.891776\n",
              "3     26460  0.052590  0.085654  0.861756\n",
              "4     26461  0.082865  0.247818  0.669318\n",
              "...     ...       ...       ...       ...\n",
              "9995  36452  0.073124  0.222610  0.704266\n",
              "9996  36453  0.310683  0.188832  0.500485\n",
              "9997  36454  0.047204  0.109072  0.843724\n",
              "9998  36455  0.153709  0.302546  0.543745\n",
              "9999  36456  0.074599  0.425133  0.500268\n",
              "\n",
              "[10000 rows x 4 columns]"
            ]
          },
          "metadata": {},
          "execution_count": 153
        }
      ]
    },
    {
      "cell_type": "code",
      "source": [
        "sub.to_csv('/content/drive/MyDrive/data/credit/submission/submission_feature_set_3_M1_2_nfold_15.csv', index=False)"
      ],
      "metadata": {
        "id": "2WjZHy5lo9eT"
      },
      "execution_count": null,
      "outputs": []
    }
  ]
}