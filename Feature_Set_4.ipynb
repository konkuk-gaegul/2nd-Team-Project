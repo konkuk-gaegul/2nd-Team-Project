{
  "nbformat": 4,
  "nbformat_minor": 0,
  "metadata": {
    "colab": {
      "name": "Feature_Set_4.ipynb",
      "provenance": [],
      "collapsed_sections": [],
      "toc_visible": true,
      "mount_file_id": "1ITkEu6Tf6-NA8wESt4RB7zzEcnIq76Nm",
      "authorship_tag": "ABX9TyP6izSHQbbwvsBhaRo1oS+n",
      "include_colab_link": true
    },
    "kernelspec": {
      "name": "python3",
      "display_name": "Python 3"
    },
    "language_info": {
      "name": "python"
    },
    "accelerator": "TPU"
  },
  "cells": [
    {
      "cell_type": "markdown",
      "metadata": {
        "id": "view-in-github",
        "colab_type": "text"
      },
      "source": [
        "<a href=\"https://colab.research.google.com/github/konkuk-gaegul/2nd-Team-Project/blob/main/Feature_Set_4.ipynb\" target=\"_parent\"><img src=\"https://colab.research.google.com/assets/colab-badge.svg\" alt=\"Open In Colab\"/></a>"
      ]
    },
    {
      "cell_type": "markdown",
      "source": [
        "# 라이브러리"
      ],
      "metadata": {
        "id": "2CaK4HvEGNaf"
      }
    },
    {
      "cell_type": "code",
      "source": [
        "%tensorflow_version 2.x\n",
        "import tensorflow as tf\n",
        "print(\"Tensorflow version \" + tf.__version__)\n",
        "\n",
        "try:\n",
        "  tpu = tf.distribute.cluster_resolver.TPUClusterResolver()  # TPU detection\n",
        "  print('Running on TPU ', tpu.cluster_spec().as_dict()['worker'])\n",
        "except ValueError:\n",
        "  raise BaseException('ERROR: Not connected to a TPU runtime; please see the previous cell in this notebook for instructions!')\n",
        "\n",
        "tf.config.experimental_connect_to_cluster(tpu)\n",
        "tf.tpu.experimental.initialize_tpu_system(tpu)\n",
        "tpu_strategy = tf.distribute.experimental.TPUStrategy(tpu)"
      ],
      "metadata": {
        "id": "6tVpy-z1r2sf"
      },
      "execution_count": null,
      "outputs": []
    },
    {
      "cell_type": "code",
      "execution_count": null,
      "metadata": {
        "id": "_9jdyBLoF6XZ"
      },
      "outputs": [],
      "source": [
        "!pip install lightgbm\n",
        "!pip install xgboost\n",
        "!pip install eli5 shap catboost\n",
        "!pip install optuna"
      ]
    },
    {
      "cell_type": "code",
      "source": [
        "import tensorflow as tf\n",
        "\n",
        "from lightgbm import LGBMClassifier\n",
        "from sklearn.preprocessing import OneHotEncoder, OrdinalEncoder\n",
        "from sklearn.model_selection import cross_validate\n",
        "\n",
        "import warnings\n",
        "warnings.filterwarnings('always')\n",
        "warnings.filterwarnings('ignore')\n",
        "\n",
        "import numpy as np\n",
        "import pandas as pd\n",
        "\n",
        "import matplotlib.pyplot as plt\n",
        "import seaborn as sns\n",
        "\n",
        "from sklearn import datasets\n",
        "\n",
        "# ML\n",
        "from sklearn.svm import SVC, SVR\n",
        "from sklearn.neighbors import KNeighborsClassifier, KNeighborsRegressor\n",
        "from sklearn.linear_model import LinearRegression, LogisticRegression\n",
        "from sklearn.tree import DecisionTreeClassifier, DecisionTreeRegressor\n",
        "\n",
        "# ensemble(bagging)\n",
        "from sklearn.ensemble import ( \n",
        "  BaggingClassifier, BaggingRegressor, RandomForestClassifier, RandomForestRegressor\n",
        ")\n",
        "\n",
        "#ensemble(boosting)\n",
        "import xgboost as xgb\n",
        "import lightgbm as lgb\n",
        "import catboost as cb\n",
        "\n",
        "#stacking\n",
        "from sklearn.pipeline import make_pipeline\n",
        "from sklearn.ensemble import StackingClassifier, StackingRegressor\n",
        "\n",
        "# 평가\n",
        "from sklearn.metrics import r2_score, mean_absolute_error, mean_squared_error\n",
        "from sklearn.metrics import accuracy_score, f1_score, roc_auc_score, roc_curve, classification_report\n",
        "\n",
        "# 교차검증\n",
        "from sklearn.model_selection import (\n",
        "  KFold, StratifiedKFold, RepeatedStratifiedKFold, cross_val_score, GridSearchCV, train_test_split\n",
        ")\n",
        "\n",
        "# Feature Selection\n",
        "from sklearn.feature_selection import RFE, RFECV\n",
        "\n",
        "# 시각화(SVM은 회귀계수가 나오지 않습니다.)\n",
        "import eli5\n",
        "from eli5.sklearn import PermutationImportance\n",
        "import shap\n",
        "\n",
        "# 트리 시각화\n",
        "import graphviz\n",
        "\n",
        "# 인코딩\n",
        "from category_encoders.ordinal import OrdinalEncoder\n",
        "from sklearn.preprocessing import LabelEncoder"
      ],
      "metadata": {
        "id": "1ILqmSmCGBJW"
      },
      "execution_count": null,
      "outputs": []
    },
    {
      "cell_type": "markdown",
      "source": [
        "# feature_set_4\n",
        "- 기존 고득점 세트였던 feature_set_2 참조\n",
        "- CatBoost는 Categorical feature의 중요도가 높다고 판단\n",
        "    - gender, car, reality 등 6개 Category 변수를 조합\n",
        "        - 파생변수 'G_C_R' , 'I_O_E' , 'F_H' 생성\n",
        "- Optuna Library를 이용하여 최적의 CatBoost HyperParameter를 찾아보자\n",
        "    - 구글 코랩 환경에서 메모리 부족으로 셧다운\n",
        "    - AWS GPU를 사용하여 모델링하였음"
      ],
      "metadata": {
        "id": "_o88jLKQ9Zhd"
      }
    },
    {
      "cell_type": "markdown",
      "source": [
        "## 전처리 및 데이터 가공"
      ],
      "metadata": {
        "id": "y-SZQt5VeaVo"
      }
    },
    {
      "cell_type": "markdown",
      "source": [
        "### 전처리에 이용되는 함수"
      ],
      "metadata": {
        "id": "oPCCdrETHObS"
      }
    },
    {
      "cell_type": "code",
      "source": [
        "# day를 year로 변경해주는 함수\n",
        "def days_to_year(x):\n",
        "    return (x*-1)/365\n",
        "\n",
        "# 마이너스 변환\n",
        "def minus(x):\n",
        "    return x * -1"
      ],
      "metadata": {
        "id": "y6pyJdodHN-c"
      },
      "execution_count": null,
      "outputs": []
    },
    {
      "cell_type": "markdown",
      "source": [
        "### 파생변수, 가중치, 전처리\n",
        "- categorical\n",
        "- numerical"
      ],
      "metadata": {
        "id": "JFbFodJeUcIC"
      }
    },
    {
      "cell_type": "code",
      "source": [
        "train_path = '/content/drive/MyDrive/data/credit/rawData/train.csv'\n",
        "test_path = '/content/drive/MyDrive/data/credit/rawData/test.csv'"
      ],
      "metadata": {
        "id": "f_B93H1cCkEp"
      },
      "execution_count": null,
      "outputs": []
    },
    {
      "cell_type": "code",
      "source": [
        "train = pd.read_csv(train_path)\n",
        "test = pd.read_csv(test_path)"
      ],
      "metadata": {
        "id": "5b62qqfYLDwO"
      },
      "execution_count": null,
      "outputs": []
    },
    {
      "cell_type": "code",
      "source": [
        "train.head(2)"
      ],
      "metadata": {
        "colab": {
          "base_uri": "https://localhost:8080/",
          "height": 246
        },
        "id": "2Qjb8z4lL7PL",
        "outputId": "24c0d983-5cd0-4df2-d011-ef8e976d7824"
      },
      "execution_count": null,
      "outputs": [
        {
          "output_type": "execute_result",
          "data": {
            "text/html": [
              "\n",
              "  <div id=\"df-2c6785bf-1f67-4dea-b177-18a7b61cf87f\">\n",
              "    <div class=\"colab-df-container\">\n",
              "      <div>\n",
              "<style scoped>\n",
              "    .dataframe tbody tr th:only-of-type {\n",
              "        vertical-align: middle;\n",
              "    }\n",
              "\n",
              "    .dataframe tbody tr th {\n",
              "        vertical-align: top;\n",
              "    }\n",
              "\n",
              "    .dataframe thead th {\n",
              "        text-align: right;\n",
              "    }\n",
              "</style>\n",
              "<table border=\"1\" class=\"dataframe\">\n",
              "  <thead>\n",
              "    <tr style=\"text-align: right;\">\n",
              "      <th></th>\n",
              "      <th>index</th>\n",
              "      <th>gender</th>\n",
              "      <th>car</th>\n",
              "      <th>reality</th>\n",
              "      <th>child_num</th>\n",
              "      <th>income_total</th>\n",
              "      <th>income_type</th>\n",
              "      <th>edu_type</th>\n",
              "      <th>family_type</th>\n",
              "      <th>house_type</th>\n",
              "      <th>DAYS_BIRTH</th>\n",
              "      <th>DAYS_EMPLOYED</th>\n",
              "      <th>FLAG_MOBIL</th>\n",
              "      <th>work_phone</th>\n",
              "      <th>phone</th>\n",
              "      <th>email</th>\n",
              "      <th>occyp_type</th>\n",
              "      <th>family_size</th>\n",
              "      <th>begin_month</th>\n",
              "      <th>credit</th>\n",
              "    </tr>\n",
              "  </thead>\n",
              "  <tbody>\n",
              "    <tr>\n",
              "      <th>0</th>\n",
              "      <td>0</td>\n",
              "      <td>F</td>\n",
              "      <td>N</td>\n",
              "      <td>N</td>\n",
              "      <td>0</td>\n",
              "      <td>202500.0</td>\n",
              "      <td>Commercial associate</td>\n",
              "      <td>Higher education</td>\n",
              "      <td>Married</td>\n",
              "      <td>Municipal apartment</td>\n",
              "      <td>-13899</td>\n",
              "      <td>-4709</td>\n",
              "      <td>1</td>\n",
              "      <td>0</td>\n",
              "      <td>0</td>\n",
              "      <td>0</td>\n",
              "      <td>NaN</td>\n",
              "      <td>2.0</td>\n",
              "      <td>-6.0</td>\n",
              "      <td>1.0</td>\n",
              "    </tr>\n",
              "    <tr>\n",
              "      <th>1</th>\n",
              "      <td>1</td>\n",
              "      <td>F</td>\n",
              "      <td>N</td>\n",
              "      <td>Y</td>\n",
              "      <td>1</td>\n",
              "      <td>247500.0</td>\n",
              "      <td>Commercial associate</td>\n",
              "      <td>Secondary / secondary special</td>\n",
              "      <td>Civil marriage</td>\n",
              "      <td>House / apartment</td>\n",
              "      <td>-11380</td>\n",
              "      <td>-1540</td>\n",
              "      <td>1</td>\n",
              "      <td>0</td>\n",
              "      <td>0</td>\n",
              "      <td>1</td>\n",
              "      <td>Laborers</td>\n",
              "      <td>3.0</td>\n",
              "      <td>-5.0</td>\n",
              "      <td>1.0</td>\n",
              "    </tr>\n",
              "  </tbody>\n",
              "</table>\n",
              "</div>\n",
              "      <button class=\"colab-df-convert\" onclick=\"convertToInteractive('df-2c6785bf-1f67-4dea-b177-18a7b61cf87f')\"\n",
              "              title=\"Convert this dataframe to an interactive table.\"\n",
              "              style=\"display:none;\">\n",
              "        \n",
              "  <svg xmlns=\"http://www.w3.org/2000/svg\" height=\"24px\"viewBox=\"0 0 24 24\"\n",
              "       width=\"24px\">\n",
              "    <path d=\"M0 0h24v24H0V0z\" fill=\"none\"/>\n",
              "    <path d=\"M18.56 5.44l.94 2.06.94-2.06 2.06-.94-2.06-.94-.94-2.06-.94 2.06-2.06.94zm-11 1L8.5 8.5l.94-2.06 2.06-.94-2.06-.94L8.5 2.5l-.94 2.06-2.06.94zm10 10l.94 2.06.94-2.06 2.06-.94-2.06-.94-.94-2.06-.94 2.06-2.06.94z\"/><path d=\"M17.41 7.96l-1.37-1.37c-.4-.4-.92-.59-1.43-.59-.52 0-1.04.2-1.43.59L10.3 9.45l-7.72 7.72c-.78.78-.78 2.05 0 2.83L4 21.41c.39.39.9.59 1.41.59.51 0 1.02-.2 1.41-.59l7.78-7.78 2.81-2.81c.8-.78.8-2.07 0-2.86zM5.41 20L4 18.59l7.72-7.72 1.47 1.35L5.41 20z\"/>\n",
              "  </svg>\n",
              "      </button>\n",
              "      \n",
              "  <style>\n",
              "    .colab-df-container {\n",
              "      display:flex;\n",
              "      flex-wrap:wrap;\n",
              "      gap: 12px;\n",
              "    }\n",
              "\n",
              "    .colab-df-convert {\n",
              "      background-color: #E8F0FE;\n",
              "      border: none;\n",
              "      border-radius: 50%;\n",
              "      cursor: pointer;\n",
              "      display: none;\n",
              "      fill: #1967D2;\n",
              "      height: 32px;\n",
              "      padding: 0 0 0 0;\n",
              "      width: 32px;\n",
              "    }\n",
              "\n",
              "    .colab-df-convert:hover {\n",
              "      background-color: #E2EBFA;\n",
              "      box-shadow: 0px 1px 2px rgba(60, 64, 67, 0.3), 0px 1px 3px 1px rgba(60, 64, 67, 0.15);\n",
              "      fill: #174EA6;\n",
              "    }\n",
              "\n",
              "    [theme=dark] .colab-df-convert {\n",
              "      background-color: #3B4455;\n",
              "      fill: #D2E3FC;\n",
              "    }\n",
              "\n",
              "    [theme=dark] .colab-df-convert:hover {\n",
              "      background-color: #434B5C;\n",
              "      box-shadow: 0px 1px 3px 1px rgba(0, 0, 0, 0.15);\n",
              "      filter: drop-shadow(0px 1px 2px rgba(0, 0, 0, 0.3));\n",
              "      fill: #FFFFFF;\n",
              "    }\n",
              "  </style>\n",
              "\n",
              "      <script>\n",
              "        const buttonEl =\n",
              "          document.querySelector('#df-2c6785bf-1f67-4dea-b177-18a7b61cf87f button.colab-df-convert');\n",
              "        buttonEl.style.display =\n",
              "          google.colab.kernel.accessAllowed ? 'block' : 'none';\n",
              "\n",
              "        async function convertToInteractive(key) {\n",
              "          const element = document.querySelector('#df-2c6785bf-1f67-4dea-b177-18a7b61cf87f');\n",
              "          const dataTable =\n",
              "            await google.colab.kernel.invokeFunction('convertToInteractive',\n",
              "                                                     [key], {});\n",
              "          if (!dataTable) return;\n",
              "\n",
              "          const docLinkHtml = 'Like what you see? Visit the ' +\n",
              "            '<a target=\"_blank\" href=https://colab.research.google.com/notebooks/data_table.ipynb>data table notebook</a>'\n",
              "            + ' to learn more about interactive tables.';\n",
              "          element.innerHTML = '';\n",
              "          dataTable['output_type'] = 'display_data';\n",
              "          await google.colab.output.renderOutput(dataTable, element);\n",
              "          const docLink = document.createElement('div');\n",
              "          docLink.innerHTML = docLinkHtml;\n",
              "          element.appendChild(docLink);\n",
              "        }\n",
              "      </script>\n",
              "    </div>\n",
              "  </div>\n",
              "  "
            ],
            "text/plain": [
              "   index gender car reality  ...  occyp_type  family_size begin_month credit\n",
              "0      0      F   N       N  ...         NaN          2.0        -6.0    1.0\n",
              "1      1      F   N       Y  ...    Laborers          3.0        -5.0    1.0\n",
              "\n",
              "[2 rows x 20 columns]"
            ]
          },
          "metadata": {},
          "execution_count": 14
        }
      ]
    },
    {
      "cell_type": "code",
      "source": [
        "train = pd.read_csv(train_path)\n",
        "test = pd.read_csv(test_path)\n",
        "# ------------------------------------------------------------------- #\n",
        "def categoric(df):\n",
        "\n",
        "# 1. 의미없는 변수 제거 : index, FLAG_MOBIL, child_num\n",
        "    df.drop(['index', 'FLAG_MOBIL', 'child_num'], axis=1, inplace = True)\n",
        "\n",
        "# 2. 이상치 처리\n",
        "    # 가족수 9명 이상, 6개 자료 삭제 및 인덱스 재설정 \n",
        "    df = df[ ( df['family_size'] <= 7 ) ]\n",
        "    df = df.reset_index(drop=True)\n",
        "\n",
        "# 3. 결측치 처리\n",
        "    # 첫 째, 결측치 & 근무일이 양수 & 연금수령자 인 경우 retiree(퇴직자)\n",
        "    # 둘 째, 결측치 & 근무일이 음수인 경우 다양한 income_type 분포로 인해 No response처리\n",
        "    df.loc[ (df.occyp_type.isna() == True) & (df.DAYS_EMPLOYED > 0) & \n",
        "           (df.income_type == 'Pensioner') , 'occyp_type' ] = 'retiree'\n",
        "    df['DAYS_EMPLOYED'] = df[ 'DAYS_EMPLOYED' ].map(lambda x: 0 if x>0 else x)\n",
        "    df.occyp_type.fillna('No response', inplace=True) \n",
        "\n",
        "# 4. 새로운 변수 ID열 생성 : 한 사람이 다수의 카드를 발급 받았을 경우\n",
        "    df['ID'] = \\\n",
        "    df['income_total'].astype(str) + '_' +\\\n",
        "    df['DAYS_BIRTH'].astype(str) + '_' + df['DAYS_EMPLOYED'].astype(str) + '_' +\\\n",
        "    df['work_phone'].astype(str) + '_' + df['phone'].astype(str) + '_' +\\\n",
        "    df['email'].astype(str) + '_' + df['family_size'].astype(str) + '_' +\\\n",
        "    df['gender'].astype(str) + '_' + df['car'].astype(str) + '_' +\\\n",
        "    df['reality'].astype(str) + '_' + df['income_type'].astype(str) + '_' +\\\n",
        "    df['edu_type'].astype(str) + '_' + df['family_type'].astype(str) + '_' +\\\n",
        "    df['house_type'].astype(str) + '_' + df['occyp_type'].astype(str)\n",
        "\n",
        "# 5. gender+car+reality 변수 : 자산\n",
        "    df['G_C_R'] = \\\n",
        "    df['gender'] + '_' + df['car'] + '_' + df['reality']\n",
        "\n",
        "# 6. income_type+occyp_type+edu_type 변수 : 경제 활동\n",
        "    df['I_O_E'] = \\\n",
        "    df['income_type'] + '_' + df['occyp_type'] + '_' + df['edu_type']\n",
        "\n",
        "# 7. family_type+house_type : 가정 환경\n",
        "    df['F_H'] = \\\n",
        "    df['family_type'] + '_' + df['house_type']\n",
        "\n",
        "    return df\n",
        "# ------------------------------------------------------------------- #"
      ],
      "metadata": {
        "id": "CxyLeJ7oTEdM"
      },
      "execution_count": null,
      "outputs": []
    },
    {
      "cell_type": "code",
      "source": [
        "train = categoric(train)\n",
        "test  = categoric(test)"
      ],
      "metadata": {
        "id": "SZyayCkzTKBK"
      },
      "execution_count": null,
      "outputs": []
    },
    {
      "cell_type": "code",
      "source": [
        "train.head(2)"
      ],
      "metadata": {
        "colab": {
          "base_uri": "https://localhost:8080/",
          "height": 246
        },
        "id": "hbM2pApvUh7A",
        "outputId": "1b294257-1ae9-453c-f623-8707e4c95ad5"
      },
      "execution_count": null,
      "outputs": [
        {
          "output_type": "execute_result",
          "data": {
            "text/html": [
              "\n",
              "  <div id=\"df-93cd28a1-6ba0-4a43-80e4-1142b02da3ea\">\n",
              "    <div class=\"colab-df-container\">\n",
              "      <div>\n",
              "<style scoped>\n",
              "    .dataframe tbody tr th:only-of-type {\n",
              "        vertical-align: middle;\n",
              "    }\n",
              "\n",
              "    .dataframe tbody tr th {\n",
              "        vertical-align: top;\n",
              "    }\n",
              "\n",
              "    .dataframe thead th {\n",
              "        text-align: right;\n",
              "    }\n",
              "</style>\n",
              "<table border=\"1\" class=\"dataframe\">\n",
              "  <thead>\n",
              "    <tr style=\"text-align: right;\">\n",
              "      <th></th>\n",
              "      <th>gender</th>\n",
              "      <th>car</th>\n",
              "      <th>reality</th>\n",
              "      <th>income_total</th>\n",
              "      <th>income_type</th>\n",
              "      <th>edu_type</th>\n",
              "      <th>family_type</th>\n",
              "      <th>house_type</th>\n",
              "      <th>DAYS_BIRTH</th>\n",
              "      <th>DAYS_EMPLOYED</th>\n",
              "      <th>work_phone</th>\n",
              "      <th>phone</th>\n",
              "      <th>email</th>\n",
              "      <th>occyp_type</th>\n",
              "      <th>family_size</th>\n",
              "      <th>begin_month</th>\n",
              "      <th>credit</th>\n",
              "      <th>ID</th>\n",
              "      <th>G_C_R</th>\n",
              "      <th>I_O_E</th>\n",
              "      <th>F_H</th>\n",
              "    </tr>\n",
              "  </thead>\n",
              "  <tbody>\n",
              "    <tr>\n",
              "      <th>0</th>\n",
              "      <td>F</td>\n",
              "      <td>N</td>\n",
              "      <td>N</td>\n",
              "      <td>202500.0</td>\n",
              "      <td>Commercial associate</td>\n",
              "      <td>Higher education</td>\n",
              "      <td>Married</td>\n",
              "      <td>Municipal apartment</td>\n",
              "      <td>-13899</td>\n",
              "      <td>-4709</td>\n",
              "      <td>0</td>\n",
              "      <td>0</td>\n",
              "      <td>0</td>\n",
              "      <td>No response</td>\n",
              "      <td>2.0</td>\n",
              "      <td>-6.0</td>\n",
              "      <td>1.0</td>\n",
              "      <td>202500.0_-13899_-4709_0_0_0_2.0_F_N_N_Commerci...</td>\n",
              "      <td>F_N_N</td>\n",
              "      <td>Commercial associate_No response_Higher education</td>\n",
              "      <td>Married_Municipal apartment</td>\n",
              "    </tr>\n",
              "    <tr>\n",
              "      <th>1</th>\n",
              "      <td>F</td>\n",
              "      <td>N</td>\n",
              "      <td>Y</td>\n",
              "      <td>247500.0</td>\n",
              "      <td>Commercial associate</td>\n",
              "      <td>Secondary / secondary special</td>\n",
              "      <td>Civil marriage</td>\n",
              "      <td>House / apartment</td>\n",
              "      <td>-11380</td>\n",
              "      <td>-1540</td>\n",
              "      <td>0</td>\n",
              "      <td>0</td>\n",
              "      <td>1</td>\n",
              "      <td>Laborers</td>\n",
              "      <td>3.0</td>\n",
              "      <td>-5.0</td>\n",
              "      <td>1.0</td>\n",
              "      <td>247500.0_-11380_-1540_0_0_1_3.0_F_N_Y_Commerci...</td>\n",
              "      <td>F_N_Y</td>\n",
              "      <td>Commercial associate_Laborers_Secondary / seco...</td>\n",
              "      <td>Civil marriage_House / apartment</td>\n",
              "    </tr>\n",
              "  </tbody>\n",
              "</table>\n",
              "</div>\n",
              "      <button class=\"colab-df-convert\" onclick=\"convertToInteractive('df-93cd28a1-6ba0-4a43-80e4-1142b02da3ea')\"\n",
              "              title=\"Convert this dataframe to an interactive table.\"\n",
              "              style=\"display:none;\">\n",
              "        \n",
              "  <svg xmlns=\"http://www.w3.org/2000/svg\" height=\"24px\"viewBox=\"0 0 24 24\"\n",
              "       width=\"24px\">\n",
              "    <path d=\"M0 0h24v24H0V0z\" fill=\"none\"/>\n",
              "    <path d=\"M18.56 5.44l.94 2.06.94-2.06 2.06-.94-2.06-.94-.94-2.06-.94 2.06-2.06.94zm-11 1L8.5 8.5l.94-2.06 2.06-.94-2.06-.94L8.5 2.5l-.94 2.06-2.06.94zm10 10l.94 2.06.94-2.06 2.06-.94-2.06-.94-.94-2.06-.94 2.06-2.06.94z\"/><path d=\"M17.41 7.96l-1.37-1.37c-.4-.4-.92-.59-1.43-.59-.52 0-1.04.2-1.43.59L10.3 9.45l-7.72 7.72c-.78.78-.78 2.05 0 2.83L4 21.41c.39.39.9.59 1.41.59.51 0 1.02-.2 1.41-.59l7.78-7.78 2.81-2.81c.8-.78.8-2.07 0-2.86zM5.41 20L4 18.59l7.72-7.72 1.47 1.35L5.41 20z\"/>\n",
              "  </svg>\n",
              "      </button>\n",
              "      \n",
              "  <style>\n",
              "    .colab-df-container {\n",
              "      display:flex;\n",
              "      flex-wrap:wrap;\n",
              "      gap: 12px;\n",
              "    }\n",
              "\n",
              "    .colab-df-convert {\n",
              "      background-color: #E8F0FE;\n",
              "      border: none;\n",
              "      border-radius: 50%;\n",
              "      cursor: pointer;\n",
              "      display: none;\n",
              "      fill: #1967D2;\n",
              "      height: 32px;\n",
              "      padding: 0 0 0 0;\n",
              "      width: 32px;\n",
              "    }\n",
              "\n",
              "    .colab-df-convert:hover {\n",
              "      background-color: #E2EBFA;\n",
              "      box-shadow: 0px 1px 2px rgba(60, 64, 67, 0.3), 0px 1px 3px 1px rgba(60, 64, 67, 0.15);\n",
              "      fill: #174EA6;\n",
              "    }\n",
              "\n",
              "    [theme=dark] .colab-df-convert {\n",
              "      background-color: #3B4455;\n",
              "      fill: #D2E3FC;\n",
              "    }\n",
              "\n",
              "    [theme=dark] .colab-df-convert:hover {\n",
              "      background-color: #434B5C;\n",
              "      box-shadow: 0px 1px 3px 1px rgba(0, 0, 0, 0.15);\n",
              "      filter: drop-shadow(0px 1px 2px rgba(0, 0, 0, 0.3));\n",
              "      fill: #FFFFFF;\n",
              "    }\n",
              "  </style>\n",
              "\n",
              "      <script>\n",
              "        const buttonEl =\n",
              "          document.querySelector('#df-93cd28a1-6ba0-4a43-80e4-1142b02da3ea button.colab-df-convert');\n",
              "        buttonEl.style.display =\n",
              "          google.colab.kernel.accessAllowed ? 'block' : 'none';\n",
              "\n",
              "        async function convertToInteractive(key) {\n",
              "          const element = document.querySelector('#df-93cd28a1-6ba0-4a43-80e4-1142b02da3ea');\n",
              "          const dataTable =\n",
              "            await google.colab.kernel.invokeFunction('convertToInteractive',\n",
              "                                                     [key], {});\n",
              "          if (!dataTable) return;\n",
              "\n",
              "          const docLinkHtml = 'Like what you see? Visit the ' +\n",
              "            '<a target=\"_blank\" href=https://colab.research.google.com/notebooks/data_table.ipynb>data table notebook</a>'\n",
              "            + ' to learn more about interactive tables.';\n",
              "          element.innerHTML = '';\n",
              "          dataTable['output_type'] = 'display_data';\n",
              "          await google.colab.output.renderOutput(dataTable, element);\n",
              "          const docLink = document.createElement('div');\n",
              "          docLink.innerHTML = docLinkHtml;\n",
              "          element.appendChild(docLink);\n",
              "        }\n",
              "      </script>\n",
              "    </div>\n",
              "  </div>\n",
              "  "
            ],
            "text/plain": [
              "  gender  ...                               F_H\n",
              "0      F  ...       Married_Municipal apartment\n",
              "1      F  ...  Civil marriage_House / apartment\n",
              "\n",
              "[2 rows x 21 columns]"
            ]
          },
          "metadata": {},
          "execution_count": 17
        }
      ]
    },
    {
      "cell_type": "code",
      "source": [
        "# ------------------------------------------------------------------- #\n",
        "def numeric(df):\n",
        "\n",
        "# 1. 음수자료를 양수로 변환\n",
        "    feats = ['DAYS_BIRTH', 'begin_month', 'DAYS_EMPLOYED']\n",
        "    for feat in feats:\n",
        "        df[feat] = np.abs(df[feat])\n",
        "\n",
        "# 3. income_total 가중치 (numerical EDA 참조)\n",
        "    df['income_weight']=df.income_total**2\n",
        "    df['income_age']=df.income_total*df.DAYS_BIRTH\n",
        "    df['income_emp']=df.income_total*df.DAYS_EMPLOYED\n",
        "    df['income_total'] = df['income_total']/10000\n",
        "    df['income_total_dev'] = (df['income_total'] - df['income_total'].mean())**2 # 편차제곱\n",
        "    df['income_total_log'] = df['income_total'].apply(np.log1p)                  # 로그변환\n",
        "\n",
        "# 4. DAYS_EMPLOYED 가중치\n",
        "    df['DAYS_EMPLOYED_log'] = df['DAYS_EMPLOYED'].apply(np.log1p) # 로그 변환\n",
        "    df['DAYS_EMPLOYED_before'] = df['DAYS_BIRTH'] - df['DAYS_EMPLOYED'] # 로그 변환\n",
        "    \n",
        "# 5. type 변환\n",
        "    df.income_total = df.income_total.astype(int)\n",
        "    df.family_size = df.family_size.astype(int)\n",
        "    df.begin_month = df.begin_month.astype(int)\n",
        "\n",
        "# 6. 파생변수\n",
        "    df['income_weight'] = 1/(df.income_weight)**3\n",
        "    df['DAYS_BIRTH_cubic'] = df.DAYS_BIRTH**3\n",
        "    df['DAYS_BIRTH_weight'] = 1/(df.DAYS_BIRTH)**2\n",
        "    df['income_family'] = df.income_total / df.family_size\n",
        "    return df\n",
        "# ------------------------------------------------------------------- #"
      ],
      "metadata": {
        "id": "FG9JnkAGiW4s"
      },
      "execution_count": null,
      "outputs": []
    },
    {
      "cell_type": "markdown",
      "source": [
        "### 인코딩"
      ],
      "metadata": {
        "id": "kv8ZE0SzJHlF"
      }
    },
    {
      "cell_type": "code",
      "source": [
        "# ID 인코딩\n",
        "numerical_feats = train.dtypes[train.dtypes != \"object\"].index.tolist()\n",
        "numerical_feats.remove('credit')\n",
        "print(\"Number of Numerical features: \", len(numerical_feats))\n",
        "\n",
        "categorical_feats = train.dtypes[train.dtypes == \"object\"].index.tolist()\n",
        "print(\"Number of Categorical features: \", len(categorical_feats))"
      ],
      "metadata": {
        "colab": {
          "base_uri": "https://localhost:8080/"
        },
        "id": "0TR0UrQBYiXQ",
        "outputId": "faf1c467-6218-4196-89b0-79fcebbf4083"
      },
      "execution_count": null,
      "outputs": [
        {
          "output_type": "stream",
          "name": "stdout",
          "text": [
            "Number of Numerical features:  30\n",
            "Number of Categorical features:  0\n"
          ]
        }
      ]
    },
    {
      "cell_type": "code",
      "source": [
        "numerical_feats"
      ],
      "metadata": {
        "colab": {
          "base_uri": "https://localhost:8080/"
        },
        "id": "bnb144ImWbv8",
        "outputId": "19ca7b0a-6f71-4921-a1d4-fa986a97f049"
      },
      "execution_count": null,
      "outputs": [
        {
          "output_type": "execute_result",
          "data": {
            "text/plain": [
              "['income_total',\n",
              " 'DAYS_BIRTH',\n",
              " 'DAYS_EMPLOYED',\n",
              " 'work_phone',\n",
              " 'phone',\n",
              " 'email',\n",
              " 'family_size',\n",
              " 'begin_month']"
            ]
          },
          "metadata": {},
          "execution_count": 19
        }
      ]
    },
    {
      "cell_type": "code",
      "source": [
        "categorical_feats"
      ],
      "metadata": {
        "colab": {
          "base_uri": "https://localhost:8080/"
        },
        "id": "08WKcXWRJ9qI",
        "outputId": "48c64493-c6cc-49d7-a971-72b4a6ae9ece"
      },
      "execution_count": null,
      "outputs": [
        {
          "output_type": "execute_result",
          "data": {
            "text/plain": [
              "['gender',\n",
              " 'car',\n",
              " 'reality',\n",
              " 'income_type',\n",
              " 'edu_type',\n",
              " 'family_type',\n",
              " 'house_type',\n",
              " 'occyp_type',\n",
              " 'ID',\n",
              " 'G_C_R',\n",
              " 'I_O_E',\n",
              " 'F_H']"
            ]
          },
          "metadata": {},
          "execution_count": 20
        }
      ]
    },
    {
      "cell_type": "code",
      "source": [
        "encoder = OrdinalEncoder(categorical_feats)\n",
        "train[categorical_feats] = encoder.fit_transform(train[categorical_feats], train['credit'])\n",
        "test[categorical_feats] = encoder.transform(test[categorical_feats])\n",
        "\n",
        "train['ID'] = train['ID'].astype('int64')\n",
        "test['ID'] = test['ID'].astype('int64')"
      ],
      "metadata": {
        "id": "baGFjxNOYpLP"
      },
      "execution_count": null,
      "outputs": []
    },
    {
      "cell_type": "code",
      "source": [
        "categorical_feats"
      ],
      "metadata": {
        "colab": {
          "base_uri": "https://localhost:8080/"
        },
        "id": "zW0cCvJxleqX",
        "outputId": "e7a25b7b-eb31-4a2c-821a-4473db467d60"
      },
      "execution_count": null,
      "outputs": [
        {
          "output_type": "execute_result",
          "data": {
            "text/plain": [
              "[]"
            ]
          },
          "metadata": {},
          "execution_count": 26
        }
      ]
    },
    {
      "cell_type": "code",
      "source": [
        "train = numeric(train)\n",
        "test  = numeric(test)"
      ],
      "metadata": {
        "id": "I67E2K_qThlE"
      },
      "execution_count": null,
      "outputs": []
    },
    {
      "cell_type": "markdown",
      "source": [
        "### Clustering"
      ],
      "metadata": {
        "id": "wf-nBlUuXN-Z"
      }
    },
    {
      "cell_type": "code",
      "source": [
        "from sklearn.cluster import KMeans"
      ],
      "metadata": {
        "id": "On-YrpTCIIet"
      },
      "execution_count": null,
      "outputs": []
    },
    {
      "cell_type": "code",
      "source": [
        "kmeans_train = train.drop(['credit'], axis=1)\n",
        "kmeans = KMeans(n_clusters=36, random_state=42).fit(kmeans_train)\n",
        "train['cluster'] = kmeans.predict(kmeans_train)\n",
        "test['cluster'] = kmeans.predict(test)"
      ],
      "metadata": {
        "id": "W_iffcRHHO7T"
      },
      "execution_count": null,
      "outputs": []
    },
    {
      "cell_type": "code",
      "source": [
        "train['cluster'].value_counts()"
      ],
      "metadata": {
        "id": "Wv69kI42ItsX"
      },
      "execution_count": null,
      "outputs": []
    },
    {
      "cell_type": "code",
      "source": [
        "sns.countplot(data=train, x='cluster', hue='credit')"
      ],
      "metadata": {
        "id": "nR9DkxbOK1Yb"
      },
      "execution_count": null,
      "outputs": []
    },
    {
      "cell_type": "markdown",
      "source": [
        "### StandardScaling\n",
        "- 이미 로그변환한 열은 제외한다.\n",
        "- gender, car, reality 등 categorical feat은 제외\n",
        "    - CatBoost의 parameter 중 하나인 cat_feature에는 int 또는 str만 입력 가능"
      ],
      "metadata": {
        "id": "yhx87yd2XPuq"
      }
    },
    {
      "cell_type": "code",
      "source": [
        "from sklearn.preprocessing import StandardScaler\n",
        "import multiprocessing"
      ],
      "metadata": {
        "id": "TjCutIsyZB8H"
      },
      "execution_count": null,
      "outputs": []
    },
    {
      "cell_type": "markdown",
      "metadata": {
        "id": "c3c1cc4d"
      },
      "source": [
        "# Optuna\n",
        "- Best HyperParameter 튜닝\n",
        "    - 구글 코랩 환경은 메모리 부족\n",
        "    - AWS 쥬피터 노트북으로 실행\n",
        "        - GPU는 상당히 빨리 처리한다..."
      ]
    },
    {
      "cell_type": "code",
      "execution_count": null,
      "metadata": {
        "id": "9fd2e886"
      },
      "outputs": [],
      "source": [
        "import warnings\n",
        "warnings.filterwarnings('ignore')\n",
        "\n",
        "import glob\n",
        "import pandas as pd\n",
        "import numpy as np\n",
        "\n",
        "from catboost import CatBoostClassifier\n",
        "from sklearn.model_selection import StratifiedKFold,train_test_split\n",
        "from sklearn.metrics import log_loss\n",
        "from sklearn.preprocessing import OneHotEncoder\n",
        "import random\n",
        "\n",
        "import optuna\n",
        "from optuna.samplers import TPESampler"
      ]
    },
    {
      "cell_type": "code",
      "execution_count": null,
      "metadata": {
        "id": "3d3d8e87"
      },
      "outputs": [],
      "source": [
        "#Optuna용 Train셋\n",
        "X = train.drop(['credit'],axis=1)\n",
        "y = train['credit']\n",
        "X_test = test.copy()"
      ]
    },
    {
      "cell_type": "code",
      "execution_count": null,
      "metadata": {
        "id": "bb394006"
      },
      "outputs": [],
      "source": [
        "def objective(trial):\n",
        "  param = {\n",
        "      \"random_state\":42,\n",
        "      'learning_rate' : trial.suggest_loguniform('learning_rate', 0.01, 0.3),\n",
        "      'bagging_temperature' :trial.suggest_loguniform('bagging_temperature', 0.01, 100.00),\n",
        "      \"n_estimators\":trial.suggest_int(\"n_estimators\", 1000, 10000),\n",
        "      \"max_depth\":trial.suggest_int(\"max_depth\", 4, 16),\n",
        "      'random_strength' :trial.suggest_int('random_strength', 0, 100),\n",
        "      \"colsample_bylevel\":trial.suggest_float(\"colsample_bylevel\", 0.4, 1.0),\n",
        "      \"l2_leaf_reg\":trial.suggest_float(\"l2_leaf_reg\",1e-8,3e-5),\n",
        "      \"min_child_samples\": trial.suggest_int(\"min_child_samples\", 5, 100),\n",
        "      \"max_bin\": trial.suggest_int(\"max_bin\", 200, 500),\n",
        "      'od_type': trial.suggest_categorical('od_type', ['IncToDec', 'Iter']),\n",
        "  }\n",
        "\n",
        "  X_train, X_valid, y_train, y_valid = train_test_split(X,y,test_size=0.2)\n",
        "  \n",
        "  cat_features =['gender','car','reality','income_type', 'edu_type', 'family_type',\n",
        "                 'house_type', 'occyp_type', 'ID', 'F_H']\n",
        "  cat = CatBoostClassifier(**param)\n",
        "  cat.fit(X_train, y_train,\n",
        "          eval_set=[(X_train, y_train), (X_valid,y_valid)],\n",
        "          early_stopping_rounds=35,cat_features=cat_features,\n",
        "          verbose=100)\n",
        "  cat_pred = cat.predict_proba(X_valid)\n",
        "  log_score = log_loss(y_valid, cat_pred)\n",
        "\n",
        "  return log_score"
      ]
    },
    {
      "cell_type": "code",
      "execution_count": null,
      "metadata": {
        "scrolled": true,
        "id": "34541074",
        "outputId": "799bb9e0-6b77-422c-e982-78b0f74cf20a"
      },
      "outputs": [
        {
          "name": "stderr",
          "output_type": "stream",
          "text": [
            "\u001b[32m[I 2022-03-03 16:30:08,048]\u001b[0m A new study created in memory with name: cat_parameter_opt\u001b[0m\n"
          ]
        },
        {
          "name": "stdout",
          "output_type": "stream",
          "text": [
            "0:\tlearn: 1.0828775\ttest: 1.0828775\ttest1: 1.0830258\tbest: 1.0830258 (0)\ttotal: 82.5ms\tremaining: 10m 26s\n",
            "100:\tlearn: 0.8815088\ttest: 0.8815088\ttest1: 0.8873741\tbest: 0.8873741 (100)\ttotal: 2.29s\tremaining: 2m 50s\n"
          ]
        },
        {
          "name": "stderr",
          "output_type": "stream",
          "text": [
            "\u001b[32m[I 2022-03-03 16:30:11,830]\u001b[0m Trial 0 finished with value: 0.8873625541902477 and parameters: {'learning_rate': 0.03574712922600244, 'bagging_temperature': 63.512210106407046, 'n_estimators': 7588, 'max_depth': 11, 'random_strength': 15, 'colsample_bylevel': 0.49359671220172163, 'l2_leaf_reg': 1.7519275289243016e-06, 'min_child_samples': 88, 'max_bin': 380, 'od_type': 'IncToDec'}. Best is trial 0 with value: 0.8873625541902477.\u001b[0m\n"
          ]
        },
        {
          "name": "stdout",
          "output_type": "stream",
          "text": [
            "Stopped by overfitting detector  (35 iterations wait)\n",
            "\n",
            "bestTest = 0.8873625542\n",
            "bestIteration = 108\n",
            "\n",
            "Shrink model to first 109 iterations.\n",
            "0:\tlearn: 0.9929890\ttest: 0.9929890\ttest1: 0.9946005\tbest: 0.9946005 (0)\ttotal: 137ms\tremaining: 6m 39s\n",
            "100:\tlearn: 0.7011239\ttest: 0.7116694\ttest1: 0.7869701\tbest: 0.7869701 (100)\ttotal: 12.9s\tremaining: 5m 59s\n",
            "200:\tlearn: 0.6216065\ttest: 0.6395257\ttest1: 0.7690058\tbest: 0.7690058 (200)\ttotal: 25.6s\tremaining: 5m 44s\n",
            "300:\tlearn: 0.5635082\ttest: 0.5884329\ttest1: 0.7598308\tbest: 0.7598308 (300)\ttotal: 38.5s\tremaining: 5m 33s\n"
          ]
        },
        {
          "name": "stderr",
          "output_type": "stream",
          "text": [
            "\u001b[32m[I 2022-03-03 16:31:00,777]\u001b[0m Trial 1 finished with value: 0.7563750625454062 and parameters: {'learning_rate': 0.2708160864249968, 'bagging_temperature': 21.368329072358772, 'n_estimators': 2911, 'max_depth': 6, 'random_strength': 18, 'colsample_bylevel': 0.5825453457757226, 'l2_leaf_reg': 1.5747445384650815e-05, 'min_child_samples': 46, 'max_bin': 287, 'od_type': 'IncToDec'}. Best is trial 1 with value: 0.7563750625454062.\u001b[0m\n"
          ]
        },
        {
          "name": "stdout",
          "output_type": "stream",
          "text": [
            "Stopped by overfitting detector  (35 iterations wait)\n",
            "\n",
            "bestTest = 0.7563750625\n",
            "bestIteration = 343\n",
            "\n",
            "Shrink model to first 344 iterations.\n",
            "0:\tlearn: 1.0865207\ttest: 1.0865820\ttest1: 1.0863963\tbest: 1.0863963 (0)\ttotal: 643ms\tremaining: 54m 40s\n",
            "100:\tlearn: 0.8096701\ttest: 0.7307479\ttest1: 0.7908628\tbest: 0.7908628 (100)\ttotal: 1m 36s\tremaining: 1h 19m 50s\n",
            "200:\tlearn: 0.7607791\ttest: 0.6315574\ttest1: 0.7373602\tbest: 0.7373602 (200)\ttotal: 3m 4s\tremaining: 1h 14m 55s\n",
            "300:\tlearn: 0.7369826\ttest: 0.5817997\ttest1: 0.7139311\tbest: 0.7139311 (300)\ttotal: 4m\tremaining: 1h 4m 4s\n",
            "400:\tlearn: 0.7130936\ttest: 0.5360607\ttest1: 0.6954358\tbest: 0.6954358 (400)\ttotal: 5m 54s\tremaining: 1h 9m 13s\n",
            "500:\tlearn: 0.5846472\ttest: 0.4804680\ttest1: 0.6754460\tbest: 0.6754031 (499)\ttotal: 10m 42s\tremaining: 1h 38m 21s\n",
            "Stopped by overfitting detector  (35 iterations wait)\n",
            "\n",
            "bestTest = 0.6735830503\n",
            "bestIteration = 543\n",
            "\n",
            "Shrink model to first 544 iterations.\n"
          ]
        },
        {
          "name": "stderr",
          "output_type": "stream",
          "text": [
            "\u001b[32m[I 2022-03-03 16:47:06,947]\u001b[0m Trial 2 finished with value: 0.6735830502821478 and parameters: {'learning_rate': 0.027010527749605478, 'bagging_temperature': 0.2920433847181412, 'n_estimators': 5105, 'max_depth': 14, 'random_strength': 20, 'colsample_bylevel': 0.708540663048167, 'l2_leaf_reg': 1.7776512920172654e-05, 'min_child_samples': 9, 'max_bin': 382, 'od_type': 'IncToDec'}. Best is trial 2 with value: 0.6735830502821478.\u001b[0m\n"
          ]
        },
        {
          "name": "stdout",
          "output_type": "stream",
          "text": [
            "0:\tlearn: 1.0004786\ttest: 1.0004786\ttest1: 1.0008649\tbest: 1.0008649 (0)\ttotal: 21ms\tremaining: 2m 53s\n"
          ]
        },
        {
          "name": "stderr",
          "output_type": "stream",
          "text": [
            "\u001b[32m[I 2022-03-03 16:47:08,684]\u001b[0m Trial 3 finished with value: 0.8836591024581331 and parameters: {'learning_rate': 0.2521267904777921, 'bagging_temperature': 72.86653737491046, 'n_estimators': 8276, 'max_depth': 7, 'random_strength': 9, 'colsample_bylevel': 0.8105398159072941, 'l2_leaf_reg': 1.3210173287250643e-05, 'min_child_samples': 16, 'max_bin': 349, 'od_type': 'Iter'}. Best is trial 2 with value: 0.6735830502821478.\u001b[0m\n"
          ]
        },
        {
          "name": "stdout",
          "output_type": "stream",
          "text": [
            "Stopped by overfitting detector  (35 iterations wait)\n",
            "\n",
            "bestTest = 0.8836591025\n",
            "bestIteration = 20\n",
            "\n",
            "Shrink model to first 21 iterations.\n",
            "0:\tlearn: 1.0877152\ttest: 1.0878579\ttest1: 1.0878720\tbest: 1.0878720 (0)\ttotal: 301ms\tremaining: 19m 6s\n",
            "100:\tlearn: 0.7720632\ttest: 0.6972826\ttest1: 0.7685879\tbest: 0.7685879 (100)\ttotal: 24.5s\tremaining: 15m\n",
            "200:\tlearn: 0.7155331\ttest: 0.5972533\ttest1: 0.7209561\tbest: 0.7209561 (200)\ttotal: 49.3s\tremaining: 14m 43s\n",
            "300:\tlearn: 0.6780834\ttest: 0.5567816\ttest1: 0.7055827\tbest: 0.7055827 (300)\ttotal: 1m 18s\tremaining: 15m 18s\n",
            "400:\tlearn: 0.6372230\ttest: 0.5257345\ttest1: 0.6951886\tbest: 0.6951886 (400)\ttotal: 1m 49s\tremaining: 15m 30s\n",
            "500:\tlearn: 0.5761083\ttest: 0.4995616\ttest1: 0.6876373\tbest: 0.6876373 (500)\ttotal: 2m 23s\tremaining: 15m 46s\n",
            "600:\tlearn: 0.5173167\ttest: 0.4764607\ttest1: 0.6834759\tbest: 0.6834233 (599)\ttotal: 2m 56s\tremaining: 15m 42s\n",
            "Stopped by overfitting detector  (35 iterations wait)\n",
            "\n",
            "bestTest = 0.6834232539\n",
            "bestIteration = 599\n",
            "\n",
            "Shrink model to first 600 iterations.\n"
          ]
        },
        {
          "name": "stderr",
          "output_type": "stream",
          "text": [
            "\u001b[32m[I 2022-03-03 16:50:17,198]\u001b[0m Trial 4 finished with value: 0.6834232539376278 and parameters: {'learning_rate': 0.024112898115291985, 'bagging_temperature': 4.467752817973908, 'n_estimators': 3805, 'max_depth': 10, 'random_strength': 55, 'colsample_bylevel': 0.5109126733153162, 'l2_leaf_reg': 2.9087842986659113e-05, 'min_child_samples': 79, 'max_bin': 482, 'od_type': 'IncToDec'}. Best is trial 2 with value: 0.6735830502821478.\u001b[0m\n"
          ]
        },
        {
          "name": "stdout",
          "output_type": "stream",
          "text": [
            "0:\tlearn: 1.0074444\ttest: 1.0074493\ttest1: 1.0082218\tbest: 1.0082218 (0)\ttotal: 131ms\tremaining: 6m 3s\n",
            "100:\tlearn: 0.7109815\ttest: 0.4815845\ttest1: 0.6780513\tbest: 0.6780186 (99)\ttotal: 7.03s\tremaining: 3m 5s\n"
          ]
        },
        {
          "name": "stderr",
          "output_type": "stream",
          "text": [
            "\u001b[32m[I 2022-03-03 16:50:29,117]\u001b[0m Trial 5 finished with value: 0.677488080938512 and parameters: {'learning_rate': 0.22999586428143728, 'bagging_temperature': 0.022592797420156956, 'n_estimators': 2764, 'max_depth': 4, 'random_strength': 32, 'colsample_bylevel': 0.6332063738136893, 'l2_leaf_reg': 8.147757462899138e-06, 'min_child_samples': 84, 'max_bin': 307, 'od_type': 'Iter'}. Best is trial 2 with value: 0.6735830502821478.\u001b[0m\n"
          ]
        },
        {
          "name": "stdout",
          "output_type": "stream",
          "text": [
            "Stopped by overfitting detector  (35 iterations wait)\n",
            "\n",
            "bestTest = 0.6774880809\n",
            "bestIteration = 115\n",
            "\n",
            "Shrink model to first 116 iterations.\n",
            "0:\tlearn: 1.0863772\ttest: 1.0883014\ttest1: 1.0907096\tbest: 1.0907096 (0)\ttotal: 11.1s\tremaining: 5h 7m 38s\n",
            "100:\tlearn: 0.5176032\ttest: 0.5593905\ttest1: 0.7932242\tbest: 0.7932242 (100)\ttotal: 20m 4s\tremaining: 5h 12m 2s\n",
            "200:\tlearn: 0.3293935\ttest: 0.3879037\ttest1: 0.7750893\tbest: 0.7733051 (165)\ttotal: 34m 29s\tremaining: 4h 12m 12s\n",
            "Stopped by overfitting detector  (35 iterations wait)\n",
            "\n",
            "bestTest = 0.7733051342\n",
            "bestIteration = 165\n",
            "\n",
            "Shrink model to first 166 iterations.\n"
          ]
        },
        {
          "name": "stderr",
          "output_type": "stream",
          "text": [
            "\u001b[32m[I 2022-03-03 17:25:00,676]\u001b[0m Trial 6 finished with value: 0.7733051342289939 and parameters: {'learning_rate': 0.016149614799999188, 'bagging_temperature': 16.172900811143155, 'n_estimators': 1671, 'max_depth': 16, 'random_strength': 77, 'colsample_bylevel': 0.5192294089205034, 'l2_leaf_reg': 1.7560829253683595e-07, 'min_child_samples': 83, 'max_bin': 412, 'od_type': 'Iter'}. Best is trial 2 with value: 0.6735830502821478.\u001b[0m\n"
          ]
        },
        {
          "name": "stdout",
          "output_type": "stream",
          "text": [
            "0:\tlearn: 1.0929256\ttest: 1.0929256\ttest1: 1.0928710\tbest: 1.0928710 (0)\ttotal: 16.5ms\tremaining: 33.7s\n",
            "100:\tlearn: 0.8844129\ttest: 0.8677947\ttest1: 0.8819082\tbest: 0.8819082 (100)\ttotal: 38.9s\tremaining: 12m 42s\n",
            "200:\tlearn: 0.8361761\ttest: 0.7762750\ttest1: 0.8274152\tbest: 0.8274152 (200)\ttotal: 1m 30s\tremaining: 14m\n",
            "300:\tlearn: 0.8039787\ttest: 0.7030853\ttest1: 0.7909375\tbest: 0.7909375 (300)\ttotal: 2m 46s\tremaining: 16m 11s\n",
            "400:\tlearn: 0.7801718\ttest: 0.6431539\ttest1: 0.7646889\tbest: 0.7646889 (400)\ttotal: 4m 10s\tremaining: 17m 10s\n",
            "500:\tlearn: 0.7670629\ttest: 0.6168991\ttest1: 0.7528197\tbest: 0.7528174 (497)\ttotal: 5m 9s\tremaining: 15m 56s\n",
            "600:\tlearn: 0.7562842\ttest: 0.5942632\ttest1: 0.7438316\tbest: 0.7438316 (600)\ttotal: 6m 30s\tremaining: 15m 39s\n",
            "700:\tlearn: 0.7477095\ttest: 0.5746262\ttest1: 0.7362578\tbest: 0.7362578 (700)\ttotal: 7m 16s\tremaining: 13m 56s\n",
            "800:\tlearn: 0.7372998\ttest: 0.5581224\ttest1: 0.7288648\tbest: 0.7288648 (800)\ttotal: 8m 23s\tremaining: 13m 1s\n",
            "900:\tlearn: 0.7209885\ttest: 0.5405888\ttest1: 0.7157122\tbest: 0.7157122 (900)\ttotal: 9m 39s\tremaining: 12m 15s\n",
            "1000:\tlearn: 0.6941286\ttest: 0.5141909\ttest1: 0.6972274\tbest: 0.6972274 (1000)\ttotal: 11m 48s\tremaining: 12m 18s\n",
            "1100:\tlearn: 0.6115739\ttest: 0.4832678\ttest1: 0.6872517\tbest: 0.6872517 (1100)\ttotal: 15m 42s\tremaining: 13m 26s\n",
            "1200:\tlearn: 0.4626208\ttest: 0.4431623\ttest1: 0.6851064\tbest: 0.6846144 (1182)\ttotal: 21m 48s\tremaining: 15m 18s\n",
            "Stopped by overfitting detector  (35 iterations wait)\n",
            "\n",
            "bestTest = 0.6846144069\n",
            "bestIteration = 1182\n",
            "\n",
            "Shrink model to first 1183 iterations.\n"
          ]
        },
        {
          "name": "stderr",
          "output_type": "stream",
          "text": [
            "\u001b[32m[I 2022-03-03 17:48:02,592]\u001b[0m Trial 7 finished with value: 0.6846144068718785 and parameters: {'learning_rate': 0.012863908101989912, 'bagging_temperature': 0.27155819552829413, 'n_estimators': 2042, 'max_depth': 15, 'random_strength': 62, 'colsample_bylevel': 0.5985388149115896, 'l2_leaf_reg': 1.9161149250778487e-06, 'min_child_samples': 34, 'max_bin': 297, 'od_type': 'IncToDec'}. Best is trial 2 with value: 0.6735830502821478.\u001b[0m\n"
          ]
        },
        {
          "name": "stdout",
          "output_type": "stream",
          "text": [
            "0:\tlearn: 1.0167233\ttest: 1.0167285\ttest1: 1.0170722\tbest: 1.0170722 (0)\ttotal: 31.8ms\tremaining: 1m 5s\n",
            "100:\tlearn: 0.3006564\ttest: 0.4153692\ttest1: 0.7344807\tbest: 0.6892745 (69)\ttotal: 1m 1s\tremaining: 19m 58s\n"
          ]
        },
        {
          "name": "stderr",
          "output_type": "stream",
          "text": [
            "\u001b[32m[I 2022-03-03 17:49:08,773]\u001b[0m Trial 8 finished with value: 0.6892744801094646 and parameters: {'learning_rate': 0.20441878352493792, 'bagging_temperature': 0.7742116473996251, 'n_estimators': 2076, 'max_depth': 13, 'random_strength': 76, 'colsample_bylevel': 0.7367663185416977, 'l2_leaf_reg': 2.3131305726837285e-05, 'min_child_samples': 52, 'max_bin': 357, 'od_type': 'IncToDec'}. Best is trial 2 with value: 0.6735830502821478.\u001b[0m\n"
          ]
        },
        {
          "name": "stdout",
          "output_type": "stream",
          "text": [
            "Stopped by overfitting detector  (35 iterations wait)\n",
            "\n",
            "bestTest = 0.6892744801\n",
            "bestIteration = 69\n",
            "\n",
            "Shrink model to first 70 iterations.\n",
            "0:\tlearn: 1.0922062\ttest: 1.0922057\ttest1: 1.0922210\tbest: 1.0922210 (0)\ttotal: 37.1ms\tremaining: 4m 9s\n",
            "100:\tlearn: 0.8869543\ttest: 0.8839723\ttest1: 0.8889405\tbest: 0.8889405 (100)\ttotal: 6.22s\tremaining: 6m 48s\n",
            "200:\tlearn: 0.8440065\ttest: 0.7989567\ttest1: 0.8358204\tbest: 0.8358204 (200)\ttotal: 12.8s\tremaining: 6m 56s\n",
            "300:\tlearn: 0.8181507\ttest: 0.7278864\ttest1: 0.7984220\tbest: 0.7984220 (300)\ttotal: 23.6s\tremaining: 8m 22s\n",
            "400:\tlearn: 0.8040011\ttest: 0.6831164\ttest1: 0.7779502\tbest: 0.7779502 (400)\ttotal: 37s\tremaining: 9m 43s\n",
            "500:\tlearn: 0.7898408\ttest: 0.6460959\ttest1: 0.7601807\tbest: 0.7601807 (499)\ttotal: 52.2s\tremaining: 10m 48s\n",
            "600:\tlearn: 0.7788907\ttest: 0.6206618\ttest1: 0.7475205\tbest: 0.7475205 (600)\ttotal: 1m 6s\tremaining: 11m 16s\n",
            "700:\tlearn: 0.7687870\ttest: 0.5978980\ttest1: 0.7364983\tbest: 0.7364983 (700)\ttotal: 1m 21s\tremaining: 11m 40s\n",
            "800:\tlearn: 0.7481152\ttest: 0.5654241\ttest1: 0.7152216\tbest: 0.7152216 (800)\ttotal: 1m 37s\tremaining: 12m\n",
            "900:\tlearn: 0.7255350\ttest: 0.5336988\ttest1: 0.6923602\tbest: 0.6923602 (900)\ttotal: 1m 48s\tremaining: 11m 44s\n",
            "1000:\tlearn: 0.7081567\ttest: 0.5010941\ttest1: 0.6788031\tbest: 0.6788031 (1000)\ttotal: 2m\tremaining: 11m 27s\n",
            "1100:\tlearn: 0.6927518\ttest: 0.4824847\ttest1: 0.6736138\tbest: 0.6736138 (1100)\ttotal: 2m 13s\tremaining: 11m 20s\n",
            "1200:\tlearn: 0.6782977\ttest: 0.4751094\ttest1: 0.6723077\tbest: 0.6722921 (1195)\ttotal: 2m 26s\tremaining: 11m 14s\n",
            "1300:\tlearn: 0.6651462\ttest: 0.4706881\ttest1: 0.6720294\tbest: 0.6719456 (1275)\ttotal: 2m 39s\tremaining: 11m 7s\n",
            "Stopped by overfitting detector  (35 iterations wait)\n",
            "\n",
            "bestTest = 0.6717837325\n",
            "bestIteration = 1351\n",
            "\n",
            "Shrink model to first 1352 iterations.\n"
          ]
        },
        {
          "name": "stderr",
          "output_type": "stream",
          "text": [
            "\u001b[32m[I 2022-03-03 17:52:01,020]\u001b[0m Trial 9 finished with value: 0.6717837325495211 and parameters: {'learning_rate': 0.01443340240633889, 'bagging_temperature': 0.0133572404119741, 'n_estimators': 6728, 'max_depth': 8, 'random_strength': 51, 'colsample_bylevel': 0.9445398843556558, 'l2_leaf_reg': 7.486273952174759e-06, 'min_child_samples': 44, 'max_bin': 427, 'od_type': 'IncToDec'}. Best is trial 9 with value: 0.6717837325495211.\u001b[0m\n"
          ]
        },
        {
          "name": "stdout",
          "output_type": "stream",
          "text": [
            "Best Score: 0.6717837325495211\n",
            "Best trial {'learning_rate': 0.01443340240633889, 'bagging_temperature': 0.0133572404119741, 'n_estimators': 6728, 'max_depth': 8, 'random_strength': 51, 'colsample_bylevel': 0.9445398843556558, 'l2_leaf_reg': 7.486273952174759e-06, 'min_child_samples': 44, 'max_bin': 427, 'od_type': 'IncToDec'}\n"
          ]
        }
      ],
      "source": [
        "sampler = TPESampler(seed=42)\n",
        "study = optuna.create_study(\n",
        "    study_name = 'cat_parameter_opt',\n",
        "    direction = 'minimize',\n",
        "    sampler = sampler,\n",
        ")\n",
        "study.optimize(objective, n_trials=10)\n",
        "print(\"Best Score:\",study.best_value)\n",
        "print(\"Best trial\",study.best_trial.params)"
      ]
    },
    {
      "cell_type": "code",
      "execution_count": null,
      "metadata": {
        "id": "f8b12369"
      },
      "outputs": [],
      "source": [
        "Best_trial = {'learning_rate': 0.01443340240633889,\n",
        " 'bagging_temperature': 0.0133572404119741,\n",
        " 'n_estimators': 6728,\n",
        " 'max_depth': 8,\n",
        " 'random_strength': 51,\n",
        " 'colsample_bylevel': 0.9445398843556558,\n",
        " 'l2_leaf_reg': 7.486273952174759e-06,\n",
        " 'min_child_samples': 44,\n",
        " 'max_bin': 427,\n",
        " 'od_type': 'IncToDec'}"
      ]
    },
    {
      "cell_type": "code",
      "execution_count": null,
      "metadata": {
        "id": "f0691283",
        "outputId": "a304966d-d4e1-45d8-802f-6b5169cf881e"
      },
      "outputs": [
        {
          "data": {
            "text/plain": [
              "{'learning_rate': 0.01443340240633889,\n",
              " 'bagging_temperature': 0.0133572404119741,\n",
              " 'n_estimators': 6728,\n",
              " 'max_depth': 8,\n",
              " 'random_strength': 51,\n",
              " 'colsample_bylevel': 0.9445398843556558,\n",
              " 'l2_leaf_reg': 7.486273952174759e-06,\n",
              " 'min_child_samples': 44,\n",
              " 'max_bin': 427,\n",
              " 'od_type': 'IncToDec'}"
            ]
          },
          "execution_count": 20,
          "metadata": {},
          "output_type": "execute_result"
        }
      ],
      "source": [
        "study.best_trial.params"
      ]
    },
    {
      "cell_type": "code",
      "execution_count": null,
      "metadata": {
        "id": "4edfc132"
      },
      "outputs": [],
      "source": [
        "skf = StratifiedKFold(n_splits=5, shuffle=True, random_state=42)\n",
        "folds = []\n",
        "for train_idx, valid_idx in skf.split(train, train['credit']):\n",
        "  folds.append((train_idx,valid_idx))"
      ]
    },
    {
      "cell_type": "code",
      "execution_count": null,
      "metadata": {
        "id": "7ffe50ee",
        "outputId": "f22cb2d2-d534-452e-b932-94052fa47277"
      },
      "outputs": [
        {
          "data": {
            "text/plain": [
              "[(array([    0,     1,     2, ..., 26447, 26448, 26450]),\n",
              "  array([    4,    19,    21, ..., 26440, 26446, 26449])),\n",
              " (array([    3,     4,     7, ..., 26448, 26449, 26450]),\n",
              "  array([    0,     1,     2, ..., 26429, 26441, 26444])),\n",
              " (array([    0,     1,     2, ..., 26447, 26448, 26449]),\n",
              "  array([    8,    10,    15, ..., 26432, 26442, 26450])),\n",
              " (array([    0,     1,     2, ..., 26448, 26449, 26450]),\n",
              "  array([    7,    12,    18, ..., 26434, 26436, 26447])),\n",
              " (array([    0,     1,     2, ..., 26447, 26449, 26450]),\n",
              "  array([    3,     9,    14, ..., 26443, 26445, 26448]))]"
            ]
          },
          "execution_count": 17,
          "metadata": {},
          "output_type": "execute_result"
        }
      ],
      "source": [
        "folds"
      ]
    },
    {
      "cell_type": "code",
      "execution_count": null,
      "metadata": {
        "id": "eec0a956",
        "outputId": "b6f2ccb7-8743-41d5-e1ef-e7b910b8f4b6"
      },
      "outputs": [
        {
          "data": {
            "text/html": [
              "<div>\n",
              "<style scoped>\n",
              "    .dataframe tbody tr th:only-of-type {\n",
              "        vertical-align: middle;\n",
              "    }\n",
              "\n",
              "    .dataframe tbody tr th {\n",
              "        vertical-align: top;\n",
              "    }\n",
              "\n",
              "    .dataframe thead th {\n",
              "        text-align: right;\n",
              "    }\n",
              "</style>\n",
              "<table border=\"1\" class=\"dataframe\">\n",
              "  <thead>\n",
              "    <tr style=\"text-align: right;\">\n",
              "      <th></th>\n",
              "      <th>gender</th>\n",
              "      <th>car</th>\n",
              "      <th>reality</th>\n",
              "      <th>income_total</th>\n",
              "      <th>income_type</th>\n",
              "      <th>edu_type</th>\n",
              "      <th>family_type</th>\n",
              "      <th>house_type</th>\n",
              "      <th>DAYS_BIRTH</th>\n",
              "      <th>DAYS_EMPLOYED</th>\n",
              "      <th>...</th>\n",
              "      <th>income_age</th>\n",
              "      <th>income_emp</th>\n",
              "      <th>income_total_dev</th>\n",
              "      <th>income_total_log</th>\n",
              "      <th>DAYS_EMPLOYED_log</th>\n",
              "      <th>DAYS_EMPLOYED_before</th>\n",
              "      <th>DAYS_BIRTH_cubic</th>\n",
              "      <th>DAYS_BIRTH_weight</th>\n",
              "      <th>income_family</th>\n",
              "      <th>cluster</th>\n",
              "    </tr>\n",
              "  </thead>\n",
              "  <tbody>\n",
              "    <tr>\n",
              "      <th>0</th>\n",
              "      <td>1</td>\n",
              "      <td>1</td>\n",
              "      <td>1</td>\n",
              "      <td>0.161391</td>\n",
              "      <td>1</td>\n",
              "      <td>1</td>\n",
              "      <td>1</td>\n",
              "      <td>1</td>\n",
              "      <td>-0.490076</td>\n",
              "      <td>1.059065</td>\n",
              "      <td>...</td>\n",
              "      <td>-0.081866</td>\n",
              "      <td>0.926979</td>\n",
              "      <td>-0.228231</td>\n",
              "      <td>0.398667</td>\n",
              "      <td>0.767044</td>\n",
              "      <td>-0.939097</td>\n",
              "      <td>-0.619941</td>\n",
              "      <td>0.101212</td>\n",
              "      <td>0.013245</td>\n",
              "      <td>12</td>\n",
              "    </tr>\n",
              "    <tr>\n",
              "      <th>1</th>\n",
              "      <td>1</td>\n",
              "      <td>1</td>\n",
              "      <td>2</td>\n",
              "      <td>0.552464</td>\n",
              "      <td>1</td>\n",
              "      <td>2</td>\n",
              "      <td>2</td>\n",
              "      <td>2</td>\n",
              "      <td>-1.089581</td>\n",
              "      <td>-0.277867</td>\n",
              "      <td>...</td>\n",
              "      <td>-0.080752</td>\n",
              "      <td>-0.091955</td>\n",
              "      <td>-0.151951</td>\n",
              "      <td>0.824300</td>\n",
              "      <td>0.386561</td>\n",
              "      <td>-0.805515</td>\n",
              "      <td>-0.955480</td>\n",
              "      <td>1.020725</td>\n",
              "      <td>-0.261341</td>\n",
              "      <td>11</td>\n",
              "    </tr>\n",
              "    <tr>\n",
              "      <th>2</th>\n",
              "      <td>2</td>\n",
              "      <td>2</td>\n",
              "      <td>2</td>\n",
              "      <td>2.605599</td>\n",
              "      <td>2</td>\n",
              "      <td>1</td>\n",
              "      <td>1</td>\n",
              "      <td>2</td>\n",
              "      <td>0.744635</td>\n",
              "      <td>0.943049</td>\n",
              "      <td>...</td>\n",
              "      <td>3.133071</td>\n",
              "      <td>2.781294</td>\n",
              "      <td>1.318284</td>\n",
              "      <td>2.110005</td>\n",
              "      <td>0.746556</td>\n",
              "      <td>0.183614</td>\n",
              "      <td>0.562514</td>\n",
              "      <td>-0.777220</td>\n",
              "      <td>1.729407</td>\n",
              "      <td>10</td>\n",
              "    </tr>\n",
              "    <tr>\n",
              "      <th>3</th>\n",
              "      <td>1</td>\n",
              "      <td>1</td>\n",
              "      <td>2</td>\n",
              "      <td>0.161391</td>\n",
              "      <td>1</td>\n",
              "      <td>2</td>\n",
              "      <td>1</td>\n",
              "      <td>2</td>\n",
              "      <td>-0.207101</td>\n",
              "      <td>-0.044990</td>\n",
              "      <td>...</td>\n",
              "      <td>0.052181</td>\n",
              "      <td>-0.016339</td>\n",
              "      <td>-0.228231</td>\n",
              "      <td>0.398667</td>\n",
              "      <td>0.490826</td>\n",
              "      <td>-0.156919</td>\n",
              "      <td>-0.412263</td>\n",
              "      <td>-0.181911</td>\n",
              "      <td>0.013245</td>\n",
              "      <td>5</td>\n",
              "    </tr>\n",
              "    <tr>\n",
              "      <th>4</th>\n",
              "      <td>1</td>\n",
              "      <td>2</td>\n",
              "      <td>2</td>\n",
              "      <td>-0.327450</td>\n",
              "      <td>3</td>\n",
              "      <td>1</td>\n",
              "      <td>1</td>\n",
              "      <td>2</td>\n",
              "      <td>-0.219239</td>\n",
              "      <td>-0.039505</td>\n",
              "      <td>...</td>\n",
              "      <td>-0.330294</td>\n",
              "      <td>-0.180267</td>\n",
              "      <td>-0.213443</td>\n",
              "      <td>-0.128636</td>\n",
              "      <td>0.492935</td>\n",
              "      <td>-0.170072</td>\n",
              "      <td>-0.421879</td>\n",
              "      <td>-0.171128</td>\n",
              "      <td>-0.329988</td>\n",
              "      <td>5</td>\n",
              "    </tr>\n",
              "  </tbody>\n",
              "</table>\n",
              "<p>5 rows × 32 columns</p>\n",
              "</div>"
            ],
            "text/plain": [
              "   gender  car  reality  income_total  income_type  edu_type  family_type  \\\n",
              "0       1    1        1      0.161391            1         1            1   \n",
              "1       1    1        2      0.552464            1         2            2   \n",
              "2       2    2        2      2.605599            2         1            1   \n",
              "3       1    1        2      0.161391            1         2            1   \n",
              "4       1    2        2     -0.327450            3         1            1   \n",
              "\n",
              "   house_type  DAYS_BIRTH  DAYS_EMPLOYED  ...  income_age  income_emp  \\\n",
              "0           1   -0.490076       1.059065  ...   -0.081866    0.926979   \n",
              "1           2   -1.089581      -0.277867  ...   -0.080752   -0.091955   \n",
              "2           2    0.744635       0.943049  ...    3.133071    2.781294   \n",
              "3           2   -0.207101      -0.044990  ...    0.052181   -0.016339   \n",
              "4           2   -0.219239      -0.039505  ...   -0.330294   -0.180267   \n",
              "\n",
              "   income_total_dev  income_total_log  DAYS_EMPLOYED_log  \\\n",
              "0         -0.228231          0.398667           0.767044   \n",
              "1         -0.151951          0.824300           0.386561   \n",
              "2          1.318284          2.110005           0.746556   \n",
              "3         -0.228231          0.398667           0.490826   \n",
              "4         -0.213443         -0.128636           0.492935   \n",
              "\n",
              "   DAYS_EMPLOYED_before  DAYS_BIRTH_cubic  DAYS_BIRTH_weight  income_family  \\\n",
              "0             -0.939097         -0.619941           0.101212       0.013245   \n",
              "1             -0.805515         -0.955480           1.020725      -0.261341   \n",
              "2              0.183614          0.562514          -0.777220       1.729407   \n",
              "3             -0.156919         -0.412263          -0.181911       0.013245   \n",
              "4             -0.170072         -0.421879          -0.171128      -0.329988   \n",
              "\n",
              "   cluster  \n",
              "0       12  \n",
              "1       11  \n",
              "2       10  \n",
              "3        5  \n",
              "4        5  \n",
              "\n",
              "[5 rows x 32 columns]"
            ]
          },
          "execution_count": 23,
          "metadata": {},
          "output_type": "execute_result"
        }
      ],
      "source": [
        "train.head()"
      ]
    },
    {
      "cell_type": "code",
      "source": [
        "# numerical_feats.remove('DAYS_EMPLOYED_log')\n",
        "# numerical_feats.remove('income_total_log')\n",
        "category = ['gender','car','reality','income_type','edu_type',\n",
        "            'family_type','house_type','occyp_type','ID',\n",
        "            'G_C_R','I_O_E','F_H']\n",
        "for i in category:\n",
        "    numerical_feats.remove(i)\n",
        "numerical_feats"
      ],
      "metadata": {
        "colab": {
          "base_uri": "https://localhost:8080/"
        },
        "id": "UAxhxpqSX0_E",
        "outputId": "80488e72-2248-48d8-eba7-0e906ac21a95"
      },
      "execution_count": null,
      "outputs": [
        {
          "output_type": "execute_result",
          "data": {
            "text/plain": [
              "['income_total',\n",
              " 'DAYS_BIRTH',\n",
              " 'DAYS_EMPLOYED',\n",
              " 'work_phone',\n",
              " 'phone',\n",
              " 'email',\n",
              " 'family_size',\n",
              " 'begin_month',\n",
              " 'income_weight',\n",
              " 'income_age',\n",
              " 'income_emp',\n",
              " 'income_total_dev',\n",
              " 'income_total_log',\n",
              " 'DAYS_EMPLOYED_log',\n",
              " 'DAYS_EMPLOYED_before',\n",
              " 'DAYS_BIRTH_cubic',\n",
              " 'DAYS_BIRTH_weight',\n",
              " 'income_family']"
            ]
          },
          "metadata": {},
          "execution_count": 34
        }
      ]
    },
    {
      "cell_type": "code",
      "source": [
        "scaler = StandardScaler()\n",
        "train[numerical_feats] = scaler.fit_transform(train[numerical_feats])\n",
        "test[numerical_feats] = scaler.transform(test[numerical_feats])"
      ],
      "metadata": {
        "id": "zQbKojrTXa9x"
      },
      "execution_count": null,
      "outputs": []
    },
    {
      "cell_type": "markdown",
      "metadata": {
        "id": "42eda12a"
      },
      "source": [
        "# 모델링-1 (CatBoost)\n",
        "- Optuna 결과 적용"
      ]
    },
    {
      "cell_type": "code",
      "execution_count": null,
      "metadata": {
        "id": "24dd44ef"
      },
      "outputs": [],
      "source": [
        "import warnings\n",
        "warnings.filterwarnings('ignore')\n",
        "import pandas as pd\n",
        "import numpy as np\n",
        "import os\n",
        "import random\n",
        "from optuna.samplers import TPESampler\n",
        "import multiprocessing\n",
        "import catboost as cat\n",
        "import optuna\n",
        "from sklearn.model_selection import train_test_split\n",
        "from sklearn.metrics import roc_auc_score\n",
        "import pickle\n",
        "from sklearn.utils import resample\n",
        "from catboost import Pool\n",
        "import sklearn.metrics"
      ]
    },
    {
      "cell_type": "code",
      "execution_count": null,
      "metadata": {
        "id": "7b2fb7fd"
      },
      "outputs": [],
      "source": [
        "# n_fold를 돌려보고 좋은 수치를 선택\n",
        "\n",
        "n_est = 2000\n",
        "seed = 42\n",
        "n_fold = 15\n",
        "n_class = 3\n",
        "\n",
        "target = 'credit'\n",
        "X = train.drop(target, axis=1)\n",
        "y = train[target]\n",
        "X_test = test"
      ]
    },
    {
      "cell_type": "code",
      "execution_count": null,
      "metadata": {
        "id": "ed57775f",
        "outputId": "74b81308-1920-4a4f-fe71-bd586064163b"
      },
      "outputs": [
        {
          "name": "stdout",
          "output_type": "stream",
          "text": [
            "\n",
            "----------------- Fold 0 -----------------\n",
            "\n",
            "0:\tlearn: 1.0921875\ttest: 1.0922084\tbest: 1.0922084 (0)\ttotal: 140ms\tremaining: 15m 40s\n",
            "100:\tlearn: 0.8799558\ttest: 0.8738823\tbest: 0.8738823 (100)\ttotal: 17s\tremaining: 18m 37s\n",
            "200:\tlearn: 0.8411028\ttest: 0.8220687\tbest: 0.8220687 (200)\ttotal: 32.9s\tremaining: 17m 48s\n",
            "300:\tlearn: 0.8216370\ttest: 0.7937423\tbest: 0.7937423 (300)\ttotal: 46.7s\tremaining: 16m 36s\n",
            "400:\tlearn: 0.8039316\ttest: 0.7682281\tbest: 0.7682281 (400)\ttotal: 1m 2s\tremaining: 16m 25s\n",
            "500:\tlearn: 0.7893795\ttest: 0.7490824\tbest: 0.7490824 (500)\ttotal: 1m 19s\tremaining: 16m 22s\n",
            "600:\tlearn: 0.7778911\ttest: 0.7329813\tbest: 0.7329813 (600)\ttotal: 1m 34s\tremaining: 16m 7s\n",
            "700:\tlearn: 0.7673642\ttest: 0.7192914\tbest: 0.7192914 (700)\ttotal: 1m 54s\tremaining: 16m 23s\n",
            "800:\tlearn: 0.7439370\ttest: 0.6906759\tbest: 0.6906759 (800)\ttotal: 2m 12s\tremaining: 16m 19s\n",
            "900:\tlearn: 0.7200614\ttest: 0.6620279\tbest: 0.6620279 (900)\ttotal: 2m 33s\tremaining: 16m 31s\n",
            "1000:\tlearn: 0.7033791\ttest: 0.6458409\tbest: 0.6458409 (1000)\ttotal: 3m\tremaining: 17m 10s\n",
            "1100:\tlearn: 0.6888957\ttest: 0.6404966\tbest: 0.6404753 (1097)\ttotal: 3m 30s\tremaining: 17m 54s\n",
            "1200:\tlearn: 0.6775486\ttest: 0.6381046\tbest: 0.6381046 (1200)\ttotal: 4m 1s\tremaining: 18m 29s\n",
            "1300:\tlearn: 0.6670359\ttest: 0.6369984\tbest: 0.6369946 (1298)\ttotal: 4m 31s\tremaining: 18m 54s\n",
            "1400:\tlearn: 0.6571971\ttest: 0.6364388\tbest: 0.6363726 (1372)\ttotal: 5m 2s\tremaining: 19m 11s\n",
            "1500:\tlearn: 0.6479729\ttest: 0.6364494\tbest: 0.6363308 (1424)\ttotal: 5m 33s\tremaining: 19m 22s\n",
            "Stopped by overfitting detector  (100 iterations wait)\n",
            "\n",
            "bestTest = 0.6363308383\n",
            "bestIteration = 1424\n",
            "\n",
            "Shrink model to first 1425 iterations.\n",
            "CV Log Loss Score: 0.636331\n",
            "\n",
            "----------------- Fold 1 -----------------\n",
            "\n",
            "0:\tlearn: 1.0921943\ttest: 1.0922083\tbest: 1.0922083 (0)\ttotal: 146ms\tremaining: 16m 22s\n",
            "100:\tlearn: 0.8708154\ttest: 0.8633735\tbest: 0.8633735 (100)\ttotal: 14.9s\tremaining: 16m 17s\n",
            "200:\tlearn: 0.8290262\ttest: 0.8162834\tbest: 0.8162834 (200)\ttotal: 31.6s\tremaining: 17m 5s\n",
            "300:\tlearn: 0.8055426\ttest: 0.7889990\tbest: 0.7889990 (300)\ttotal: 46.5s\tremaining: 16m 33s\n",
            "400:\tlearn: 0.7938537\ttest: 0.7751507\tbest: 0.7751320 (398)\ttotal: 1m 1s\tremaining: 16m 13s\n",
            "500:\tlearn: 0.7822216\ttest: 0.7610737\tbest: 0.7610737 (500)\ttotal: 1m 17s\tremaining: 16m 5s\n",
            "600:\tlearn: 0.7706415\ttest: 0.7476711\tbest: 0.7476711 (600)\ttotal: 1m 34s\tremaining: 16m 5s\n",
            "700:\tlearn: 0.7597354\ttest: 0.7359480\tbest: 0.7359480 (700)\ttotal: 1m 51s\tremaining: 15m 58s\n",
            "800:\tlearn: 0.7412228\ttest: 0.7161119\tbest: 0.7161119 (800)\ttotal: 2m 10s\tremaining: 16m 6s\n",
            "900:\tlearn: 0.7202931\ttest: 0.6921202\tbest: 0.6921202 (900)\ttotal: 2m 30s\tremaining: 16m 13s\n",
            "1000:\tlearn: 0.7023848\ttest: 0.6765452\tbest: 0.6765452 (1000)\ttotal: 2m 59s\tremaining: 17m 4s\n",
            "1100:\tlearn: 0.6882696\ttest: 0.6713439\tbest: 0.6713439 (1100)\ttotal: 3m 29s\tremaining: 17m 51s\n",
            "1200:\tlearn: 0.6760813\ttest: 0.6689753\tbest: 0.6689753 (1200)\ttotal: 4m\tremaining: 18m 27s\n",
            "1300:\tlearn: 0.6659958\ttest: 0.6685884\tbest: 0.6684016 (1276)\ttotal: 4m 31s\tremaining: 18m 52s\n",
            "1400:\tlearn: 0.6559516\ttest: 0.6683171\tbest: 0.6682254 (1382)\ttotal: 5m 2s\tremaining: 19m 10s\n",
            "1500:\tlearn: 0.6459059\ttest: 0.6685355\tbest: 0.6682023 (1435)\ttotal: 5m 33s\tremaining: 19m 21s\n",
            "Stopped by overfitting detector  (100 iterations wait)\n",
            "\n",
            "bestTest = 0.6682023417\n",
            "bestIteration = 1435\n",
            "\n",
            "Shrink model to first 1436 iterations.\n",
            "CV Log Loss Score: 0.668202\n",
            "\n",
            "----------------- Fold 2 -----------------\n",
            "\n",
            "0:\tlearn: 1.0921895\ttest: 1.0921637\tbest: 1.0921637 (0)\ttotal: 155ms\tremaining: 17m 22s\n",
            "100:\tlearn: 0.8813181\ttest: 0.8780317\tbest: 0.8780317 (100)\ttotal: 14.6s\tremaining: 15m 55s\n",
            "200:\tlearn: 0.8317712\ttest: 0.8135513\tbest: 0.8135513 (200)\ttotal: 33.2s\tremaining: 17m 57s\n",
            "300:\tlearn: 0.8052546\ttest: 0.7760327\tbest: 0.7760327 (300)\ttotal: 49.4s\tremaining: 17m 34s\n",
            "400:\tlearn: 0.7901897\ttest: 0.7549940\tbest: 0.7549940 (400)\ttotal: 1m 5s\tremaining: 17m 13s\n",
            "500:\tlearn: 0.7771817\ttest: 0.7367301\tbest: 0.7367275 (499)\ttotal: 1m 22s\tremaining: 17m 4s\n",
            "600:\tlearn: 0.7704259\ttest: 0.7265245\tbest: 0.7265245 (600)\ttotal: 1m 38s\tremaining: 16m 42s\n",
            "700:\tlearn: 0.7615275\ttest: 0.7165444\tbest: 0.7165444 (700)\ttotal: 1m 53s\tremaining: 16m 18s\n",
            "800:\tlearn: 0.7416881\ttest: 0.6942398\tbest: 0.6942398 (800)\ttotal: 2m 12s\tremaining: 16m 20s\n",
            "900:\tlearn: 0.7187541\ttest: 0.6680209\tbest: 0.6680209 (900)\ttotal: 2m 31s\tremaining: 16m 18s\n",
            "1000:\tlearn: 0.7031820\ttest: 0.6530556\tbest: 0.6530556 (1000)\ttotal: 2m 57s\tremaining: 16m 54s\n",
            "1100:\tlearn: 0.6894204\ttest: 0.6473234\tbest: 0.6472834 (1095)\ttotal: 3m 28s\tremaining: 17m 43s\n",
            "1200:\tlearn: 0.6787329\ttest: 0.6459639\tbest: 0.6459639 (1200)\ttotal: 3m 59s\tremaining: 18m 21s\n",
            "1300:\tlearn: 0.6679744\ttest: 0.6459393\tbest: 0.6457406 (1249)\ttotal: 4m 30s\tremaining: 18m 48s\n",
            "1400:\tlearn: 0.6578674\ttest: 0.6456493\tbest: 0.6455758 (1392)\ttotal: 5m 1s\tremaining: 19m 7s\n",
            "1500:\tlearn: 0.6484563\ttest: 0.6452017\tbest: 0.6451853 (1498)\ttotal: 5m 32s\tremaining: 19m 18s\n",
            "1600:\tlearn: 0.6388734\ttest: 0.6453144\tbest: 0.6450609 (1567)\ttotal: 6m 2s\tremaining: 19m 21s\n",
            "Stopped by overfitting detector  (100 iterations wait)\n",
            "\n",
            "bestTest = 0.6450608826\n",
            "bestIteration = 1567\n",
            "\n",
            "Shrink model to first 1568 iterations.\n",
            "CV Log Loss Score: 0.645061\n",
            "\n",
            "----------------- Fold 3 -----------------\n",
            "\n",
            "0:\tlearn: 1.0921923\ttest: 1.0921916\tbest: 1.0921916 (0)\ttotal: 161ms\tremaining: 18m 5s\n",
            "100:\tlearn: 0.8720022\ttest: 0.8637274\tbest: 0.8637274 (100)\ttotal: 15.4s\tremaining: 16m 49s\n",
            "200:\tlearn: 0.8237396\ttest: 0.8007270\tbest: 0.8007270 (200)\ttotal: 32.4s\tremaining: 17m 33s\n",
            "300:\tlearn: 0.8062668\ttest: 0.7753099\tbest: 0.7753099 (300)\ttotal: 47s\tremaining: 16m 44s\n",
            "400:\tlearn: 0.7886614\ttest: 0.7531978\tbest: 0.7531934 (399)\ttotal: 1m 3s\tremaining: 16m 46s\n",
            "500:\tlearn: 0.7762915\ttest: 0.7379472\tbest: 0.7379472 (499)\ttotal: 1m 20s\tremaining: 16m 45s\n",
            "600:\tlearn: 0.7691627\ttest: 0.7275083\tbest: 0.7275083 (599)\ttotal: 1m 37s\tremaining: 16m 29s\n",
            "700:\tlearn: 0.7576404\ttest: 0.7131383\tbest: 0.7131383 (700)\ttotal: 1m 53s\tremaining: 16m 12s\n",
            "800:\tlearn: 0.7402465\ttest: 0.6950804\tbest: 0.6950804 (800)\ttotal: 2m 10s\tremaining: 16m 9s\n",
            "900:\tlearn: 0.7186457\ttest: 0.6727060\tbest: 0.6727060 (900)\ttotal: 2m 32s\tremaining: 16m 23s\n",
            "1000:\tlearn: 0.7033091\ttest: 0.6572213\tbest: 0.6572213 (1000)\ttotal: 2m 58s\tremaining: 17m 1s\n",
            "1100:\tlearn: 0.6889852\ttest: 0.6510704\tbest: 0.6510704 (1100)\ttotal: 3m 29s\tremaining: 17m 48s\n",
            "1200:\tlearn: 0.6759422\ttest: 0.6485890\tbest: 0.6485890 (1200)\ttotal: 4m\tremaining: 18m 25s\n",
            "1300:\tlearn: 0.6654927\ttest: 0.6471404\tbest: 0.6471404 (1300)\ttotal: 4m 32s\tremaining: 18m 54s\n",
            "1400:\tlearn: 0.6552028\ttest: 0.6464077\tbest: 0.6463491 (1398)\ttotal: 5m 3s\tremaining: 19m 14s\n",
            "1500:\tlearn: 0.6455000\ttest: 0.6460279\tbest: 0.6460279 (1500)\ttotal: 5m 34s\tremaining: 19m 25s\n",
            "1600:\tlearn: 0.6369037\ttest: 0.6459426\tbest: 0.6458459 (1598)\ttotal: 6m 4s\tremaining: 19m 27s\n",
            "1700:\tlearn: 0.6279256\ttest: 0.6456051\tbest: 0.6455188 (1685)\ttotal: 6m 35s\tremaining: 19m 27s\n",
            "1800:\tlearn: 0.6180775\ttest: 0.6450620\tbest: 0.6450368 (1778)\ttotal: 7m 5s\tremaining: 19m 24s\n",
            "1900:\tlearn: 0.6078229\ttest: 0.6446879\tbest: 0.6446879 (1900)\ttotal: 7m 36s\tremaining: 19m 19s\n",
            "2000:\tlearn: 0.5983106\ttest: 0.6443682\tbest: 0.6443456 (1999)\ttotal: 8m 7s\tremaining: 19m 10s\n",
            "2100:\tlearn: 0.5894980\ttest: 0.6442521\tbest: 0.6441965 (2085)\ttotal: 8m 38s\tremaining: 19m 1s\n",
            "2200:\tlearn: 0.5811674\ttest: 0.6443721\tbest: 0.6441185 (2112)\ttotal: 9m 9s\tremaining: 18m 49s\n",
            "Stopped by overfitting detector  (100 iterations wait)\n",
            "\n",
            "bestTest = 0.6441185043\n",
            "bestIteration = 2112\n",
            "\n",
            "Shrink model to first 2113 iterations.\n",
            "CV Log Loss Score: 0.644119\n",
            "\n",
            "----------------- Fold 4 -----------------\n",
            "\n",
            "0:\tlearn: 1.0921938\ttest: 1.0922197\tbest: 1.0922197 (0)\ttotal: 179ms\tremaining: 20m 2s\n",
            "100:\tlearn: 0.8836618\ttest: 0.8820877\tbest: 0.8820877 (100)\ttotal: 15.3s\tremaining: 16m 46s\n",
            "200:\tlearn: 0.8396815\ttest: 0.8280332\tbest: 0.8280332 (200)\ttotal: 32.7s\tremaining: 17m 43s\n",
            "300:\tlearn: 0.8095399\ttest: 0.7862719\tbest: 0.7862719 (300)\ttotal: 48.9s\tremaining: 17m 23s\n",
            "400:\tlearn: 0.7939834\ttest: 0.7663679\tbest: 0.7663616 (398)\ttotal: 59.9s\tremaining: 15m 45s\n",
            "500:\tlearn: 0.7824797\ttest: 0.7514526\tbest: 0.7514526 (500)\ttotal: 1m 7s\tremaining: 14m 2s\n",
            "600:\tlearn: 0.7692739\ttest: 0.7369056\tbest: 0.7369056 (600)\ttotal: 1m 15s\tremaining: 12m 52s\n",
            "700:\tlearn: 0.7590873\ttest: 0.7250933\tbest: 0.7250933 (700)\ttotal: 1m 23s\tremaining: 12m\n",
            "800:\tlearn: 0.7396130\ttest: 0.7061611\tbest: 0.7061611 (800)\ttotal: 1m 32s\tremaining: 11m 20s\n",
            "900:\tlearn: 0.7176871\ttest: 0.6840172\tbest: 0.6840172 (900)\ttotal: 1m 41s\tremaining: 10m 58s\n",
            "1000:\tlearn: 0.7017164\ttest: 0.6714449\tbest: 0.6714449 (1000)\ttotal: 1m 54s\tremaining: 10m 54s\n",
            "1100:\tlearn: 0.6879025\ttest: 0.6676982\tbest: 0.6676699 (1099)\ttotal: 2m 8s\tremaining: 10m 58s\n",
            "1200:\tlearn: 0.6769891\ttest: 0.6671041\tbest: 0.6670065 (1191)\ttotal: 2m 23s\tremaining: 11m\n",
            "Stopped by overfitting detector  (100 iterations wait)\n",
            "\n",
            "bestTest = 0.6670065362\n",
            "bestIteration = 1191\n",
            "\n",
            "Shrink model to first 1192 iterations.\n",
            "CV Log Loss Score: 0.667007\n",
            "\n",
            "----------------- Fold 5 -----------------\n",
            "\n",
            "0:\tlearn: 1.0922004\ttest: 1.0922045\tbest: 1.0922045 (0)\ttotal: 67.2ms\tremaining: 7m 32s\n",
            "100:\tlearn: 0.8773198\ttest: 0.8733183\tbest: 0.8733183 (100)\ttotal: 6.12s\tremaining: 6m 41s\n",
            "200:\tlearn: 0.8444442\ttest: 0.8326853\tbest: 0.8326853 (200)\ttotal: 12.4s\tremaining: 6m 43s\n",
            "300:\tlearn: 0.8147882\ttest: 0.7930909\tbest: 0.7930909 (300)\ttotal: 19.5s\tremaining: 6m 55s\n",
            "400:\tlearn: 0.7966060\ttest: 0.7713139\tbest: 0.7713139 (400)\ttotal: 26.9s\tremaining: 7m 4s\n",
            "500:\tlearn: 0.7816995\ttest: 0.7528498\tbest: 0.7528498 (500)\ttotal: 33.7s\tremaining: 6m 58s\n",
            "600:\tlearn: 0.7704538\ttest: 0.7408706\tbest: 0.7408706 (600)\ttotal: 42.2s\tremaining: 7m 10s\n",
            "700:\tlearn: 0.7595655\ttest: 0.7293069\tbest: 0.7293058 (699)\ttotal: 50.4s\tremaining: 7m 12s\n",
            "800:\tlearn: 0.7385499\ttest: 0.7087316\tbest: 0.7087316 (800)\ttotal: 59.1s\tremaining: 7m 17s\n",
            "900:\tlearn: 0.7166765\ttest: 0.6883955\tbest: 0.6883955 (900)\ttotal: 1m 9s\tremaining: 7m 27s\n",
            "1000:\tlearn: 0.7011332\ttest: 0.6775350\tbest: 0.6775350 (1000)\ttotal: 1m 21s\tremaining: 7m 47s\n",
            "1100:\tlearn: 0.6872384\ttest: 0.6739978\tbest: 0.6739978 (1100)\ttotal: 1m 35s\tremaining: 8m 9s\n",
            "1200:\tlearn: 0.6760542\ttest: 0.6725460\tbest: 0.6724971 (1179)\ttotal: 1m 50s\tremaining: 8m 28s\n",
            "1300:\tlearn: 0.6657160\ttest: 0.6722306\tbest: 0.6720696 (1227)\ttotal: 2m 5s\tremaining: 8m 42s\n",
            "Stopped by overfitting detector  (100 iterations wait)\n",
            "\n",
            "bestTest = 0.6720695964\n",
            "bestIteration = 1227\n",
            "\n",
            "Shrink model to first 1228 iterations.\n",
            "CV Log Loss Score: 0.672070\n",
            "\n",
            "----------------- Fold 6 -----------------\n",
            "\n",
            "0:\tlearn: 1.0922011\ttest: 1.0922015\tbest: 1.0922015 (0)\ttotal: 37.8ms\tremaining: 4m 14s\n",
            "100:\tlearn: 0.8786789\ttest: 0.8751694\tbest: 0.8751694 (100)\ttotal: 7.03s\tremaining: 7m 41s\n",
            "200:\tlearn: 0.8313550\ttest: 0.8169683\tbest: 0.8169683 (200)\ttotal: 14.6s\tremaining: 7m 55s\n",
            "300:\tlearn: 0.8099353\ttest: 0.7904343\tbest: 0.7904343 (300)\ttotal: 21.8s\tremaining: 7m 45s\n",
            "400:\tlearn: 0.7960204\ttest: 0.7727623\tbest: 0.7727623 (400)\ttotal: 28.7s\tremaining: 7m 32s\n",
            "500:\tlearn: 0.7816406\ttest: 0.7552938\tbest: 0.7552938 (500)\ttotal: 36.3s\tremaining: 7m 30s\n",
            "600:\tlearn: 0.7707657\ttest: 0.7424155\tbest: 0.7424104 (596)\ttotal: 43.4s\tremaining: 7m 22s\n",
            "700:\tlearn: 0.7596847\ttest: 0.7298131\tbest: 0.7298131 (700)\ttotal: 50.6s\tremaining: 7m 15s\n",
            "800:\tlearn: 0.7385815\ttest: 0.7065332\tbest: 0.7065332 (800)\ttotal: 59.2s\tremaining: 7m 17s\n",
            "900:\tlearn: 0.7168224\ttest: 0.6819900\tbest: 0.6819900 (900)\ttotal: 1m 8s\tremaining: 7m 26s\n",
            "1000:\tlearn: 0.7020596\ttest: 0.6687553\tbest: 0.6687553 (1000)\ttotal: 1m 20s\tremaining: 7m 43s\n",
            "1100:\tlearn: 0.6879545\ttest: 0.6644531\tbest: 0.6644482 (1099)\ttotal: 1m 35s\tremaining: 8m 7s\n",
            "1200:\tlearn: 0.6756883\ttest: 0.6629618\tbest: 0.6629618 (1200)\ttotal: 1m 50s\tremaining: 8m 27s\n",
            "1300:\tlearn: 0.6642756\ttest: 0.6622320\tbest: 0.6622320 (1300)\ttotal: 2m 5s\tremaining: 8m 41s\n",
            "1400:\tlearn: 0.6528353\ttest: 0.6617781\tbest: 0.6615161 (1374)\ttotal: 2m 19s\tremaining: 8m 51s\n",
            "1500:\tlearn: 0.6427980\ttest: 0.6612840\tbest: 0.6612840 (1500)\ttotal: 2m 34s\tremaining: 8m 58s\n",
            "1600:\tlearn: 0.6331505\ttest: 0.6610412\tbest: 0.6610063 (1597)\ttotal: 2m 49s\tremaining: 9m 1s\n",
            "1700:\tlearn: 0.6240911\ttest: 0.6607112\tbest: 0.6606455 (1680)\ttotal: 3m 3s\tremaining: 9m 3s\n",
            "1800:\tlearn: 0.6148490\ttest: 0.6605536\tbest: 0.6605163 (1799)\ttotal: 3m 18s\tremaining: 9m 2s\n",
            "1900:\tlearn: 0.6057242\ttest: 0.6603778\tbest: 0.6601619 (1890)\ttotal: 3m 32s\tremaining: 8m 59s\n",
            "Stopped by overfitting detector  (100 iterations wait)\n",
            "\n",
            "bestTest = 0.6601618846\n",
            "bestIteration = 1890\n",
            "\n",
            "Shrink model to first 1891 iterations.\n",
            "CV Log Loss Score: 0.660162\n",
            "\n",
            "----------------- Fold 7 -----------------\n",
            "\n",
            "0:\tlearn: 1.0922016\ttest: 1.0921983\tbest: 1.0921983 (0)\ttotal: 36.9ms\tremaining: 4m 8s\n",
            "100:\tlearn: 0.8900154\ttest: 0.8900393\tbest: 0.8900393 (100)\ttotal: 7.59s\tremaining: 8m 17s\n",
            "200:\tlearn: 0.8438922\ttest: 0.8363340\tbest: 0.8363340 (200)\ttotal: 15.4s\tremaining: 8m 20s\n",
            "300:\tlearn: 0.8165960\ttest: 0.8020623\tbest: 0.8020623 (300)\ttotal: 23.6s\tremaining: 8m 24s\n",
            "400:\tlearn: 0.7956178\ttest: 0.7759491\tbest: 0.7759491 (400)\ttotal: 31.7s\tremaining: 8m 20s\n",
            "500:\tlearn: 0.7807796\ttest: 0.7581610\tbest: 0.7581610 (500)\ttotal: 39.8s\tremaining: 8m 14s\n",
            "600:\tlearn: 0.7695897\ttest: 0.7459237\tbest: 0.7459173 (599)\ttotal: 48.7s\tremaining: 8m 16s\n",
            "700:\tlearn: 0.7582301\ttest: 0.7346263\tbest: 0.7346263 (700)\ttotal: 56.9s\tremaining: 8m 8s\n",
            "800:\tlearn: 0.7399227\ttest: 0.7164340\tbest: 0.7164323 (799)\ttotal: 1m 4s\tremaining: 7m 58s\n",
            "900:\tlearn: 0.7176574\ttest: 0.6937561\tbest: 0.6937561 (900)\ttotal: 1m 14s\tremaining: 8m 2s\n",
            "1000:\tlearn: 0.7015844\ttest: 0.6805264\tbest: 0.6805264 (1000)\ttotal: 1m 27s\tremaining: 8m 19s\n",
            "1100:\tlearn: 0.6870884\ttest: 0.6749447\tbest: 0.6749447 (1100)\ttotal: 1m 41s\tremaining: 8m 39s\n",
            "1200:\tlearn: 0.6751036\ttest: 0.6734709\tbest: 0.6734251 (1198)\ttotal: 1m 56s\tremaining: 8m 55s\n",
            "1300:\tlearn: 0.6645109\ttest: 0.6720988\tbest: 0.6720988 (1300)\ttotal: 2m 10s\tremaining: 9m 6s\n",
            "1400:\tlearn: 0.6533625\ttest: 0.6713342\tbest: 0.6713342 (1400)\ttotal: 2m 25s\tremaining: 9m 13s\n",
            "1500:\tlearn: 0.6429900\ttest: 0.6709435\tbest: 0.6708803 (1480)\ttotal: 2m 40s\tremaining: 9m 17s\n",
            "1600:\tlearn: 0.6329595\ttest: 0.6707840\tbest: 0.6705751 (1547)\ttotal: 2m 54s\tremaining: 9m 19s\n",
            "1700:\tlearn: 0.6231014\ttest: 0.6705591\tbest: 0.6704677 (1682)\ttotal: 3m 8s\tremaining: 9m 18s\n",
            "Stopped by overfitting detector  (100 iterations wait)\n",
            "\n",
            "bestTest = 0.67046766\n",
            "bestIteration = 1682\n",
            "\n",
            "Shrink model to first 1683 iterations.\n",
            "CV Log Loss Score: 0.670468\n",
            "\n",
            "----------------- Fold 8 -----------------\n",
            "\n",
            "0:\tlearn: 1.0922010\ttest: 1.0921985\tbest: 1.0921985 (0)\ttotal: 36.9ms\tremaining: 4m 7s\n",
            "100:\tlearn: 0.8897391\ttest: 0.8900283\tbest: 0.8900283 (100)\ttotal: 7.43s\tremaining: 8m 7s\n",
            "200:\tlearn: 0.8487307\ttest: 0.8394012\tbest: 0.8394012 (200)\ttotal: 14.7s\tremaining: 7m 58s\n",
            "300:\tlearn: 0.8189014\ttest: 0.7993177\tbest: 0.7993177 (300)\ttotal: 22.3s\tremaining: 7m 55s\n",
            "400:\tlearn: 0.8005326\ttest: 0.7762949\tbest: 0.7762949 (400)\ttotal: 30s\tremaining: 7m 53s\n",
            "500:\tlearn: 0.7843942\ttest: 0.7577156\tbest: 0.7577156 (500)\ttotal: 38.7s\tremaining: 8m\n",
            "600:\tlearn: 0.7752941\ttest: 0.7473067\tbest: 0.7473064 (599)\ttotal: 46.4s\tremaining: 7m 52s\n",
            "700:\tlearn: 0.7612795\ttest: 0.7337758\tbest: 0.7337758 (700)\ttotal: 54.6s\tremaining: 7m 49s\n",
            "800:\tlearn: 0.7382962\ttest: 0.7138974\tbest: 0.7138974 (800)\ttotal: 1m 3s\tremaining: 7m 51s\n",
            "900:\tlearn: 0.7158321\ttest: 0.6941999\tbest: 0.6941999 (900)\ttotal: 1m 13s\tremaining: 7m 56s\n",
            "1000:\tlearn: 0.6990226\ttest: 0.6822830\tbest: 0.6822830 (1000)\ttotal: 1m 27s\tremaining: 8m 18s\n",
            "1100:\tlearn: 0.6847579\ttest: 0.6770768\tbest: 0.6770768 (1100)\ttotal: 1m 41s\tremaining: 8m 39s\n",
            "1200:\tlearn: 0.6732096\ttest: 0.6756362\tbest: 0.6756362 (1200)\ttotal: 1m 56s\tremaining: 8m 55s\n",
            "1300:\tlearn: 0.6623638\ttest: 0.6749961\tbest: 0.6749493 (1299)\ttotal: 2m 10s\tremaining: 9m 6s\n",
            "1400:\tlearn: 0.6529041\ttest: 0.6750821\tbest: 0.6748434 (1355)\ttotal: 2m 25s\tremaining: 9m 12s\n",
            "Stopped by overfitting detector  (100 iterations wait)\n",
            "\n",
            "bestTest = 0.6748434031\n",
            "bestIteration = 1355\n",
            "\n",
            "Shrink model to first 1356 iterations.\n",
            "CV Log Loss Score: 0.674843\n",
            "\n",
            "----------------- Fold 9 -----------------\n",
            "\n",
            "0:\tlearn: 1.0922020\ttest: 1.0922064\tbest: 1.0922064 (0)\ttotal: 38.2ms\tremaining: 4m 17s\n",
            "100:\tlearn: 0.8842020\ttest: 0.8831673\tbest: 0.8831673 (100)\ttotal: 7.03s\tremaining: 7m 41s\n",
            "200:\tlearn: 0.8380076\ttest: 0.8260563\tbest: 0.8260563 (200)\ttotal: 14.6s\tremaining: 7m 55s\n",
            "300:\tlearn: 0.8135817\ttest: 0.7925277\tbest: 0.7925277 (300)\ttotal: 21.6s\tremaining: 7m 42s\n",
            "400:\tlearn: 0.7949379\ttest: 0.7674070\tbest: 0.7674070 (400)\ttotal: 29.6s\tremaining: 7m 46s\n",
            "500:\tlearn: 0.7815728\ttest: 0.7510772\tbest: 0.7510741 (498)\ttotal: 37.2s\tremaining: 7m 42s\n",
            "600:\tlearn: 0.7710472\ttest: 0.7369352\tbest: 0.7369352 (599)\ttotal: 44.3s\tremaining: 7m 31s\n",
            "700:\tlearn: 0.7591254\ttest: 0.7225607\tbest: 0.7225550 (698)\ttotal: 51.7s\tremaining: 7m 24s\n",
            "800:\tlearn: 0.7410890\ttest: 0.7022632\tbest: 0.7022632 (800)\ttotal: 1m\tremaining: 7m 25s\n",
            "900:\tlearn: 0.7177073\ttest: 0.6766911\tbest: 0.6766911 (900)\ttotal: 1m 10s\tremaining: 7m 37s\n",
            "1000:\tlearn: 0.7012866\ttest: 0.6619186\tbest: 0.6619186 (1000)\ttotal: 1m 23s\tremaining: 7m 57s\n",
            "1100:\tlearn: 0.6868877\ttest: 0.6552318\tbest: 0.6552318 (1100)\ttotal: 1m 37s\tremaining: 8m 20s\n",
            "1200:\tlearn: 0.6762938\ttest: 0.6536864\tbest: 0.6536864 (1200)\ttotal: 1m 52s\tremaining: 8m 38s\n",
            "1300:\tlearn: 0.6661991\ttest: 0.6531297\tbest: 0.6531089 (1292)\ttotal: 2m 7s\tremaining: 8m 50s\n",
            "1400:\tlearn: 0.6555658\ttest: 0.6530572\tbest: 0.6530326 (1399)\ttotal: 2m 21s\tremaining: 8m 59s\n",
            "1500:\tlearn: 0.6458673\ttest: 0.6528342\tbest: 0.6527583 (1480)\ttotal: 2m 36s\tremaining: 9m 4s\n",
            "1600:\tlearn: 0.6357545\ttest: 0.6523516\tbest: 0.6523390 (1571)\ttotal: 2m 51s\tremaining: 9m 7s\n",
            "1700:\tlearn: 0.6270413\ttest: 0.6525315\tbest: 0.6522952 (1660)\ttotal: 3m 5s\tremaining: 9m 9s\n",
            "Stopped by overfitting detector  (100 iterations wait)\n",
            "\n",
            "bestTest = 0.6522951991\n",
            "bestIteration = 1660\n",
            "\n",
            "Shrink model to first 1661 iterations.\n",
            "CV Log Loss Score: 0.652295\n",
            "\n",
            "----------------- Fold 10 -----------------\n",
            "\n",
            "0:\tlearn: 1.0921978\ttest: 1.0922100\tbest: 1.0922100 (0)\ttotal: 38ms\tremaining: 4m 15s\n",
            "100:\tlearn: 0.8823483\ttest: 0.8820421\tbest: 0.8820421 (100)\ttotal: 7.65s\tremaining: 8m 21s\n",
            "200:\tlearn: 0.8373305\ttest: 0.8302325\tbest: 0.8302325 (200)\ttotal: 15.3s\tremaining: 8m 18s\n",
            "300:\tlearn: 0.8140702\ttest: 0.7998201\tbest: 0.7998201 (300)\ttotal: 23.1s\tremaining: 8m 13s\n",
            "400:\tlearn: 0.7923301\ttest: 0.7719045\tbest: 0.7719045 (400)\ttotal: 31.6s\tremaining: 8m 19s\n",
            "500:\tlearn: 0.7754395\ttest: 0.7513032\tbest: 0.7513032 (500)\ttotal: 39.9s\tremaining: 8m 15s\n",
            "600:\tlearn: 0.7678972\ttest: 0.7420924\tbest: 0.7420924 (600)\ttotal: 48.5s\tremaining: 8m 14s\n",
            "700:\tlearn: 0.7571396\ttest: 0.7303530\tbest: 0.7303530 (700)\ttotal: 55.9s\tremaining: 8m\n",
            "800:\tlearn: 0.7383831\ttest: 0.7095353\tbest: 0.7095353 (800)\ttotal: 1m 4s\tremaining: 7m 59s\n",
            "900:\tlearn: 0.7179590\ttest: 0.6867635\tbest: 0.6867635 (900)\ttotal: 1m 14s\tremaining: 8m 1s\n",
            "1000:\tlearn: 0.7019467\ttest: 0.6711067\tbest: 0.6711067 (1000)\ttotal: 1m 27s\tremaining: 8m 20s\n",
            "1100:\tlearn: 0.6875596\ttest: 0.6649083\tbest: 0.6649083 (1100)\ttotal: 1m 42s\tremaining: 8m 43s\n",
            "1200:\tlearn: 0.6766858\ttest: 0.6622581\tbest: 0.6622581 (1200)\ttotal: 1m 57s\tremaining: 8m 59s\n",
            "1300:\tlearn: 0.6663280\ttest: 0.6614226\tbest: 0.6614041 (1285)\ttotal: 2m 11s\tremaining: 9m 10s\n",
            "1400:\tlearn: 0.6563541\ttest: 0.6607852\tbest: 0.6606780 (1389)\ttotal: 2m 26s\tremaining: 9m 18s\n",
            "1500:\tlearn: 0.6460166\ttest: 0.6601002\tbest: 0.6600661 (1495)\ttotal: 2m 41s\tremaining: 9m 22s\n",
            "1600:\tlearn: 0.6362760\ttest: 0.6599733\tbest: 0.6598393 (1562)\ttotal: 2m 56s\tremaining: 9m 25s\n",
            "Stopped by overfitting detector  (100 iterations wait)\n",
            "\n",
            "bestTest = 0.6598393498\n",
            "bestIteration = 1562\n",
            "\n",
            "Shrink model to first 1563 iterations.\n",
            "CV Log Loss Score: 0.659839\n",
            "\n",
            "----------------- Fold 11 -----------------\n",
            "\n",
            "0:\tlearn: 1.0921977\ttest: 1.0922327\tbest: 1.0922327 (0)\ttotal: 37.4ms\tremaining: 4m 11s\n",
            "100:\tlearn: 0.8846427\ttest: 0.8848909\tbest: 0.8848909 (100)\ttotal: 6.17s\tremaining: 6m 44s\n",
            "200:\tlearn: 0.8449634\ttest: 0.8390687\tbest: 0.8390687 (200)\ttotal: 13.6s\tremaining: 7m 23s\n",
            "300:\tlearn: 0.8195729\ttest: 0.8096801\tbest: 0.8096801 (300)\ttotal: 20.8s\tremaining: 7m 23s\n",
            "400:\tlearn: 0.8010946\ttest: 0.7874998\tbest: 0.7874998 (400)\ttotal: 28s\tremaining: 7m 22s\n",
            "500:\tlearn: 0.7823201\ttest: 0.7668500\tbest: 0.7668500 (500)\ttotal: 35.5s\tremaining: 7m 21s\n",
            "600:\tlearn: 0.7691838\ttest: 0.7534495\tbest: 0.7534495 (600)\ttotal: 43.8s\tremaining: 7m 26s\n",
            "700:\tlearn: 0.7593542\ttest: 0.7442036\tbest: 0.7442036 (700)\ttotal: 51.4s\tremaining: 7m 22s\n",
            "800:\tlearn: 0.7382904\ttest: 0.7242697\tbest: 0.7242697 (800)\ttotal: 59.4s\tremaining: 7m 19s\n",
            "900:\tlearn: 0.7180009\ttest: 0.7046160\tbest: 0.7046160 (900)\ttotal: 1m 8s\tremaining: 7m 25s\n",
            "1000:\tlearn: 0.7017843\ttest: 0.6944126\tbest: 0.6944126 (1000)\ttotal: 1m 21s\tremaining: 7m 43s\n",
            "1100:\tlearn: 0.6869723\ttest: 0.6906978\tbest: 0.6906978 (1100)\ttotal: 1m 35s\tremaining: 8m 6s\n",
            "1200:\tlearn: 0.6754191\ttest: 0.6897399\tbest: 0.6897282 (1194)\ttotal: 1m 49s\tremaining: 8m 25s\n",
            "1300:\tlearn: 0.6646076\ttest: 0.6892484\tbest: 0.6891807 (1285)\ttotal: 2m 4s\tremaining: 8m 39s\n",
            "1400:\tlearn: 0.6547374\ttest: 0.6890304\tbest: 0.6889079 (1395)\ttotal: 2m 19s\tremaining: 8m 49s\n",
            "Stopped by overfitting detector  (100 iterations wait)\n",
            "\n",
            "bestTest = 0.6889079129\n",
            "bestIteration = 1395\n",
            "\n",
            "Shrink model to first 1396 iterations.\n",
            "CV Log Loss Score: 0.688908\n",
            "\n",
            "----------------- Fold 12 -----------------\n",
            "\n",
            "0:\tlearn: 1.0922002\ttest: 1.0922041\tbest: 1.0922041 (0)\ttotal: 37.4ms\tremaining: 4m 11s\n",
            "100:\tlearn: 0.8726761\ttest: 0.8675575\tbest: 0.8675575 (100)\ttotal: 7.17s\tremaining: 7m 50s\n",
            "200:\tlearn: 0.8338183\ttest: 0.8156264\tbest: 0.8156264 (200)\ttotal: 14.5s\tremaining: 7m 49s\n",
            "300:\tlearn: 0.8098908\ttest: 0.7796584\tbest: 0.7796584 (300)\ttotal: 21.9s\tremaining: 7m 46s\n",
            "400:\tlearn: 0.7923400\ttest: 0.7562972\tbest: 0.7562972 (400)\ttotal: 29.4s\tremaining: 7m 43s\n",
            "500:\tlearn: 0.7789835\ttest: 0.7365727\tbest: 0.7365726 (498)\ttotal: 37.7s\tremaining: 7m 48s\n",
            "600:\tlearn: 0.7713708\ttest: 0.7271108\tbest: 0.7271108 (600)\ttotal: 45.1s\tremaining: 7m 40s\n",
            "700:\tlearn: 0.7608724\ttest: 0.7154569\tbest: 0.7154569 (700)\ttotal: 54.3s\tremaining: 7m 47s\n",
            "800:\tlearn: 0.7410791\ttest: 0.6963007\tbest: 0.6963007 (800)\ttotal: 1m 2s\tremaining: 7m 45s\n",
            "900:\tlearn: 0.7188762\ttest: 0.6747430\tbest: 0.6747430 (900)\ttotal: 1m 12s\tremaining: 7m 51s\n",
            "1000:\tlearn: 0.7029650\ttest: 0.6610847\tbest: 0.6610847 (1000)\ttotal: 1m 25s\tremaining: 8m 11s\n",
            "1100:\tlearn: 0.6879586\ttest: 0.6564275\tbest: 0.6564275 (1100)\ttotal: 1m 40s\tremaining: 8m 33s\n",
            "1200:\tlearn: 0.6769342\ttest: 0.6551186\tbest: 0.6551047 (1198)\ttotal: 1m 55s\tremaining: 8m 50s\n",
            "1300:\tlearn: 0.6669721\ttest: 0.6544470\tbest: 0.6544423 (1298)\ttotal: 2m 10s\tremaining: 9m 2s\n",
            "1400:\tlearn: 0.6567596\ttest: 0.6543418\tbest: 0.6542253 (1355)\ttotal: 2m 24s\tremaining: 9m 10s\n",
            "1500:\tlearn: 0.6469899\ttest: 0.6540044\tbest: 0.6539359 (1494)\ttotal: 2m 39s\tremaining: 9m 14s\n",
            "1600:\tlearn: 0.6371196\ttest: 0.6537573\tbest: 0.6536404 (1584)\ttotal: 2m 53s\tremaining: 9m 16s\n",
            "Stopped by overfitting detector  (100 iterations wait)\n",
            "\n",
            "bestTest = 0.6536404164\n",
            "bestIteration = 1584\n",
            "\n",
            "Shrink model to first 1585 iterations.\n",
            "CV Log Loss Score: 0.653640\n",
            "\n",
            "----------------- Fold 13 -----------------\n",
            "\n",
            "0:\tlearn: 1.0922026\ttest: 1.0921953\tbest: 1.0921953 (0)\ttotal: 37.4ms\tremaining: 4m 11s\n",
            "100:\tlearn: 0.8821220\ttest: 0.8813978\tbest: 0.8813978 (100)\ttotal: 6.95s\tremaining: 7m 36s\n",
            "200:\tlearn: 0.8401811\ttest: 0.8339391\tbest: 0.8339391 (200)\ttotal: 14.8s\tremaining: 8m\n",
            "300:\tlearn: 0.8107881\ttest: 0.7990129\tbest: 0.7990129 (300)\ttotal: 23s\tremaining: 8m 11s\n",
            "400:\tlearn: 0.7918815\ttest: 0.7774393\tbest: 0.7774393 (400)\ttotal: 30.9s\tremaining: 8m 7s\n",
            "500:\tlearn: 0.7801336\ttest: 0.7645446\tbest: 0.7645412 (495)\ttotal: 39s\tremaining: 8m 4s\n",
            "600:\tlearn: 0.7697821\ttest: 0.7540087\tbest: 0.7540072 (596)\ttotal: 46.4s\tremaining: 7m 53s\n",
            "700:\tlearn: 0.7599936\ttest: 0.7434591\tbest: 0.7434591 (700)\ttotal: 54.1s\tremaining: 7m 44s\n",
            "800:\tlearn: 0.7405644\ttest: 0.7221776\tbest: 0.7221776 (800)\ttotal: 1m 1s\tremaining: 7m 35s\n",
            "900:\tlearn: 0.7176532\ttest: 0.6977602\tbest: 0.6977602 (900)\ttotal: 1m 11s\tremaining: 7m 41s\n",
            "1000:\tlearn: 0.7003331\ttest: 0.6845412\tbest: 0.6845412 (1000)\ttotal: 1m 23s\tremaining: 7m 58s\n",
            "1100:\tlearn: 0.6852869\ttest: 0.6801301\tbest: 0.6801283 (1094)\ttotal: 1m 38s\tremaining: 8m 22s\n",
            "1200:\tlearn: 0.6740887\ttest: 0.6790776\tbest: 0.6790220 (1195)\ttotal: 1m 53s\tremaining: 8m 40s\n",
            "1300:\tlearn: 0.6635152\ttest: 0.6784959\tbest: 0.6784765 (1296)\ttotal: 2m 7s\tremaining: 8m 53s\n",
            "1400:\tlearn: 0.6536881\ttest: 0.6789220\tbest: 0.6784724 (1333)\ttotal: 2m 22s\tremaining: 9m 3s\n",
            "Stopped by overfitting detector  (100 iterations wait)\n",
            "\n",
            "bestTest = 0.6784723752\n",
            "bestIteration = 1333\n",
            "\n",
            "Shrink model to first 1334 iterations.\n",
            "CV Log Loss Score: 0.678472\n",
            "\n",
            "----------------- Fold 14 -----------------\n",
            "\n",
            "0:\tlearn: 1.0922020\ttest: 1.0921865\tbest: 1.0921865 (0)\ttotal: 37.2ms\tremaining: 4m 10s\n",
            "100:\tlearn: 0.8878514\ttest: 0.8879979\tbest: 0.8879979 (100)\ttotal: 7.99s\tremaining: 8m 44s\n",
            "200:\tlearn: 0.8450613\ttest: 0.8396532\tbest: 0.8396532 (200)\ttotal: 14.7s\tremaining: 7m 58s\n",
            "300:\tlearn: 0.8139084\ttest: 0.8008813\tbest: 0.8008813 (300)\ttotal: 22.3s\tremaining: 7m 57s\n",
            "400:\tlearn: 0.7927791\ttest: 0.7755719\tbest: 0.7755718 (397)\ttotal: 29.9s\tremaining: 7m 52s\n",
            "500:\tlearn: 0.7782218\ttest: 0.7563073\tbest: 0.7563073 (499)\ttotal: 38.5s\tremaining: 7m 58s\n",
            "600:\tlearn: 0.7689056\ttest: 0.7449840\tbest: 0.7449839 (599)\ttotal: 45.6s\tremaining: 7m 45s\n",
            "700:\tlearn: 0.7604742\ttest: 0.7354837\tbest: 0.7354837 (700)\ttotal: 53.7s\tremaining: 7m 42s\n",
            "800:\tlearn: 0.7399069\ttest: 0.7125146\tbest: 0.7125146 (800)\ttotal: 1m 2s\tremaining: 7m 41s\n",
            "900:\tlearn: 0.7182431\ttest: 0.6884492\tbest: 0.6884492 (900)\ttotal: 1m 12s\tremaining: 7m 51s\n",
            "1000:\tlearn: 0.7023496\ttest: 0.6748850\tbest: 0.6748850 (1000)\ttotal: 1m 25s\tremaining: 8m 10s\n",
            "1100:\tlearn: 0.6876435\ttest: 0.6691025\tbest: 0.6690912 (1099)\ttotal: 1m 40s\tremaining: 8m 31s\n",
            "1200:\tlearn: 0.6761154\ttest: 0.6673106\tbest: 0.6672113 (1197)\ttotal: 1m 54s\tremaining: 8m 47s\n",
            "1300:\tlearn: 0.6656642\ttest: 0.6667481\tbest: 0.6667308 (1295)\ttotal: 2m 9s\tremaining: 9m\n",
            "1400:\tlearn: 0.6556220\ttest: 0.6662424\tbest: 0.6662424 (1400)\ttotal: 2m 24s\tremaining: 9m 8s\n",
            "1500:\tlearn: 0.6451424\ttest: 0.6658776\tbest: 0.6658498 (1493)\ttotal: 2m 39s\tremaining: 9m 14s\n",
            "1600:\tlearn: 0.6354570\ttest: 0.6658436\tbest: 0.6655858 (1561)\ttotal: 2m 53s\tremaining: 9m 16s\n",
            "Stopped by overfitting detector  (100 iterations wait)\n",
            "\n",
            "bestTest = 0.6655858018\n",
            "bestIteration = 1561\n",
            "\n",
            "Shrink model to first 1562 iterations.\n",
            "CV Log Loss Score: 0.665586\n",
            "\tLog Loss: 0.662465\n"
          ]
        }
      ],
      "source": [
        "skfold = StratifiedKFold(n_splits=n_fold, shuffle=True, random_state=seed)\n",
        "folds=[]\n",
        "\n",
        "for train_idx, valid_idx in skfold.split(X, y):\n",
        "    folds.append((train_idx, valid_idx))\n",
        "\n",
        "cat_pred = np.zeros((X.shape[0], n_class))\n",
        "cat_pred_test = np.zeros((X_test.shape[0], n_class))\n",
        "cat_cols = ['gender','car','reality','income_type', 'edu_type', 'family_type', 'house_type', 'occyp_type',\n",
        "            'ID','G_C_R','F_H']\n",
        "\n",
        "for fold in range(n_fold):\n",
        "    print(f'\\n----------------- Fold {fold} -----------------\\n')\n",
        "  \n",
        "    train_idx, valid_idx = folds[fold]\n",
        "    X_train, X_valid, y_train, y_valid = X.iloc[train_idx], X.iloc[valid_idx], y[train_idx], y[valid_idx]\n",
        "    train_data = Pool(data=X_train, label=y_train, cat_features=cat_cols)\n",
        "    valid_data = Pool(data=X_valid, label=y_valid, cat_features=cat_cols)\n",
        "    model_cat = CatBoostClassifier(**study.best_params)\n",
        "    model_cat.fit(train_data, eval_set=valid_data, use_best_model=True, early_stopping_rounds=100, verbose=100)\n",
        "    \n",
        "    cat_pred[valid_idx] = model_cat.predict_proba(X_valid)\n",
        "    cat_pred_test += model_cat.predict_proba(X_test) / n_fold\n",
        "    print(f'CV Log Loss Score: {log_loss(y_valid, cat_pred[valid_idx]):.6f}')\n",
        "    \n",
        "print(f'\\tLog Loss: {log_loss(y, cat_pred):.6f}')"
      ]
    },
    {
      "cell_type": "code",
      "execution_count": null,
      "metadata": {
        "id": "77313a6f"
      },
      "outputs": [],
      "source": [
        "def plot_feature_importance(importance,names,model_type):\n",
        "    \n",
        "    feature_importance = np.array(importance)\n",
        "    feature_names = np.array(names)\n",
        "    \n",
        "    data={'feature_names':feature_names,'feature_importance':feature_importance}\n",
        "    fi_df = pd.DataFrame(data)\n",
        "    \n",
        "    fi_df.sort_values(by=['feature_importance'], ascending=False,inplace=True)\n",
        "\n",
        "    plt.figure(figsize=(10,8))\n",
        "\n",
        "    sns.barplot(x=fi_df['feature_importance'], y=fi_df['feature_names'])\n",
        "\n",
        "    plt.title(model_type + ' Feature Importance')\n",
        "    plt.xlabel('Feature Importance')\n",
        "    plt.ylabel('Feature Names')"
      ]
    },
    {
      "cell_type": "code",
      "execution_count": null,
      "metadata": {
        "id": "45c01937",
        "outputId": "bdc11d70-8cb6-43b9-83a4-9d20007d843b"
      },
      "outputs": [
        {
          "data": {
            "image/png": "[encoded data removed]",
            "text/plain": [
              "<Figure size 720x576 with 1 Axes>"
            ]
          },
          "metadata": {
            "needs_background": "light"
          },
          "output_type": "display_data"
        }
      ],
      "source": [
        "plot_feature_importance(model_cat.get_feature_importance(),X_test.columns,'CATBOOST')"
      ]
    },
    {
      "cell_type": "code",
      "execution_count": null,
      "metadata": {
        "id": "7d324423"
      },
      "outputs": [],
      "source": [
        "sub = pd.read_csv('/home/lab07/data/sample_submission.csv')"
      ]
    },
    {
      "cell_type": "code",
      "execution_count": null,
      "metadata": {
        "id": "5feaa73e"
      },
      "outputs": [],
      "source": [
        "sub.iloc[:, 1:] = cat_pred_test"
      ]
    },
    {
      "cell_type": "code",
      "execution_count": null,
      "metadata": {
        "id": "a109c96c"
      },
      "outputs": [],
      "source": [
        "sub.to_csv('/home/lab07/data/submission_feature_catboost_optuna_nfold_15.csv', index=False)"
      ]
    },
    {
      "cell_type": "markdown",
      "metadata": {
        "id": "4c6cf4f3"
      },
      "source": [
        "# 모델링-1 후기\n",
        "- 점수 0.66659, 12등\n",
        "- 오랜 시간(3시간)이 소요되지만, Optuna의 효과는 최대로 발휘했다.\n",
        "- 역시 CatBoost는 Categorical 변수가 중요해보인다.\n",
        "- 다음 Machine Learging 경진대회에서는 다양한 알고리즘과 그에 맞는 feature engineering을 할 것이다."
      ]
    }
  ]
}