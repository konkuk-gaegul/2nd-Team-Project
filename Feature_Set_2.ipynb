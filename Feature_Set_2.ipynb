{
  "cells": [
    {
      "cell_type": "markdown",
      "metadata": {
        "id": "view-in-github",
        "colab_type": "text"
      },
      "source": [
        "<a href=\"https://colab.research.google.com/github/konkuk-gaegul/2nd-Team-Project/blob/main/Feature_Set_2.ipynb\" target=\"_parent\"><img src=\"https://colab.research.google.com/assets/colab-badge.svg\" alt=\"Open In Colab\"/></a>"
      ]
    },
    {
      "cell_type": "markdown",
      "metadata": {
        "id": "iUNLI9rbuuHJ"
      },
      "source": [
        "# 라이브러리"
      ]
    },
    {
      "cell_type": "code",
      "execution_count": null,
      "metadata": {
        "id": "N9cRM90yueuA"
      },
      "outputs": [],
      "source": [
        "%tensorflow_version 2.x\n",
        "import tensorflow as tf\n",
        "print(\"Tensorflow version \" + tf.__version__)\n",
        "\n",
        "try:\n",
        "  tpu = tf.distribute.cluster_resolver.TPUClusterResolver()  # TPU detection\n",
        "  print('Running on TPU ', tpu.cluster_spec().as_dict()['worker'])\n",
        "except ValueError:\n",
        "  raise BaseException('ERROR: Not connected to a TPU runtime; please see the previous cell in this notebook for instructions!')\n",
        "\n",
        "tf.config.experimental_connect_to_cluster(tpu)\n",
        "tf.tpu.experimental.initialize_tpu_system(tpu)\n",
        "tpu_strategy = tf.distribute.experimental.TPUStrategy(tpu)"
      ]
    },
    {
      "cell_type": "code",
      "execution_count": null,
      "metadata": {
        "id": "FIvRB8Nrux7X"
      },
      "outputs": [],
      "source": [
        "!pip install lightgbm\n",
        "!pip install xgboost\n",
        "!pip install eli5 shap catboost\n",
        "!pip install catboost\n",
        "!pip install category_encoders"
      ]
    },
    {
      "cell_type": "code",
      "execution_count": null,
      "metadata": {
        "id": "6OfCsS-6uwNc"
      },
      "outputs": [],
      "source": [
        "import tensorflow as tf\n",
        "\n",
        "from lightgbm import LGBMClassifier\n",
        "from sklearn.preprocessing import OneHotEncoder, OrdinalEncoder\n",
        "from sklearn.model_selection import cross_validate\n",
        "\n",
        "import warnings\n",
        "warnings.filterwarnings('always')\n",
        "warnings.filterwarnings('ignore')\n",
        "\n",
        "import numpy as np\n",
        "import pandas as pd\n",
        "\n",
        "import matplotlib.pyplot as plt\n",
        "import seaborn as sns\n",
        "\n",
        "from sklearn import datasets\n",
        "\n",
        "# ML\n",
        "from sklearn.svm import SVC, SVR\n",
        "from sklearn.neighbors import KNeighborsClassifier, KNeighborsRegressor\n",
        "from sklearn.linear_model import LinearRegression, LogisticRegression\n",
        "from sklearn.tree import DecisionTreeClassifier, DecisionTreeRegressor\n",
        "\n",
        "# ensemble(bagging)\n",
        "from sklearn.ensemble import ( \n",
        "  BaggingClassifier, BaggingRegressor, RandomForestClassifier, RandomForestRegressor\n",
        ")\n",
        "\n",
        "#ensemble(boosting)\n",
        "import xgboost as xgb\n",
        "import lightgbm as lgb\n",
        "import catboost as cb\n",
        "\n",
        "#stacking\n",
        "from sklearn.pipeline import make_pipeline\n",
        "from sklearn.ensemble import StackingClassifier, StackingRegressor\n",
        "\n",
        "# 평가\n",
        "from sklearn.metrics import r2_score, mean_absolute_error, mean_squared_error\n",
        "from sklearn.metrics import accuracy_score, f1_score, roc_auc_score, roc_curve, classification_report\n",
        "\n",
        "# 교차검증\n",
        "from sklearn.model_selection import (\n",
        "  KFold, StratifiedKFold, RepeatedStratifiedKFold, cross_val_score, GridSearchCV, train_test_split\n",
        ")\n",
        "\n",
        "# Feature Selection\n",
        "from sklearn.feature_selection import RFE, RFECV\n",
        "\n",
        "# 시각화(SVM은 회귀계수가 나오지 않습니다.)\n",
        "import eli5\n",
        "from eli5.sklearn import PermutationImportance\n",
        "import shap\n",
        "\n",
        "# 트리 시각화\n",
        "import graphviz\n",
        "\n",
        "# 인코딩\n",
        "from category_encoders.ordinal import OrdinalEncoder\n",
        "from sklearn.preprocessing import LabelEncoder\n",
        "\n",
        "from sklearn.metrics import log_loss\n",
        "from sklearn.preprocessing import StandardScaler\n",
        "from category_encoders.ordinal import OrdinalEncoder\n",
        "from sklearn.model_selection import StratifiedKFold\n",
        "\n",
        "from sklearn.cluster import KMeans\n",
        "from catboost import CatBoostClassifier, Pool"
      ]
    },
    {
      "cell_type": "markdown",
      "source": [
        "# train & test 불러오기"
      ],
      "metadata": {
        "id": "qMpfJ2x_GP35"
      }
    },
    {
      "cell_type": "code",
      "source": [
        "train_path = '/content/drive/MyDrive/data/credit/rawData/train.csv'\n",
        "test_path = '/content/drive/MyDrive/data/credit/rawData/test.csv'"
      ],
      "metadata": {
        "id": "m89T9fToGC4t"
      },
      "execution_count": null,
      "outputs": []
    },
    {
      "cell_type": "markdown",
      "source": [
        "# 데이터 가공"
      ],
      "metadata": {
        "id": "_xuf5uRheFCW"
      }
    },
    {
      "cell_type": "markdown",
      "source": [
        "## 함수 부분"
      ],
      "metadata": {
        "id": "Aj4IdsNCjy7q"
      }
    },
    {
      "cell_type": "code",
      "source": [
        "# day를 year로 변경해주는 함수\n",
        "def days_to_year(x):\n",
        "    return (x*-1)/365\n",
        "\n",
        "# 마이너스 변환\n",
        "def minus(x):\n",
        "    return x * -1"
      ],
      "metadata": {
        "id": "y6pyJdodHN-c"
      },
      "execution_count": null,
      "outputs": []
    },
    {
      "cell_type": "code",
      "source": [
        "train = pd.read_csv(train_path)\n",
        "test = pd.read_csv(test_path)\n",
        "def numeric(df):\n",
        "\n",
        "# 1. 의미없는 변수 제거 : index, FLAG_MOBIL, child_num\n",
        "    df.drop(['index', 'FLAG_MOBIL', 'child_num'], axis=1, inplace = True)\n",
        "\n",
        "# 2. 이상치 처리\n",
        "    # 가족수 9명 이상, 6개 자료 삭제 및 인덱스 재설정 \n",
        "    df = df[ ( df['family_size'] <= 7 ) ]\n",
        "    df = df.reset_index(drop=True)\n",
        "\n",
        "# 3. 결측치 처리\n",
        "    # 첫 째, 결측치 & 근무일이 양수 & 연금수령자 인 경우 retiree(퇴직자)\n",
        "    # 둘 째, 결측치 & 근무일이 음수인 경우 다양한 income_type 분포로 인해 No response처리\n",
        "    df.loc[ (df.occyp_type.isna() == True) & (df.DAYS_EMPLOYED > 0) & \n",
        "           (df.income_type == 'Pensioner'), 'occyp_type' ] = 'retiree'\n",
        "    df['DAYS_EMPLOYED'] = df[ 'DAYS_EMPLOYED' ].map(lambda x: 0 if x>0 else x)\n",
        "    df.occyp_type.fillna('No response', inplace=True) \n",
        "\n",
        "# 4. log 사용\n",
        "    # 음수자료를 양수로 변환\n",
        "    feats = ['DAYS_BIRTH', 'begin_month', 'DAYS_EMPLOYED']\n",
        "    for feat in feats:\n",
        "        df[feat] = np.abs(df[feat])\n",
        "        \n",
        "    df['income_total'] = np.log1p(1+df['income_total'])\n",
        "    df['DAYS_EMPLOYED'] = np.log1p(1+df['DAYS_EMPLOYED'])\n",
        "    df['DAYS_BIRTH'] = np.log1p(1+df['DAYS_BIRTH'])\n",
        "    df['begin_month'] = np.log1p(1+df['begin_month'])\n",
        "\n",
        "# 5. 새로운 변수 ID열 생성 : 한 사람이 다수의 카드를 발급 받았을 경우\n",
        "    df['ID'] = \\\n",
        "    df['income_total'].astype(str) + '_' +\\\n",
        "    df['DAYS_BIRTH'].astype(str) + '_' + df['DAYS_EMPLOYED'].astype(str) + '_' +\\\n",
        "    df['work_phone'].astype(str) + '_' + df['phone'].astype(str) + '_' +\\\n",
        "    df['email'].astype(str) + '_' + df['family_size'].astype(str) + '_' +\\\n",
        "    df['gender'].astype(str) + '_' + df['car'].astype(str) + '_' +\\\n",
        "    df['reality'].astype(str) + '_' + df['income_type'].astype(str) + '_' +\\\n",
        "    df['edu_type'].astype(str) + '_' + df['family_type'].astype(str) + '_' +\\\n",
        "    df['house_type'].astype(str) + '_' + df['occyp_type'].astype(str)\n",
        "\n",
        "# 6. 라벨 인코딩 (categorical 변수를 numerical로 변환!!)\n",
        "    df['gender']=LabelEncoder().fit_transform(df.gender)\n",
        "    df['car']=LabelEncoder().fit_transform(df.car)\n",
        "    df['reality']=LabelEncoder().fit_transform(df.reality)\n",
        "\n",
        "    return df\n",
        "# ------------------------------------------------------------------- #"
      ],
      "metadata": {
        "id": "FG9JnkAGiW4s"
      },
      "execution_count": null,
      "outputs": []
    },
    {
      "cell_type": "code",
      "source": [
        "train = numeric(train)\n",
        "test  = numeric(test)"
      ],
      "metadata": {
        "id": "d5EBkHhwfvDN"
      },
      "execution_count": null,
      "outputs": []
    },
    {
      "cell_type": "markdown",
      "source": [
        "## 인코딩"
      ],
      "metadata": {
        "id": "COr1SLlJsfok"
      }
    },
    {
      "cell_type": "code",
      "source": [
        "!pip install category_encoders"
      ],
      "metadata": {
        "id": "60UloErwo15X"
      },
      "execution_count": null,
      "outputs": []
    },
    {
      "cell_type": "code",
      "source": [
        "from category_encoders.ordinal import OrdinalEncoder"
      ],
      "metadata": {
        "id": "y7yFS-bEo13k"
      },
      "execution_count": null,
      "outputs": []
    },
    {
      "cell_type": "code",
      "source": [
        "numerical_feats = train.dtypes[train.dtypes != \"object\"].index.tolist()\n",
        "numerical_feats.remove('credit')\n",
        "print(\"Number of Numerical features: \", len(numerical_feats))\n",
        "\n",
        "categorical_feats = train.dtypes[train.dtypes == \"object\"].index.tolist()\n",
        "print(\"Number of Categorical features: \", len(categorical_feats))"
      ],
      "metadata": {
        "colab": {
          "base_uri": "https://localhost:8080/"
        },
        "id": "Prdq-TLWo11N",
        "outputId": "5e9a1695-ede3-4de5-90d8-5f18a58e8fbd"
      },
      "execution_count": null,
      "outputs": [
        {
          "output_type": "stream",
          "name": "stdout",
          "text": [
            "Number of Numerical features:  11\n",
            "Number of Categorical features:  6\n"
          ]
        }
      ]
    },
    {
      "cell_type": "code",
      "source": [
        "numerical_feats"
      ],
      "metadata": {
        "colab": {
          "base_uri": "https://localhost:8080/"
        },
        "id": "wRCXPjJso6no",
        "outputId": "3b4a52b6-41dd-4455-f02e-5c34291630e8"
      },
      "execution_count": null,
      "outputs": [
        {
          "output_type": "execute_result",
          "data": {
            "text/plain": [
              "['gender',\n",
              " 'car',\n",
              " 'reality',\n",
              " 'income_total',\n",
              " 'DAYS_BIRTH',\n",
              " 'DAYS_EMPLOYED',\n",
              " 'work_phone',\n",
              " 'phone',\n",
              " 'email',\n",
              " 'family_size',\n",
              " 'begin_month']"
            ]
          },
          "metadata": {},
          "execution_count": 13
        }
      ]
    },
    {
      "cell_type": "code",
      "source": [
        "categorical_feats"
      ],
      "metadata": {
        "colab": {
          "base_uri": "https://localhost:8080/"
        },
        "id": "Frt20djLo6lW",
        "outputId": "e24c1f25-f570-4f49-a882-28bc55ee8398"
      },
      "execution_count": null,
      "outputs": [
        {
          "output_type": "execute_result",
          "data": {
            "text/plain": [
              "['income_type', 'edu_type', 'family_type', 'house_type', 'occyp_type', 'ID']"
            ]
          },
          "metadata": {},
          "execution_count": 14
        }
      ]
    },
    {
      "cell_type": "code",
      "source": [
        "train.head(2)"
      ],
      "metadata": {
        "colab": {
          "base_uri": "https://localhost:8080/",
          "height": 246
        },
        "id": "N5p9PaubfvBH",
        "outputId": "fb092fdf-1859-48f0-aa08-3b806cedf247"
      },
      "execution_count": null,
      "outputs": [
        {
          "output_type": "execute_result",
          "data": {
            "text/html": [
              "\n",
              "  <div id=\"df-8515b37d-d142-42ad-8b20-6a6b96b10437\">\n",
              "    <div class=\"colab-df-container\">\n",
              "      <div>\n",
              "<style scoped>\n",
              "    .dataframe tbody tr th:only-of-type {\n",
              "        vertical-align: middle;\n",
              "    }\n",
              "\n",
              "    .dataframe tbody tr th {\n",
              "        vertical-align: top;\n",
              "    }\n",
              "\n",
              "    .dataframe thead th {\n",
              "        text-align: right;\n",
              "    }\n",
              "</style>\n",
              "<table border=\"1\" class=\"dataframe\">\n",
              "  <thead>\n",
              "    <tr style=\"text-align: right;\">\n",
              "      <th></th>\n",
              "      <th>gender</th>\n",
              "      <th>car</th>\n",
              "      <th>reality</th>\n",
              "      <th>income_total</th>\n",
              "      <th>income_type</th>\n",
              "      <th>edu_type</th>\n",
              "      <th>family_type</th>\n",
              "      <th>house_type</th>\n",
              "      <th>DAYS_BIRTH</th>\n",
              "      <th>DAYS_EMPLOYED</th>\n",
              "      <th>work_phone</th>\n",
              "      <th>phone</th>\n",
              "      <th>email</th>\n",
              "      <th>occyp_type</th>\n",
              "      <th>family_size</th>\n",
              "      <th>begin_month</th>\n",
              "      <th>credit</th>\n",
              "      <th>ID</th>\n",
              "    </tr>\n",
              "  </thead>\n",
              "  <tbody>\n",
              "    <tr>\n",
              "      <th>0</th>\n",
              "      <td>0</td>\n",
              "      <td>0</td>\n",
              "      <td>0</td>\n",
              "      <td>12.218505</td>\n",
              "      <td>Commercial associate</td>\n",
              "      <td>Higher education</td>\n",
              "      <td>Married</td>\n",
              "      <td>Municipal apartment</td>\n",
              "      <td>9.539716</td>\n",
              "      <td>8.457655</td>\n",
              "      <td>0</td>\n",
              "      <td>0</td>\n",
              "      <td>0</td>\n",
              "      <td>No response</td>\n",
              "      <td>2.0</td>\n",
              "      <td>2.079442</td>\n",
              "      <td>1.0</td>\n",
              "      <td>12.218505042023168_9.539716058977092_8.4576554...</td>\n",
              "    </tr>\n",
              "    <tr>\n",
              "      <th>1</th>\n",
              "      <td>0</td>\n",
              "      <td>0</td>\n",
              "      <td>1</td>\n",
              "      <td>12.419174</td>\n",
              "      <td>Commercial associate</td>\n",
              "      <td>Secondary / secondary special</td>\n",
              "      <td>Civil marriage</td>\n",
              "      <td>House / apartment</td>\n",
              "      <td>9.339788</td>\n",
              "      <td>7.340836</td>\n",
              "      <td>0</td>\n",
              "      <td>0</td>\n",
              "      <td>1</td>\n",
              "      <td>Laborers</td>\n",
              "      <td>3.0</td>\n",
              "      <td>1.945910</td>\n",
              "      <td>1.0</td>\n",
              "      <td>12.419173941766314_9.339788439163069_7.3408355...</td>\n",
              "    </tr>\n",
              "  </tbody>\n",
              "</table>\n",
              "</div>\n",
              "      <button class=\"colab-df-convert\" onclick=\"convertToInteractive('df-8515b37d-d142-42ad-8b20-6a6b96b10437')\"\n",
              "              title=\"Convert this dataframe to an interactive table.\"\n",
              "              style=\"display:none;\">\n",
              "        \n",
              "  <svg xmlns=\"http://www.w3.org/2000/svg\" height=\"24px\"viewBox=\"0 0 24 24\"\n",
              "       width=\"24px\">\n",
              "    <path d=\"M0 0h24v24H0V0z\" fill=\"none\"/>\n",
              "    <path d=\"M18.56 5.44l.94 2.06.94-2.06 2.06-.94-2.06-.94-.94-2.06-.94 2.06-2.06.94zm-11 1L8.5 8.5l.94-2.06 2.06-.94-2.06-.94L8.5 2.5l-.94 2.06-2.06.94zm10 10l.94 2.06.94-2.06 2.06-.94-2.06-.94-.94-2.06-.94 2.06-2.06.94z\"/><path d=\"M17.41 7.96l-1.37-1.37c-.4-.4-.92-.59-1.43-.59-.52 0-1.04.2-1.43.59L10.3 9.45l-7.72 7.72c-.78.78-.78 2.05 0 2.83L4 21.41c.39.39.9.59 1.41.59.51 0 1.02-.2 1.41-.59l7.78-7.78 2.81-2.81c.8-.78.8-2.07 0-2.86zM5.41 20L4 18.59l7.72-7.72 1.47 1.35L5.41 20z\"/>\n",
              "  </svg>\n",
              "      </button>\n",
              "      \n",
              "  <style>\n",
              "    .colab-df-container {\n",
              "      display:flex;\n",
              "      flex-wrap:wrap;\n",
              "      gap: 12px;\n",
              "    }\n",
              "\n",
              "    .colab-df-convert {\n",
              "      background-color: #E8F0FE;\n",
              "      border: none;\n",
              "      border-radius: 50%;\n",
              "      cursor: pointer;\n",
              "      display: none;\n",
              "      fill: #1967D2;\n",
              "      height: 32px;\n",
              "      padding: 0 0 0 0;\n",
              "      width: 32px;\n",
              "    }\n",
              "\n",
              "    .colab-df-convert:hover {\n",
              "      background-color: #E2EBFA;\n",
              "      box-shadow: 0px 1px 2px rgba(60, 64, 67, 0.3), 0px 1px 3px 1px rgba(60, 64, 67, 0.15);\n",
              "      fill: #174EA6;\n",
              "    }\n",
              "\n",
              "    [theme=dark] .colab-df-convert {\n",
              "      background-color: #3B4455;\n",
              "      fill: #D2E3FC;\n",
              "    }\n",
              "\n",
              "    [theme=dark] .colab-df-convert:hover {\n",
              "      background-color: #434B5C;\n",
              "      box-shadow: 0px 1px 3px 1px rgba(0, 0, 0, 0.15);\n",
              "      filter: drop-shadow(0px 1px 2px rgba(0, 0, 0, 0.3));\n",
              "      fill: #FFFFFF;\n",
              "    }\n",
              "  </style>\n",
              "\n",
              "      <script>\n",
              "        const buttonEl =\n",
              "          document.querySelector('#df-8515b37d-d142-42ad-8b20-6a6b96b10437 button.colab-df-convert');\n",
              "        buttonEl.style.display =\n",
              "          google.colab.kernel.accessAllowed ? 'block' : 'none';\n",
              "\n",
              "        async function convertToInteractive(key) {\n",
              "          const element = document.querySelector('#df-8515b37d-d142-42ad-8b20-6a6b96b10437');\n",
              "          const dataTable =\n",
              "            await google.colab.kernel.invokeFunction('convertToInteractive',\n",
              "                                                     [key], {});\n",
              "          if (!dataTable) return;\n",
              "\n",
              "          const docLinkHtml = 'Like what you see? Visit the ' +\n",
              "            '<a target=\"_blank\" href=https://colab.research.google.com/notebooks/data_table.ipynb>data table notebook</a>'\n",
              "            + ' to learn more about interactive tables.';\n",
              "          element.innerHTML = '';\n",
              "          dataTable['output_type'] = 'display_data';\n",
              "          await google.colab.output.renderOutput(dataTable, element);\n",
              "          const docLink = document.createElement('div');\n",
              "          docLink.innerHTML = docLinkHtml;\n",
              "          element.appendChild(docLink);\n",
              "        }\n",
              "      </script>\n",
              "    </div>\n",
              "  </div>\n",
              "  "
            ],
            "text/plain": [
              "   gender  car  reality  income_total           income_type  \\\n",
              "0       0    0        0     12.218505  Commercial associate   \n",
              "1       0    0        1     12.419174  Commercial associate   \n",
              "\n",
              "                        edu_type     family_type           house_type  \\\n",
              "0               Higher education         Married  Municipal apartment   \n",
              "1  Secondary / secondary special  Civil marriage    House / apartment   \n",
              "\n",
              "   DAYS_BIRTH  DAYS_EMPLOYED  work_phone  phone  email   occyp_type  \\\n",
              "0    9.539716       8.457655           0      0      0  No response   \n",
              "1    9.339788       7.340836           0      0      1     Laborers   \n",
              "\n",
              "   family_size  begin_month  credit  \\\n",
              "0          2.0     2.079442     1.0   \n",
              "1          3.0     1.945910     1.0   \n",
              "\n",
              "                                                  ID  \n",
              "0  12.218505042023168_9.539716058977092_8.4576554...  \n",
              "1  12.419173941766314_9.339788439163069_7.3408355...  "
            ]
          },
          "metadata": {},
          "execution_count": 15
        }
      ]
    },
    {
      "cell_type": "code",
      "source": [
        "encoder = OrdinalEncoder(categorical_feats)\n",
        "train[categorical_feats] = encoder.fit_transform(train[categorical_feats], train['credit'])\n",
        "test[categorical_feats] = encoder.transform(test[categorical_feats])\n",
        "\n",
        "train['ID'] = train['ID'].astype('int64')\n",
        "test['ID'] = test['ID'].astype('int64')"
      ],
      "metadata": {
        "id": "dGLaTLbCfu_R"
      },
      "execution_count": null,
      "outputs": []
    },
    {
      "cell_type": "code",
      "source": [
        "train.head(2)"
      ],
      "metadata": {
        "colab": {
          "base_uri": "https://localhost:8080/",
          "height": 176
        },
        "id": "MAVuXjW8fu9H",
        "outputId": "9697bfd9-5cac-45ce-eeda-37fd8b51e919"
      },
      "execution_count": null,
      "outputs": [
        {
          "output_type": "execute_result",
          "data": {
            "text/html": [
              "\n",
              "  <div id=\"df-3ca21b4c-a2c8-4829-8112-fa346821bbb6\">\n",
              "    <div class=\"colab-df-container\">\n",
              "      <div>\n",
              "<style scoped>\n",
              "    .dataframe tbody tr th:only-of-type {\n",
              "        vertical-align: middle;\n",
              "    }\n",
              "\n",
              "    .dataframe tbody tr th {\n",
              "        vertical-align: top;\n",
              "    }\n",
              "\n",
              "    .dataframe thead th {\n",
              "        text-align: right;\n",
              "    }\n",
              "</style>\n",
              "<table border=\"1\" class=\"dataframe\">\n",
              "  <thead>\n",
              "    <tr style=\"text-align: right;\">\n",
              "      <th></th>\n",
              "      <th>gender</th>\n",
              "      <th>car</th>\n",
              "      <th>reality</th>\n",
              "      <th>income_total</th>\n",
              "      <th>income_type</th>\n",
              "      <th>edu_type</th>\n",
              "      <th>family_type</th>\n",
              "      <th>house_type</th>\n",
              "      <th>DAYS_BIRTH</th>\n",
              "      <th>DAYS_EMPLOYED</th>\n",
              "      <th>work_phone</th>\n",
              "      <th>phone</th>\n",
              "      <th>email</th>\n",
              "      <th>occyp_type</th>\n",
              "      <th>family_size</th>\n",
              "      <th>begin_month</th>\n",
              "      <th>credit</th>\n",
              "      <th>ID</th>\n",
              "    </tr>\n",
              "  </thead>\n",
              "  <tbody>\n",
              "    <tr>\n",
              "      <th>0</th>\n",
              "      <td>0</td>\n",
              "      <td>0</td>\n",
              "      <td>0</td>\n",
              "      <td>12.218505</td>\n",
              "      <td>1</td>\n",
              "      <td>1</td>\n",
              "      <td>1</td>\n",
              "      <td>1</td>\n",
              "      <td>9.539716</td>\n",
              "      <td>8.457655</td>\n",
              "      <td>0</td>\n",
              "      <td>0</td>\n",
              "      <td>0</td>\n",
              "      <td>1</td>\n",
              "      <td>2.0</td>\n",
              "      <td>2.079442</td>\n",
              "      <td>1.0</td>\n",
              "      <td>1</td>\n",
              "    </tr>\n",
              "    <tr>\n",
              "      <th>1</th>\n",
              "      <td>0</td>\n",
              "      <td>0</td>\n",
              "      <td>1</td>\n",
              "      <td>12.419174</td>\n",
              "      <td>1</td>\n",
              "      <td>2</td>\n",
              "      <td>2</td>\n",
              "      <td>2</td>\n",
              "      <td>9.339788</td>\n",
              "      <td>7.340836</td>\n",
              "      <td>0</td>\n",
              "      <td>0</td>\n",
              "      <td>1</td>\n",
              "      <td>2</td>\n",
              "      <td>3.0</td>\n",
              "      <td>1.945910</td>\n",
              "      <td>1.0</td>\n",
              "      <td>2</td>\n",
              "    </tr>\n",
              "  </tbody>\n",
              "</table>\n",
              "</div>\n",
              "      <button class=\"colab-df-convert\" onclick=\"convertToInteractive('df-3ca21b4c-a2c8-4829-8112-fa346821bbb6')\"\n",
              "              title=\"Convert this dataframe to an interactive table.\"\n",
              "              style=\"display:none;\">\n",
              "        \n",
              "  <svg xmlns=\"http://www.w3.org/2000/svg\" height=\"24px\"viewBox=\"0 0 24 24\"\n",
              "       width=\"24px\">\n",
              "    <path d=\"M0 0h24v24H0V0z\" fill=\"none\"/>\n",
              "    <path d=\"M18.56 5.44l.94 2.06.94-2.06 2.06-.94-2.06-.94-.94-2.06-.94 2.06-2.06.94zm-11 1L8.5 8.5l.94-2.06 2.06-.94-2.06-.94L8.5 2.5l-.94 2.06-2.06.94zm10 10l.94 2.06.94-2.06 2.06-.94-2.06-.94-.94-2.06-.94 2.06-2.06.94z\"/><path d=\"M17.41 7.96l-1.37-1.37c-.4-.4-.92-.59-1.43-.59-.52 0-1.04.2-1.43.59L10.3 9.45l-7.72 7.72c-.78.78-.78 2.05 0 2.83L4 21.41c.39.39.9.59 1.41.59.51 0 1.02-.2 1.41-.59l7.78-7.78 2.81-2.81c.8-.78.8-2.07 0-2.86zM5.41 20L4 18.59l7.72-7.72 1.47 1.35L5.41 20z\"/>\n",
              "  </svg>\n",
              "      </button>\n",
              "      \n",
              "  <style>\n",
              "    .colab-df-container {\n",
              "      display:flex;\n",
              "      flex-wrap:wrap;\n",
              "      gap: 12px;\n",
              "    }\n",
              "\n",
              "    .colab-df-convert {\n",
              "      background-color: #E8F0FE;\n",
              "      border: none;\n",
              "      border-radius: 50%;\n",
              "      cursor: pointer;\n",
              "      display: none;\n",
              "      fill: #1967D2;\n",
              "      height: 32px;\n",
              "      padding: 0 0 0 0;\n",
              "      width: 32px;\n",
              "    }\n",
              "\n",
              "    .colab-df-convert:hover {\n",
              "      background-color: #E2EBFA;\n",
              "      box-shadow: 0px 1px 2px rgba(60, 64, 67, 0.3), 0px 1px 3px 1px rgba(60, 64, 67, 0.15);\n",
              "      fill: #174EA6;\n",
              "    }\n",
              "\n",
              "    [theme=dark] .colab-df-convert {\n",
              "      background-color: #3B4455;\n",
              "      fill: #D2E3FC;\n",
              "    }\n",
              "\n",
              "    [theme=dark] .colab-df-convert:hover {\n",
              "      background-color: #434B5C;\n",
              "      box-shadow: 0px 1px 3px 1px rgba(0, 0, 0, 0.15);\n",
              "      filter: drop-shadow(0px 1px 2px rgba(0, 0, 0, 0.3));\n",
              "      fill: #FFFFFF;\n",
              "    }\n",
              "  </style>\n",
              "\n",
              "      <script>\n",
              "        const buttonEl =\n",
              "          document.querySelector('#df-3ca21b4c-a2c8-4829-8112-fa346821bbb6 button.colab-df-convert');\n",
              "        buttonEl.style.display =\n",
              "          google.colab.kernel.accessAllowed ? 'block' : 'none';\n",
              "\n",
              "        async function convertToInteractive(key) {\n",
              "          const element = document.querySelector('#df-3ca21b4c-a2c8-4829-8112-fa346821bbb6');\n",
              "          const dataTable =\n",
              "            await google.colab.kernel.invokeFunction('convertToInteractive',\n",
              "                                                     [key], {});\n",
              "          if (!dataTable) return;\n",
              "\n",
              "          const docLinkHtml = 'Like what you see? Visit the ' +\n",
              "            '<a target=\"_blank\" href=https://colab.research.google.com/notebooks/data_table.ipynb>data table notebook</a>'\n",
              "            + ' to learn more about interactive tables.';\n",
              "          element.innerHTML = '';\n",
              "          dataTable['output_type'] = 'display_data';\n",
              "          await google.colab.output.renderOutput(dataTable, element);\n",
              "          const docLink = document.createElement('div');\n",
              "          docLink.innerHTML = docLinkHtml;\n",
              "          element.appendChild(docLink);\n",
              "        }\n",
              "      </script>\n",
              "    </div>\n",
              "  </div>\n",
              "  "
            ],
            "text/plain": [
              "   gender  car  reality  income_total  income_type  edu_type  family_type  \\\n",
              "0       0    0        0     12.218505            1         1            1   \n",
              "1       0    0        1     12.419174            1         2            2   \n",
              "\n",
              "   house_type  DAYS_BIRTH  DAYS_EMPLOYED  work_phone  phone  email  \\\n",
              "0           1    9.539716       8.457655           0      0      0   \n",
              "1           2    9.339788       7.340836           0      0      1   \n",
              "\n",
              "   occyp_type  family_size  begin_month  credit  ID  \n",
              "0           1          2.0     2.079442     1.0   1  \n",
              "1           2          3.0     1.945910     1.0   2  "
            ]
          },
          "metadata": {},
          "execution_count": 17
        }
      ]
    },
    {
      "cell_type": "code",
      "source": [
        "# 인코딩 잘되었는지 확인\n",
        "train.info()"
      ],
      "metadata": {
        "colab": {
          "base_uri": "https://localhost:8080/"
        },
        "id": "zVRUC9W1fu7O",
        "outputId": "3d12d3c4-9b34-4ba4-d930-01e164ce05d0"
      },
      "execution_count": null,
      "outputs": [
        {
          "output_type": "stream",
          "name": "stdout",
          "text": [
            "<class 'pandas.core.frame.DataFrame'>\n",
            "RangeIndex: 26451 entries, 0 to 26450\n",
            "Data columns (total 18 columns):\n",
            " #   Column         Non-Null Count  Dtype  \n",
            "---  ------         --------------  -----  \n",
            " 0   gender         26451 non-null  int64  \n",
            " 1   car            26451 non-null  int64  \n",
            " 2   reality        26451 non-null  int64  \n",
            " 3   income_total   26451 non-null  float64\n",
            " 4   income_type    26451 non-null  int64  \n",
            " 5   edu_type       26451 non-null  int64  \n",
            " 6   family_type    26451 non-null  int64  \n",
            " 7   house_type     26451 non-null  int64  \n",
            " 8   DAYS_BIRTH     26451 non-null  float64\n",
            " 9   DAYS_EMPLOYED  26451 non-null  float64\n",
            " 10  work_phone     26451 non-null  int64  \n",
            " 11  phone          26451 non-null  int64  \n",
            " 12  email          26451 non-null  int64  \n",
            " 13  occyp_type     26451 non-null  int64  \n",
            " 14  family_size    26451 non-null  float64\n",
            " 15  begin_month    26451 non-null  float64\n",
            " 16  credit         26451 non-null  float64\n",
            " 17  ID             26451 non-null  int64  \n",
            "dtypes: float64(6), int64(12)\n",
            "memory usage: 3.6 MB\n"
          ]
        }
      ]
    },
    {
      "cell_type": "markdown",
      "source": [
        "# 모델링-1 (CatBoost)\n",
        "- 오버 샘플링\n",
        "    - 신용도가 상대적으로 좋을 수록 자료의 수는 적다.\n",
        "- Default Parameter 사용\n",
        "- 손실함수(log loss)는 구한 확률을 음의 로그함수에 대입하는 것\n",
        "- 100% : log_loss = -log(1.0) = 0\n",
        "-  80% : log_loss = -log(0.8) = 0.2231\n",
        "-  60% : log_loss = -log(0.6) = 0.5108\n",
        "    - 확률이 높을 수록 0에 가까워진다."
      ],
      "metadata": {
        "id": "4P_-EOKGqL5p"
      }
    },
    {
      "cell_type": "markdown",
      "source": [
        "## 오버 + 언더 샘플링"
      ],
      "metadata": {
        "id": "YDzVu8GKfcVr"
      }
    },
    {
      "cell_type": "code",
      "source": [
        "from imblearn.combine import *"
      ],
      "metadata": {
        "id": "K0VJUp_hfded"
      },
      "execution_count": null,
      "outputs": []
    },
    {
      "cell_type": "code",
      "source": [
        "x = train.drop( columns=['credit'])\n",
        "y = train['credit']"
      ],
      "metadata": {
        "id": "F7A_mtlAGQKB"
      },
      "execution_count": null,
      "outputs": []
    },
    {
      "cell_type": "code",
      "source": [
        "sample = SMOTEENN()\n",
        "x_smote_enn, y_smote_enn = sample.fit_resample(x, y)\n",
        "np.unique(y_smote_enn, return_counts=True)"
      ],
      "metadata": {
        "id": "H73LVZXuF486",
        "colab": {
          "base_uri": "https://localhost:8080/"
        },
        "outputId": "5d5fb83c-5d9e-4b9c-e3e6-bc1014949fd8"
      },
      "execution_count": null,
      "outputs": [
        {
          "output_type": "execute_result",
          "data": {
            "text/plain": [
              "(array([0., 1., 2.]), array([11229,  9017,  7190]))"
            ]
          },
          "metadata": {},
          "execution_count": 38
        }
      ]
    },
    {
      "cell_type": "code",
      "source": [
        "train_SMOTEENN = pd.concat( [x_smote_enn, y_smote_enn ], axis=1 )"
      ],
      "metadata": {
        "id": "Hvc5wu7qGQKC"
      },
      "execution_count": null,
      "outputs": []
    },
    {
      "cell_type": "code",
      "source": [
        "train_SMOTEENN.info()"
      ],
      "metadata": {
        "id": "XZHmEKqJG5JN",
        "colab": {
          "base_uri": "https://localhost:8080/"
        },
        "outputId": "a623ab08-22f8-43a5-821d-3e1e5b4e70e8"
      },
      "execution_count": null,
      "outputs": [
        {
          "output_type": "stream",
          "name": "stdout",
          "text": [
            "<class 'pandas.core.frame.DataFrame'>\n",
            "RangeIndex: 27436 entries, 0 to 27435\n",
            "Data columns (total 19 columns):\n",
            " #   Column         Non-Null Count  Dtype  \n",
            "---  ------         --------------  -----  \n",
            " 0   gender         27436 non-null  int64  \n",
            " 1   car            27436 non-null  int64  \n",
            " 2   reality        27436 non-null  int64  \n",
            " 3   income_total   27436 non-null  float64\n",
            " 4   income_type    27436 non-null  int64  \n",
            " 5   edu_type       27436 non-null  int64  \n",
            " 6   family_type    27436 non-null  int64  \n",
            " 7   house_type     27436 non-null  int64  \n",
            " 8   DAYS_BIRTH     27436 non-null  float64\n",
            " 9   DAYS_EMPLOYED  27436 non-null  float64\n",
            " 10  work_phone     27436 non-null  float64\n",
            " 11  phone          27436 non-null  float64\n",
            " 12  email          27436 non-null  float64\n",
            " 13  occyp_type     27436 non-null  int64  \n",
            " 14  family_size    27436 non-null  float64\n",
            " 15  begin_month    27436 non-null  float64\n",
            " 16  ID             27436 non-null  int64  \n",
            " 17  cluster        27436 non-null  int32  \n",
            " 18  credit         27436 non-null  float64\n",
            "dtypes: float64(9), int32(1), int64(9)\n",
            "memory usage: 3.9 MB\n"
          ]
        }
      ]
    },
    {
      "cell_type": "markdown",
      "source": [
        "## 클러스터링\n",
        "- 36개의 군집으로 나누어본다."
      ],
      "metadata": {
        "id": "nSeUuN5uHTub"
      }
    },
    {
      "cell_type": "code",
      "source": [
        "from sklearn.cluster import KMeans"
      ],
      "metadata": {
        "id": "On-YrpTCIIet"
      },
      "execution_count": null,
      "outputs": []
    },
    {
      "cell_type": "code",
      "source": [
        "kmeans_train = train_SMOTEENN.drop(['credit'], axis=1)\n",
        "kmeans = KMeans(n_clusters=36, random_state=42).fit(kmeans_train)\n",
        "train_SMOTEENN['cluster'] = kmeans.predict(kmeans_train)\n",
        "test['cluster'] = kmeans.predict(test)"
      ],
      "metadata": {
        "id": "W_iffcRHHO7T"
      },
      "execution_count": null,
      "outputs": []
    },
    {
      "cell_type": "markdown",
      "source": [
        "## StandardScale\n",
        "- 평균 1, 분산 0 : N(1,0)으로 만들어준다.\n",
        "- 이미 로그변환을 마친 컬럼 제외\n",
        "- income_total, DAYS_EMOPLOYED, DAYS_BIRTH, begin_month"
      ],
      "metadata": {
        "id": "OHImHFi6JXSU"
      }
    },
    {
      "cell_type": "code",
      "source": [
        "from sklearn.preprocessing import StandardScaler\n",
        "import multiprocessing"
      ],
      "metadata": {
        "id": "BrzyS3EFL7Vb"
      },
      "execution_count": null,
      "outputs": []
    },
    {
      "cell_type": "code",
      "source": [
        "numerical_feats.remove('income_total')\n",
        "numerical_feats.remove('DAYS_EMOPLOYED')\n",
        "numerical_feats.remove('DAYS_BIRTH')\n",
        "numerical_feats.remove('begin_month')\n",
        "scaler = StandardScaler()\n",
        "train_SMOTEENN[numerical_feats] = scaler.fit_transform(train_SMOTEENN[numerical_feats])\n",
        "test[numerical_feats] = scaler.transform(test[numerical_feats])"
      ],
      "metadata": {
        "id": "meU0VLBaLJ0u"
      },
      "execution_count": null,
      "outputs": []
    },
    {
      "cell_type": "code",
      "source": [
        "numerical_feats"
      ],
      "metadata": {
        "id": "iQSEH6v7Nexr",
        "colab": {
          "base_uri": "https://localhost:8080/"
        },
        "outputId": "8228a833-f30e-4e0d-e842-81a1eb831202"
      },
      "execution_count": null,
      "outputs": [
        {
          "output_type": "execute_result",
          "data": {
            "text/plain": [
              "['DAYS_EMPLOYED', 'work_phone', 'phone', 'email', 'family_size']"
            ]
          },
          "metadata": {},
          "execution_count": 47
        }
      ]
    },
    {
      "cell_type": "markdown",
      "source": [
        "## CAT BOOST"
      ],
      "metadata": {
        "id": "g9Md55AXQ-w5"
      }
    },
    {
      "cell_type": "code",
      "source": [
        "!pip install catboost"
      ],
      "metadata": {
        "id": "ZXCtfOREVY5J"
      },
      "execution_count": null,
      "outputs": []
    },
    {
      "cell_type": "code",
      "source": [
        "import numpy as np\n",
        "import pandas as pd\n",
        "import seaborn as sns\n",
        "import matplotlib.pyplot as plt\n",
        "import warnings, random\n",
        "warnings.filterwarnings(action='ignore')\n",
        "\n",
        "from sklearn.metrics import log_loss\n",
        "from sklearn.preprocessing import StandardScaler\n",
        "from category_encoders.ordinal import OrdinalEncoder\n",
        "from sklearn.model_selection import StratifiedKFold\n",
        "\n",
        "from sklearn.cluster import KMeans\n",
        "from catboost import CatBoostClassifier, Pool"
      ],
      "metadata": {
        "id": "H_P6dHqXVcMB"
      },
      "execution_count": null,
      "outputs": []
    },
    {
      "cell_type": "code",
      "source": [
        "# one of the parameters : cat_features\n",
        "categorical_feats"
      ],
      "metadata": {
        "id": "nYfA2GUMN5oQ",
        "colab": {
          "base_uri": "https://localhost:8080/"
        },
        "outputId": "35c5e4c8-f318-4557-9e84-fb7ce2ad9c95"
      },
      "execution_count": null,
      "outputs": [
        {
          "output_type": "execute_result",
          "data": {
            "text/plain": [
              "['income_type', 'edu_type', 'family_type', 'house_type', 'occyp_type', 'ID']"
            ]
          },
          "metadata": {},
          "execution_count": 51
        }
      ]
    },
    {
      "cell_type": "markdown",
      "source": [
        "### n_fold = 15\n",
        "- Log Loss : 1.29516"
      ],
      "metadata": {
        "id": "BfJO2H9oXK5j"
      }
    },
    {
      "cell_type": "code",
      "source": [
        "# n_fold를 돌려보고 좋은 수치를 선택\n",
        "# n_fold = 5, \n",
        "n_est = 2000\n",
        "seed = 42\n",
        "n_fold = 15\n",
        "n_class = 3\n",
        "\n",
        "target = 'credit'\n",
        "X = train_SMOTEENN.drop(target, axis=1)\n",
        "y = train_SMOTEENN[target]\n",
        "X_test = test"
      ],
      "metadata": {
        "id": "_C30lX0PRNBZ"
      },
      "execution_count": null,
      "outputs": []
    },
    {
      "cell_type": "code",
      "source": [
        "skfold = StratifiedKFold(n_splits=n_fold, shuffle=True, random_state=seed)\n",
        "folds=[]\n",
        "\n",
        "for train_idx, valid_idx in skfold.split(X, y):\n",
        "    folds.append((train_idx, valid_idx))\n",
        "\n",
        "cat_pred = np.zeros((X.shape[0], n_class))\n",
        "cat_pred_test = np.zeros((X_test.shape[0], n_class))\n",
        "cat_cols = ['income_type', 'edu_type', 'family_type', 'house_type', 'occyp_type', 'ID']\n",
        "\n",
        "for fold in range(n_fold):\n",
        "    print(f'\\n----------------- Fold {fold} -----------------\\n')\n",
        "  \n",
        "    train_idx, valid_idx = folds[fold]\n",
        "    X_train, X_valid, y_train, y_valid = X.iloc[train_idx], X.iloc[valid_idx], y[train_idx], y[valid_idx]\n",
        "    train_data = Pool(data=X_train, label=y_train, cat_features=cat_cols)\n",
        "    valid_data = Pool(data=X_valid, label=y_valid, cat_features=cat_cols)\n",
        "    model_cat = CatBoostClassifier()\n",
        "    model_cat.fit(train_data, eval_set=valid_data, use_best_model=True, early_stopping_rounds=100, verbose=100)\n",
        "    \n",
        "    cat_pred[valid_idx] = model_cat.predict_proba(X_valid)\n",
        "    cat_pred_test += model_cat.predict_proba(X_test) / n_fold\n",
        "    print(f'CV Log Loss Score: {log_loss(y_valid, cat_pred[valid_idx]):.6f}')\n",
        "    \n",
        "print(f'\\tLog Loss: {log_loss(y, cat_pred):.6f}')\n",
        "\n",
        "\n"
      ],
      "metadata": {
        "id": "ihgCUU6Yu1PN",
        "colab": {
          "base_uri": "https://localhost:8080/"
        },
        "outputId": "e6798e9c-0956-4976-aa3b-4a40828063f4"
      },
      "execution_count": null,
      "outputs": [
        {
          "output_type": "stream",
          "name": "stdout",
          "text": [
            "\n",
            "----------------- Fold 0 -----------------\n",
            "\n",
            "Learning rate set to 0.115211\n",
            "0:\tlearn: 0.9937592\ttest: 0.9704501\tbest: 0.9704501 (0)\ttotal: 166ms\tremaining: 2m 45s\n",
            "100:\tlearn: 0.3494958\ttest: 0.2140654\tbest: 0.2140582 (99)\ttotal: 25.4s\tremaining: 3m 46s\n",
            "200:\tlearn: 0.3177650\ttest: 0.1966357\tbest: 0.1966357 (200)\ttotal: 54.6s\tremaining: 3m 36s\n",
            "300:\tlearn: 0.3002641\ttest: 0.1882334\tbest: 0.1882334 (300)\ttotal: 1m 18s\tremaining: 3m 3s\n",
            "400:\tlearn: 0.2839717\ttest: 0.1812522\tbest: 0.1812522 (400)\ttotal: 1m 31s\tremaining: 2m 17s\n",
            "500:\tlearn: 0.2696829\ttest: 0.1764862\tbest: 0.1764862 (500)\ttotal: 1m 44s\tremaining: 1m 44s\n",
            "600:\tlearn: 0.2557796\ttest: 0.1725819\tbest: 0.1724593 (588)\ttotal: 1m 57s\tremaining: 1m 18s\n",
            "700:\tlearn: 0.2441534\ttest: 0.1703692\tbest: 0.1702332 (695)\ttotal: 2m 11s\tremaining: 56s\n",
            "800:\tlearn: 0.2325900\ttest: 0.1667593\tbest: 0.1667593 (800)\ttotal: 2m 25s\tremaining: 36.2s\n",
            "900:\tlearn: 0.2205061\ttest: 0.1621868\tbest: 0.1621172 (896)\ttotal: 2m 39s\tremaining: 17.5s\n",
            "999:\tlearn: 0.2107624\ttest: 0.1602289\tbest: 0.1602248 (998)\ttotal: 2m 55s\tremaining: 0us\n",
            "\n",
            "bestTest = 0.1602247995\n",
            "bestIteration = 998\n",
            "\n",
            "Shrink model to first 999 iterations.\n",
            "CV Log Loss Score: 0.160225\n",
            "\n",
            "----------------- Fold 1 -----------------\n",
            "\n",
            "Learning rate set to 0.115211\n",
            "0:\tlearn: 0.9900615\ttest: 0.9672996\tbest: 0.9672996 (0)\ttotal: 126ms\tremaining: 2m 5s\n",
            "100:\tlearn: 0.3500304\ttest: 0.2138773\tbest: 0.2138773 (100)\ttotal: 12.3s\tremaining: 1m 49s\n",
            "200:\tlearn: 0.3189746\ttest: 0.1963268\tbest: 0.1962633 (196)\ttotal: 25.1s\tremaining: 1m 39s\n",
            "300:\tlearn: 0.2980653\ttest: 0.1815128\tbest: 0.1815128 (300)\ttotal: 37.8s\tremaining: 1m 27s\n",
            "400:\tlearn: 0.2820593\ttest: 0.1747877\tbest: 0.1747877 (400)\ttotal: 50.9s\tremaining: 1m 16s\n",
            "500:\tlearn: 0.2668763\ttest: 0.1682263\tbest: 0.1682263 (500)\ttotal: 1m 4s\tremaining: 1m 4s\n",
            "600:\tlearn: 0.2525340\ttest: 0.1613261\tbest: 0.1611701 (596)\ttotal: 1m 18s\tremaining: 52.3s\n",
            "700:\tlearn: 0.2393831\ttest: 0.1583372\tbest: 0.1579294 (694)\ttotal: 1m 32s\tremaining: 39.4s\n",
            "800:\tlearn: 0.2259378\ttest: 0.1522808\tbest: 0.1522513 (798)\ttotal: 1m 45s\tremaining: 26.2s\n",
            "900:\tlearn: 0.2156901\ttest: 0.1488703\tbest: 0.1488703 (900)\ttotal: 1m 58s\tremaining: 13s\n",
            "999:\tlearn: 0.2070061\ttest: 0.1469414\tbest: 0.1469374 (998)\ttotal: 2m 11s\tremaining: 0us\n",
            "\n",
            "bestTest = 0.1469374395\n",
            "bestIteration = 998\n",
            "\n",
            "Shrink model to first 999 iterations.\n",
            "CV Log Loss Score: 0.146937\n",
            "\n",
            "----------------- Fold 2 -----------------\n",
            "\n",
            "Learning rate set to 0.115211\n",
            "0:\tlearn: 0.9898754\ttest: 0.9640848\tbest: 0.9640848 (0)\ttotal: 135ms\tremaining: 2m 14s\n",
            "100:\tlearn: 0.3521036\ttest: 0.2089827\tbest: 0.2089827 (100)\ttotal: 12.2s\tremaining: 1m 48s\n",
            "200:\tlearn: 0.3157458\ttest: 0.1862300\tbest: 0.1861060 (197)\ttotal: 24.7s\tremaining: 1m 38s\n",
            "300:\tlearn: 0.2972199\ttest: 0.1814238\tbest: 0.1814236 (299)\ttotal: 37.4s\tremaining: 1m 26s\n",
            "400:\tlearn: 0.2791054\ttest: 0.1759756\tbest: 0.1759400 (398)\ttotal: 51.9s\tremaining: 1m 17s\n",
            "500:\tlearn: 0.2659781\ttest: 0.1720404\tbest: 0.1720404 (500)\ttotal: 1m 4s\tremaining: 1m 4s\n",
            "600:\tlearn: 0.2526749\ttest: 0.1681340\tbest: 0.1680907 (598)\ttotal: 1m 18s\tremaining: 51.9s\n",
            "700:\tlearn: 0.2404101\ttest: 0.1640397\tbest: 0.1640121 (696)\ttotal: 1m 31s\tremaining: 39s\n",
            "800:\tlearn: 0.2288125\ttest: 0.1603929\tbest: 0.1603614 (799)\ttotal: 1m 44s\tremaining: 26s\n",
            "900:\tlearn: 0.2178033\ttest: 0.1577621\tbest: 0.1577621 (900)\ttotal: 1m 57s\tremaining: 12.9s\n",
            "999:\tlearn: 0.2082507\ttest: 0.1558970\tbest: 0.1558970 (999)\ttotal: 2m 10s\tremaining: 0us\n",
            "\n",
            "bestTest = 0.1558969724\n",
            "bestIteration = 999\n",
            "\n",
            "CV Log Loss Score: 0.155897\n",
            "\n",
            "----------------- Fold 3 -----------------\n",
            "\n",
            "Learning rate set to 0.115211\n",
            "0:\tlearn: 0.9893909\ttest: 0.9674900\tbest: 0.9674900 (0)\ttotal: 125ms\tremaining: 2m 5s\n",
            "100:\tlearn: 0.3453395\ttest: 0.2245315\tbest: 0.2245315 (100)\ttotal: 12.1s\tremaining: 1m 47s\n",
            "200:\tlearn: 0.3135718\ttest: 0.2086011\tbest: 0.2085733 (196)\ttotal: 24.6s\tremaining: 1m 37s\n",
            "300:\tlearn: 0.2955284\ttest: 0.2027374\tbest: 0.2027271 (299)\ttotal: 37.3s\tremaining: 1m 26s\n",
            "400:\tlearn: 0.2773321\ttest: 0.1945116\tbest: 0.1944597 (399)\ttotal: 50.5s\tremaining: 1m 15s\n",
            "500:\tlearn: 0.2624382\ttest: 0.1887699\tbest: 0.1887699 (500)\ttotal: 1m 3s\tremaining: 1m 3s\n",
            "600:\tlearn: 0.2488810\ttest: 0.1829838\tbest: 0.1828538 (599)\ttotal: 1m 16s\tremaining: 50.8s\n",
            "700:\tlearn: 0.2355322\ttest: 0.1792325\tbest: 0.1792127 (699)\ttotal: 1m 29s\tremaining: 38.3s\n",
            "800:\tlearn: 0.2248963\ttest: 0.1766914\tbest: 0.1766675 (798)\ttotal: 1m 42s\tremaining: 25.6s\n",
            "900:\tlearn: 0.2147169\ttest: 0.1748040\tbest: 0.1748040 (900)\ttotal: 1m 56s\tremaining: 12.8s\n",
            "999:\tlearn: 0.2063591\ttest: 0.1735546\tbest: 0.1734319 (995)\ttotal: 2m 9s\tremaining: 0us\n",
            "\n",
            "bestTest = 0.1734319333\n",
            "bestIteration = 995\n",
            "\n",
            "Shrink model to first 996 iterations.\n",
            "CV Log Loss Score: 0.173432\n",
            "\n",
            "----------------- Fold 4 -----------------\n",
            "\n",
            "Learning rate set to 0.115211\n",
            "0:\tlearn: 0.9902668\ttest: 0.9697073\tbest: 0.9697073 (0)\ttotal: 126ms\tremaining: 2m 6s\n",
            "100:\tlearn: 0.3481360\ttest: 0.2223731\tbest: 0.2223731 (100)\ttotal: 12.2s\tremaining: 1m 48s\n",
            "200:\tlearn: 0.3145621\ttest: 0.2029468\tbest: 0.2029468 (200)\ttotal: 24.8s\tremaining: 1m 38s\n",
            "300:\tlearn: 0.2968244\ttest: 0.1958850\tbest: 0.1958850 (300)\ttotal: 37.5s\tremaining: 1m 27s\n",
            "400:\tlearn: 0.2812861\ttest: 0.1914095\tbest: 0.1914095 (400)\ttotal: 50.3s\tremaining: 1m 15s\n",
            "500:\tlearn: 0.2655659\ttest: 0.1866748\tbest: 0.1866748 (500)\ttotal: 1m 3s\tremaining: 1m 3s\n",
            "600:\tlearn: 0.2523070\ttest: 0.1838371\tbest: 0.1838371 (600)\ttotal: 1m 16s\tremaining: 50.8s\n",
            "700:\tlearn: 0.2405595\ttest: 0.1818554\tbest: 0.1816471 (686)\ttotal: 1m 29s\tremaining: 38.3s\n",
            "800:\tlearn: 0.2303718\ttest: 0.1812014\tbest: 0.1812014 (800)\ttotal: 1m 42s\tremaining: 25.6s\n",
            "900:\tlearn: 0.2191920\ttest: 0.1780649\tbest: 0.1779585 (890)\ttotal: 1m 56s\tremaining: 12.8s\n",
            "999:\tlearn: 0.2094023\ttest: 0.1754358\tbest: 0.1754358 (999)\ttotal: 2m 9s\tremaining: 0us\n",
            "\n",
            "bestTest = 0.1754357863\n",
            "bestIteration = 999\n",
            "\n",
            "CV Log Loss Score: 0.175436\n",
            "\n",
            "----------------- Fold 5 -----------------\n",
            "\n",
            "Learning rate set to 0.115211\n",
            "0:\tlearn: 0.9897428\ttest: 0.9681934\tbest: 0.9681934 (0)\ttotal: 121ms\tremaining: 2m\n",
            "100:\tlearn: 0.3482720\ttest: 0.2214907\tbest: 0.2214907 (100)\ttotal: 12s\tremaining: 1m 47s\n",
            "200:\tlearn: 0.3160069\ttest: 0.2069898\tbest: 0.2069898 (200)\ttotal: 24.9s\tremaining: 1m 39s\n",
            "300:\tlearn: 0.2960352\ttest: 0.1991654\tbest: 0.1991654 (300)\ttotal: 37.8s\tremaining: 1m 27s\n",
            "400:\tlearn: 0.2766735\ttest: 0.1910597\tbest: 0.1910162 (399)\ttotal: 50.8s\tremaining: 1m 15s\n",
            "500:\tlearn: 0.2629265\ttest: 0.1871204\tbest: 0.1871204 (500)\ttotal: 1m 3s\tremaining: 1m 3s\n",
            "600:\tlearn: 0.2494501\ttest: 0.1826667\tbest: 0.1826667 (600)\ttotal: 1m 17s\tremaining: 51.3s\n",
            "700:\tlearn: 0.2378734\ttest: 0.1801468\tbest: 0.1801468 (700)\ttotal: 1m 30s\tremaining: 38.6s\n",
            "800:\tlearn: 0.2253113\ttest: 0.1765256\tbest: 0.1762426 (794)\ttotal: 1m 43s\tremaining: 25.8s\n",
            "900:\tlearn: 0.2141313\ttest: 0.1737579\tbest: 0.1737310 (898)\ttotal: 1m 57s\tremaining: 12.9s\n",
            "999:\tlearn: 0.2055074\ttest: 0.1720221\tbest: 0.1720221 (999)\ttotal: 2m 10s\tremaining: 0us\n",
            "\n",
            "bestTest = 0.1720220953\n",
            "bestIteration = 999\n",
            "\n",
            "CV Log Loss Score: 0.172022\n",
            "\n",
            "----------------- Fold 6 -----------------\n",
            "\n",
            "Learning rate set to 0.115211\n",
            "0:\tlearn: 0.9907059\ttest: 0.9709745\tbest: 0.9709745 (0)\ttotal: 127ms\tremaining: 2m 6s\n",
            "100:\tlearn: 0.3454565\ttest: 0.2233686\tbest: 0.2233686 (100)\ttotal: 12.4s\tremaining: 1m 50s\n",
            "200:\tlearn: 0.3163932\ttest: 0.2111945\tbest: 0.2111945 (200)\ttotal: 25.3s\tremaining: 1m 40s\n",
            "300:\tlearn: 0.2943010\ttest: 0.2007166\tbest: 0.2007166 (300)\ttotal: 38.3s\tremaining: 1m 28s\n",
            "400:\tlearn: 0.2794472\ttest: 0.1949788\tbest: 0.1949354 (397)\ttotal: 51.4s\tremaining: 1m 16s\n",
            "500:\tlearn: 0.2644156\ttest: 0.1905447\tbest: 0.1905447 (500)\ttotal: 1m 4s\tremaining: 1m 4s\n",
            "600:\tlearn: 0.2487139\ttest: 0.1856715\tbest: 0.1856715 (600)\ttotal: 1m 17s\tremaining: 51.7s\n",
            "700:\tlearn: 0.2364311\ttest: 0.1809693\tbest: 0.1807909 (696)\ttotal: 1m 31s\tremaining: 39s\n",
            "800:\tlearn: 0.2246655\ttest: 0.1765334\tbest: 0.1765105 (798)\ttotal: 1m 44s\tremaining: 26s\n",
            "900:\tlearn: 0.2138361\ttest: 0.1729861\tbest: 0.1729861 (900)\ttotal: 1m 58s\tremaining: 13s\n",
            "999:\tlearn: 0.2037866\ttest: 0.1697478\tbest: 0.1697015 (997)\ttotal: 2m 11s\tremaining: 0us\n",
            "\n",
            "bestTest = 0.1697015158\n",
            "bestIteration = 997\n",
            "\n",
            "Shrink model to first 998 iterations.\n",
            "CV Log Loss Score: 0.169702\n",
            "\n",
            "----------------- Fold 7 -----------------\n",
            "\n",
            "Learning rate set to 0.115211\n",
            "0:\tlearn: 0.9908498\ttest: 0.9657777\tbest: 0.9657777 (0)\ttotal: 121ms\tremaining: 2m\n",
            "100:\tlearn: 0.3491744\ttest: 0.2167125\tbest: 0.2166802 (99)\ttotal: 12.4s\tremaining: 1m 50s\n",
            "200:\tlearn: 0.3178556\ttest: 0.2017798\tbest: 0.2017798 (200)\ttotal: 25.2s\tremaining: 1m 40s\n",
            "300:\tlearn: 0.2967294\ttest: 0.1925129\tbest: 0.1925129 (300)\ttotal: 37.9s\tremaining: 1m 28s\n",
            "400:\tlearn: 0.2831497\ttest: 0.1890024\tbest: 0.1890024 (400)\ttotal: 50.7s\tremaining: 1m 15s\n",
            "500:\tlearn: 0.2677451\ttest: 0.1836849\tbest: 0.1835967 (497)\ttotal: 1m 3s\tremaining: 1m 3s\n",
            "600:\tlearn: 0.2548019\ttest: 0.1801910\tbest: 0.1801237 (599)\ttotal: 1m 16s\tremaining: 51s\n",
            "700:\tlearn: 0.2405035\ttest: 0.1746377\tbest: 0.1745720 (699)\ttotal: 1m 30s\tremaining: 38.4s\n",
            "800:\tlearn: 0.2300797\ttest: 0.1723161\tbest: 0.1723161 (800)\ttotal: 1m 43s\tremaining: 25.7s\n",
            "900:\tlearn: 0.2195547\ttest: 0.1692745\tbest: 0.1691956 (894)\ttotal: 1m 56s\tremaining: 12.8s\n",
            "999:\tlearn: 0.2105317\ttest: 0.1661433\tbest: 0.1661433 (999)\ttotal: 2m 10s\tremaining: 0us\n",
            "\n",
            "bestTest = 0.1661432808\n",
            "bestIteration = 999\n",
            "\n",
            "CV Log Loss Score: 0.166143\n",
            "\n",
            "----------------- Fold 8 -----------------\n",
            "\n",
            "Learning rate set to 0.115211\n",
            "0:\tlearn: 0.9917580\ttest: 0.9646709\tbest: 0.9646709 (0)\ttotal: 120ms\tremaining: 1m 59s\n",
            "100:\tlearn: 0.3495041\ttest: 0.1987694\tbest: 0.1987694 (100)\ttotal: 12.1s\tremaining: 1m 47s\n",
            "200:\tlearn: 0.3221987\ttest: 0.1877870\tbest: 0.1877246 (198)\ttotal: 25s\tremaining: 1m 39s\n",
            "300:\tlearn: 0.3028328\ttest: 0.1814225\tbest: 0.1813827 (297)\ttotal: 37.8s\tremaining: 1m 27s\n",
            "400:\tlearn: 0.2831416\ttest: 0.1730551\tbest: 0.1730551 (400)\ttotal: 51s\tremaining: 1m 16s\n",
            "500:\tlearn: 0.2679732\ttest: 0.1672921\tbest: 0.1672681 (499)\ttotal: 1m 3s\tremaining: 1m 3s\n",
            "600:\tlearn: 0.2544711\ttest: 0.1637637\tbest: 0.1637637 (600)\ttotal: 1m 16s\tremaining: 51.1s\n",
            "700:\tlearn: 0.2425930\ttest: 0.1602347\tbest: 0.1601926 (699)\ttotal: 1m 29s\tremaining: 38.4s\n",
            "800:\tlearn: 0.2326747\ttest: 0.1586691\tbest: 0.1584899 (788)\ttotal: 1m 43s\tremaining: 25.6s\n",
            "900:\tlearn: 0.2213667\ttest: 0.1556074\tbest: 0.1556074 (900)\ttotal: 1m 56s\tremaining: 12.8s\n",
            "999:\tlearn: 0.2110616\ttest: 0.1535229\tbest: 0.1535045 (997)\ttotal: 2m 9s\tremaining: 0us\n",
            "\n",
            "bestTest = 0.1535044923\n",
            "bestIteration = 997\n",
            "\n",
            "Shrink model to first 998 iterations.\n",
            "CV Log Loss Score: 0.153504\n",
            "\n",
            "----------------- Fold 9 -----------------\n",
            "\n",
            "Learning rate set to 0.115211\n",
            "0:\tlearn: 0.9908384\ttest: 0.9668903\tbest: 0.9668903 (0)\ttotal: 96.4ms\tremaining: 1m 36s\n",
            "100:\tlearn: 0.3544110\ttest: 0.2066948\tbest: 0.2066948 (100)\ttotal: 12.3s\tremaining: 1m 49s\n",
            "200:\tlearn: 0.3143988\ttest: 0.1789542\tbest: 0.1789494 (198)\ttotal: 25s\tremaining: 1m 39s\n",
            "300:\tlearn: 0.2928723\ttest: 0.1681674\tbest: 0.1681674 (300)\ttotal: 37.8s\tremaining: 1m 27s\n",
            "400:\tlearn: 0.2773164\ttest: 0.1628297\tbest: 0.1628297 (400)\ttotal: 50.7s\tremaining: 1m 15s\n",
            "500:\tlearn: 0.2627410\ttest: 0.1592818\tbest: 0.1592818 (500)\ttotal: 1m 3s\tremaining: 1m 3s\n",
            "600:\tlearn: 0.2501331\ttest: 0.1551443\tbest: 0.1551100 (599)\ttotal: 1m 16s\tremaining: 50.9s\n",
            "700:\tlearn: 0.2369717\ttest: 0.1505301\tbest: 0.1504631 (694)\ttotal: 1m 29s\tremaining: 38.3s\n",
            "800:\tlearn: 0.2265751\ttest: 0.1488945\tbest: 0.1488789 (799)\ttotal: 1m 43s\tremaining: 25.6s\n",
            "900:\tlearn: 0.2179118\ttest: 0.1484423\tbest: 0.1479946 (867)\ttotal: 1m 56s\tremaining: 12.8s\n",
            "999:\tlearn: 0.2087459\ttest: 0.1464190\tbest: 0.1463757 (995)\ttotal: 2m 9s\tremaining: 0us\n",
            "\n",
            "bestTest = 0.1463757027\n",
            "bestIteration = 995\n",
            "\n",
            "Shrink model to first 996 iterations.\n",
            "CV Log Loss Score: 0.146376\n",
            "\n",
            "----------------- Fold 10 -----------------\n",
            "\n",
            "Learning rate set to 0.115211\n",
            "0:\tlearn: 0.9902551\ttest: 0.9646823\tbest: 0.9646823 (0)\ttotal: 137ms\tremaining: 2m 17s\n",
            "100:\tlearn: 0.3498461\ttest: 0.2117280\tbest: 0.2117280 (100)\ttotal: 12s\tremaining: 1m 46s\n",
            "200:\tlearn: 0.3206563\ttest: 0.1980284\tbest: 0.1980284 (200)\ttotal: 24.7s\tremaining: 1m 38s\n",
            "300:\tlearn: 0.2993734\ttest: 0.1900998\tbest: 0.1900998 (300)\ttotal: 37.5s\tremaining: 1m 26s\n",
            "400:\tlearn: 0.2794323\ttest: 0.1791547\tbest: 0.1791547 (400)\ttotal: 50.4s\tremaining: 1m 15s\n",
            "500:\tlearn: 0.2629728\ttest: 0.1722502\tbest: 0.1722502 (500)\ttotal: 1m 3s\tremaining: 1m 3s\n",
            "600:\tlearn: 0.2505721\ttest: 0.1682182\tbest: 0.1682182 (600)\ttotal: 1m 16s\tremaining: 50.7s\n",
            "700:\tlearn: 0.2382232\ttest: 0.1643458\tbest: 0.1643458 (700)\ttotal: 1m 29s\tremaining: 38.2s\n",
            "800:\tlearn: 0.2274972\ttest: 0.1618449\tbest: 0.1618279 (794)\ttotal: 1m 42s\tremaining: 25.5s\n",
            "900:\tlearn: 0.2175206\ttest: 0.1586933\tbest: 0.1586623 (899)\ttotal: 1m 55s\tremaining: 12.7s\n",
            "999:\tlearn: 0.2069883\ttest: 0.1562780\tbest: 0.1562668 (997)\ttotal: 2m 8s\tremaining: 0us\n",
            "\n",
            "bestTest = 0.1562668441\n",
            "bestIteration = 997\n",
            "\n",
            "Shrink model to first 998 iterations.\n",
            "CV Log Loss Score: 0.156267\n",
            "\n",
            "----------------- Fold 11 -----------------\n",
            "\n",
            "Learning rate set to 0.115211\n",
            "0:\tlearn: 0.9914981\ttest: 0.9712464\tbest: 0.9712464 (0)\ttotal: 129ms\tremaining: 2m 9s\n",
            "100:\tlearn: 0.3487793\ttest: 0.2122972\tbest: 0.2122972 (100)\ttotal: 12.2s\tremaining: 1m 48s\n",
            "200:\tlearn: 0.3146817\ttest: 0.1905158\tbest: 0.1905158 (200)\ttotal: 24.7s\tremaining: 1m 38s\n",
            "300:\tlearn: 0.2951047\ttest: 0.1840087\tbest: 0.1840082 (298)\ttotal: 37.8s\tremaining: 1m 27s\n",
            "400:\tlearn: 0.2803002\ttest: 0.1773350\tbest: 0.1773350 (400)\ttotal: 50.7s\tremaining: 1m 15s\n",
            "500:\tlearn: 0.2660185\ttest: 0.1715609\tbest: 0.1715609 (500)\ttotal: 1m 3s\tremaining: 1m 3s\n",
            "600:\tlearn: 0.2529911\ttest: 0.1671372\tbest: 0.1669889 (597)\ttotal: 1m 16s\tremaining: 50.9s\n",
            "700:\tlearn: 0.2407159\ttest: 0.1637816\tbest: 0.1636218 (692)\ttotal: 1m 30s\tremaining: 38.4s\n",
            "800:\tlearn: 0.2288275\ttest: 0.1606488\tbest: 0.1606488 (800)\ttotal: 1m 43s\tremaining: 25.7s\n",
            "900:\tlearn: 0.2173209\ttest: 0.1577259\tbest: 0.1575745 (896)\ttotal: 1m 56s\tremaining: 12.8s\n",
            "999:\tlearn: 0.2082685\ttest: 0.1559547\tbest: 0.1559547 (999)\ttotal: 2m 9s\tremaining: 0us\n",
            "\n",
            "bestTest = 0.1559546525\n",
            "bestIteration = 999\n",
            "\n",
            "CV Log Loss Score: 0.155955\n",
            "\n",
            "----------------- Fold 12 -----------------\n",
            "\n",
            "Learning rate set to 0.115211\n",
            "0:\tlearn: 0.9904963\ttest: 0.9696333\tbest: 0.9696333 (0)\ttotal: 115ms\tremaining: 1m 55s\n",
            "100:\tlearn: 0.3473255\ttest: 0.2441606\tbest: 0.2440784 (99)\ttotal: 12.2s\tremaining: 1m 48s\n",
            "200:\tlearn: 0.3162356\ttest: 0.2272113\tbest: 0.2272113 (200)\ttotal: 24.8s\tremaining: 1m 38s\n",
            "300:\tlearn: 0.2944671\ttest: 0.2172938\tbest: 0.2172938 (300)\ttotal: 37.7s\tremaining: 1m 27s\n",
            "400:\tlearn: 0.2786471\ttest: 0.2119644\tbest: 0.2119644 (400)\ttotal: 50.7s\tremaining: 1m 15s\n",
            "500:\tlearn: 0.2637547\ttest: 0.2075617\tbest: 0.2075617 (500)\ttotal: 1m 3s\tremaining: 1m 3s\n",
            "600:\tlearn: 0.2503554\ttest: 0.2045617\tbest: 0.2043201 (591)\ttotal: 1m 17s\tremaining: 51.1s\n",
            "700:\tlearn: 0.2399933\ttest: 0.2016765\tbest: 0.2016765 (700)\ttotal: 1m 30s\tremaining: 38.4s\n",
            "800:\tlearn: 0.2289238\ttest: 0.1996169\tbest: 0.1996016 (795)\ttotal: 1m 43s\tremaining: 25.7s\n",
            "900:\tlearn: 0.2183517\ttest: 0.1971214\tbest: 0.1969181 (895)\ttotal: 1m 56s\tremaining: 12.8s\n",
            "999:\tlearn: 0.2078325\ttest: 0.1938883\tbest: 0.1937007 (988)\ttotal: 2m 9s\tremaining: 0us\n",
            "\n",
            "bestTest = 0.1937006653\n",
            "bestIteration = 988\n",
            "\n",
            "Shrink model to first 989 iterations.\n",
            "CV Log Loss Score: 0.193701\n",
            "\n",
            "----------------- Fold 13 -----------------\n",
            "\n",
            "Learning rate set to 0.115211\n",
            "0:\tlearn: 0.9911659\ttest: 0.9678057\tbest: 0.9678057 (0)\ttotal: 130ms\tremaining: 2m 10s\n",
            "100:\tlearn: 0.3514377\ttest: 0.2085214\tbest: 0.2085214 (100)\ttotal: 12.1s\tremaining: 1m 47s\n",
            "200:\tlearn: 0.3206820\ttest: 0.1948661\tbest: 0.1948661 (200)\ttotal: 24.9s\tremaining: 1m 39s\n",
            "300:\tlearn: 0.3008771\ttest: 0.1880921\tbest: 0.1880921 (300)\ttotal: 37.8s\tremaining: 1m 27s\n",
            "400:\tlearn: 0.2808703\ttest: 0.1806987\tbest: 0.1806725 (396)\ttotal: 50.7s\tremaining: 1m 15s\n",
            "500:\tlearn: 0.2655974\ttest: 0.1754226\tbest: 0.1754071 (499)\ttotal: 1m 3s\tremaining: 1m 3s\n",
            "600:\tlearn: 0.2520992\ttest: 0.1725363\tbest: 0.1725306 (593)\ttotal: 1m 16s\tremaining: 50.9s\n",
            "700:\tlearn: 0.2390471\ttest: 0.1696819\tbest: 0.1696819 (700)\ttotal: 1m 29s\tremaining: 38.3s\n",
            "800:\tlearn: 0.2276820\ttest: 0.1677324\tbest: 0.1677127 (799)\ttotal: 1m 43s\tremaining: 25.6s\n",
            "900:\tlearn: 0.2156845\ttest: 0.1645268\tbest: 0.1645268 (900)\ttotal: 1m 56s\tremaining: 12.8s\n",
            "999:\tlearn: 0.2062948\ttest: 0.1629438\tbest: 0.1628465 (973)\ttotal: 2m 9s\tremaining: 0us\n",
            "\n",
            "bestTest = 0.1628464592\n",
            "bestIteration = 973\n",
            "\n",
            "Shrink model to first 974 iterations.\n",
            "CV Log Loss Score: 0.162846\n",
            "\n",
            "----------------- Fold 14 -----------------\n",
            "\n",
            "Learning rate set to 0.115211\n",
            "0:\tlearn: 0.9902697\ttest: 0.9698835\tbest: 0.9698835 (0)\ttotal: 114ms\tremaining: 1m 53s\n",
            "100:\tlearn: 0.3437266\ttest: 0.2275446\tbest: 0.2275446 (100)\ttotal: 12.1s\tremaining: 1m 47s\n",
            "200:\tlearn: 0.3132685\ttest: 0.2153155\tbest: 0.2153155 (200)\ttotal: 24.8s\tremaining: 1m 38s\n",
            "300:\tlearn: 0.2927724\ttest: 0.2085245\tbest: 0.2085197 (299)\ttotal: 38s\tremaining: 1m 28s\n",
            "400:\tlearn: 0.2769866\ttest: 0.2024445\tbest: 0.2024367 (398)\ttotal: 51s\tremaining: 1m 16s\n",
            "500:\tlearn: 0.2613426\ttest: 0.1973496\tbest: 0.1973496 (500)\ttotal: 1m 4s\tremaining: 1m 3s\n",
            "600:\tlearn: 0.2493559\ttest: 0.1947193\tbest: 0.1946799 (595)\ttotal: 1m 17s\tremaining: 51.5s\n",
            "700:\tlearn: 0.2369404\ttest: 0.1890236\tbest: 0.1890236 (700)\ttotal: 1m 30s\tremaining: 38.7s\n",
            "800:\tlearn: 0.2244599\ttest: 0.1829718\tbest: 0.1829661 (799)\ttotal: 1m 43s\tremaining: 25.8s\n",
            "900:\tlearn: 0.2136222\ttest: 0.1806974\tbest: 0.1806948 (899)\ttotal: 1m 57s\tremaining: 12.9s\n",
            "999:\tlearn: 0.2046243\ttest: 0.1792876\tbest: 0.1792876 (999)\ttotal: 2m 10s\tremaining: 0us\n",
            "\n",
            "bestTest = 0.1792875687\n",
            "bestIteration = 999\n",
            "\n",
            "CV Log Loss Score: 0.179288\n",
            "\tLog Loss: 0.164515\n"
          ]
        }
      ]
    },
    {
      "cell_type": "markdown",
      "source": [
        "#### 평가\n",
        "- train 자료의 log loss는 0.1645이지만, test 자료의 lost loss는 1.2952가 나왔다.\n",
        "- 과대적합 문제가 심각함을 알 수 있다.\n",
        "- train 자료에서만 자료의 양을 늘리거나 줄이는 샘플링이 문제인 것 같다.\n",
        "- 심지어 catboost는 부스팅 기법을 사용하여 학습된 모델을 다음 학습에 사용하는 방식이므로 과대적합에 취약해 보인다.\n",
        "- 샘플링 없이 진행해보자"
      ],
      "metadata": {
        "id": "Kd_N1dvOkiJ-"
      }
    },
    {
      "cell_type": "markdown",
      "source": [
        "#### Featrue Importance"
      ],
      "metadata": {
        "id": "RKfapV_pq12z"
      }
    },
    {
      "cell_type": "code",
      "source": [
        "plot_feature_importance(model_cat.get_feature_importance(),X_test.columns,'CATBOOST')"
      ],
      "metadata": {
        "colab": {
          "base_uri": "https://localhost:8080/",
          "height": 513
        },
        "id": "qksnDgY9q120",
        "outputId": "bcd5e4f4-5c57-46b9-9cba-f06408bb3c0e"
      },
      "execution_count": null,
      "outputs": [
        {
          "output_type": "display_data",
          "data": {
            "image/png": "[encoded data removed]",
            "text/plain": [
              "<Figure size 720x576 with 1 Axes>"
            ]
          },
          "metadata": {
            "needs_background": "light"
          }
        }
      ]
    },
    {
      "cell_type": "markdown",
      "source": [
        "# 모델링-2 (CatBoost)\n",
        "- 소수점 첫 째 자리까지 표현"
      ],
      "metadata": {
        "id": "6ArkkHaWMCGS"
      }
    },
    {
      "cell_type": "code",
      "source": [
        "features = ['income_total', 'DAYS_BIRTH', 'DAYS_EMPLOYED', 'begin_month']\n",
        "\n",
        "for df in [train, test]:\n",
        "    # 소수점 첫 째 자리까지\n",
        "    for feat in features:\n",
        "        df[feat] = round(df[feat], 1)"
      ],
      "metadata": {
        "id": "NW2SRkx1MGhv"
      },
      "execution_count": null,
      "outputs": []
    },
    {
      "cell_type": "markdown",
      "source": [
        "## 클러스터링\n",
        "- 분류 모형을 총 36개로 나누어본다.\n",
        "- n_clusters = 36"
      ],
      "metadata": {
        "id": "snlRUZCIQng_"
      }
    },
    {
      "cell_type": "code",
      "source": [
        "from sklearn.cluster import KMeans"
      ],
      "metadata": {
        "id": "WTg3YZY7QzIg"
      },
      "execution_count": null,
      "outputs": []
    },
    {
      "cell_type": "code",
      "source": [
        "kmeans_train = train.drop(['credit'], axis=1)\n",
        "kmeans = KMeans(n_clusters=36, random_state=42).fit(kmeans_train)\n",
        "train['cluster'] = kmeans.predict(kmeans_train)\n",
        "test['cluster'] = kmeans.predict(test)"
      ],
      "metadata": {
        "id": "B4-zLXvBQzIh"
      },
      "execution_count": null,
      "outputs": []
    },
    {
      "cell_type": "code",
      "source": [
        "train['cluster'].value_counts()"
      ],
      "metadata": {
        "id": "qxjlEK3dQzIh",
        "colab": {
          "base_uri": "https://localhost:8080/"
        },
        "outputId": "25c28eaa-1441-4093-9616-1b104a9332bb"
      },
      "execution_count": null,
      "outputs": [
        {
          "output_type": "execute_result",
          "data": {
            "text/plain": [
              "0     1023\n",
              "35     961\n",
              "30     957\n",
              "10     952\n",
              "21     942\n",
              "20     923\n",
              "28     913\n",
              "7      912\n",
              "22     883\n",
              "12     868\n",
              "27     827\n",
              "4      824\n",
              "33     819\n",
              "5      817\n",
              "14     816\n",
              "31     812\n",
              "34     795\n",
              "15     787\n",
              "23     782\n",
              "8      775\n",
              "19     750\n",
              "11     750\n",
              "2      741\n",
              "25     729\n",
              "1      694\n",
              "26     626\n",
              "17     602\n",
              "9      581\n",
              "18     538\n",
              "24     524\n",
              "3      460\n",
              "32     458\n",
              "13     453\n",
              "29     400\n",
              "6      385\n",
              "16     372\n",
              "Name: cluster, dtype: int64"
            ]
          },
          "metadata": {},
          "execution_count": 22
        }
      ]
    },
    {
      "cell_type": "markdown",
      "source": [
        "## StandardScale\n",
        "- categorical_feats는 제외\n",
        "- 이미 로그변환을 마친 아래 컬럼 제외\n",
        "- income_total, DAYS_EMOPLOYED, DAYS_BIRTH, begin_month"
      ],
      "metadata": {
        "id": "0scWfkWNSzVf"
      }
    },
    {
      "cell_type": "code",
      "source": [
        "from sklearn.preprocessing import StandardScaler\n",
        "import multiprocessing"
      ],
      "metadata": {
        "id": "GKB5E674SzVf"
      },
      "execution_count": null,
      "outputs": []
    },
    {
      "cell_type": "code",
      "source": [
        "print(categorical_feats)\n",
        "print(numerical_feats)"
      ],
      "metadata": {
        "colab": {
          "base_uri": "https://localhost:8080/"
        },
        "id": "UdmwLJ_6mVms",
        "outputId": "8e139128-8c96-4d06-95af-b27338f1a32f"
      },
      "execution_count": null,
      "outputs": [
        {
          "output_type": "stream",
          "name": "stdout",
          "text": [
            "['income_type', 'edu_type', 'family_type', 'house_type', 'occyp_type', 'ID']\n",
            "['gender', 'car', 'reality', 'income_total', 'DAYS_BIRTH', 'DAYS_EMPLOYED', 'work_phone', 'phone', 'email', 'family_size', 'begin_month']\n"
          ]
        }
      ]
    },
    {
      "cell_type": "code",
      "source": [
        "categorical = ['gender' , 'car','reality']"
      ],
      "metadata": {
        "id": "jqzK459Fdqlb"
      },
      "execution_count": null,
      "outputs": []
    },
    {
      "cell_type": "code",
      "source": [
        "for i in categorical:\n",
        "    numerical_feats.remove(i)\n",
        "\n",
        "scaler = StandardScaler()\n",
        "train[numerical_feats] = scaler.fit_transform(train[numerical_feats])\n",
        "test[numerical_feats] = scaler.transform(test[numerical_feats])"
      ],
      "metadata": {
        "id": "LhZ8x-aVSzVg"
      },
      "execution_count": null,
      "outputs": []
    },
    {
      "cell_type": "code",
      "source": [
        "train.head(2)"
      ],
      "metadata": {
        "colab": {
          "base_uri": "https://localhost:8080/",
          "height": 176
        },
        "id": "NkHi6W6cMGfV",
        "outputId": "f3f5cbb4-b6e6-4899-829a-3c58c98d75cf"
      },
      "execution_count": null,
      "outputs": [
        {
          "output_type": "execute_result",
          "data": {
            "text/html": [
              "\n",
              "  <div id=\"df-de5d88fb-795c-4ee6-9a38-89edc3a848af\">\n",
              "    <div class=\"colab-df-container\">\n",
              "      <div>\n",
              "<style scoped>\n",
              "    .dataframe tbody tr th:only-of-type {\n",
              "        vertical-align: middle;\n",
              "    }\n",
              "\n",
              "    .dataframe tbody tr th {\n",
              "        vertical-align: top;\n",
              "    }\n",
              "\n",
              "    .dataframe thead th {\n",
              "        text-align: right;\n",
              "    }\n",
              "</style>\n",
              "<table border=\"1\" class=\"dataframe\">\n",
              "  <thead>\n",
              "    <tr style=\"text-align: right;\">\n",
              "      <th></th>\n",
              "      <th>gender</th>\n",
              "      <th>car</th>\n",
              "      <th>reality</th>\n",
              "      <th>income_total</th>\n",
              "      <th>income_type</th>\n",
              "      <th>edu_type</th>\n",
              "      <th>family_type</th>\n",
              "      <th>house_type</th>\n",
              "      <th>DAYS_BIRTH</th>\n",
              "      <th>DAYS_EMPLOYED</th>\n",
              "      <th>work_phone</th>\n",
              "      <th>phone</th>\n",
              "      <th>email</th>\n",
              "      <th>occyp_type</th>\n",
              "      <th>family_size</th>\n",
              "      <th>begin_month</th>\n",
              "      <th>credit</th>\n",
              "      <th>ID</th>\n",
              "      <th>cluster</th>\n",
              "    </tr>\n",
              "  </thead>\n",
              "  <tbody>\n",
              "    <tr>\n",
              "      <th>0</th>\n",
              "      <td>0</td>\n",
              "      <td>0</td>\n",
              "      <td>0</td>\n",
              "      <td>0.379542</td>\n",
              "      <td>1</td>\n",
              "      <td>1</td>\n",
              "      <td>1</td>\n",
              "      <td>1</td>\n",
              "      <td>-0.518564</td>\n",
              "      <td>0.809389</td>\n",
              "      <td>-0.538321</td>\n",
              "      <td>-0.645632</td>\n",
              "      <td>-0.316977</td>\n",
              "      <td>1</td>\n",
              "      <td>-0.216262</td>\n",
              "      <td>-1.287742</td>\n",
              "      <td>1.0</td>\n",
              "      <td>1</td>\n",
              "      <td>0</td>\n",
              "    </tr>\n",
              "    <tr>\n",
              "      <th>1</th>\n",
              "      <td>0</td>\n",
              "      <td>0</td>\n",
              "      <td>1</td>\n",
              "      <td>0.791984</td>\n",
              "      <td>1</td>\n",
              "      <td>2</td>\n",
              "      <td>2</td>\n",
              "      <td>2</td>\n",
              "      <td>-1.249528</td>\n",
              "      <td>0.363207</td>\n",
              "      <td>-0.538321</td>\n",
              "      <td>-0.645632</td>\n",
              "      <td>3.154805</td>\n",
              "      <td>2</td>\n",
              "      <td>0.897294</td>\n",
              "      <td>-1.545753</td>\n",
              "      <td>1.0</td>\n",
              "      <td>2</td>\n",
              "      <td>0</td>\n",
              "    </tr>\n",
              "  </tbody>\n",
              "</table>\n",
              "</div>\n",
              "      <button class=\"colab-df-convert\" onclick=\"convertToInteractive('df-de5d88fb-795c-4ee6-9a38-89edc3a848af')\"\n",
              "              title=\"Convert this dataframe to an interactive table.\"\n",
              "              style=\"display:none;\">\n",
              "        \n",
              "  <svg xmlns=\"http://www.w3.org/2000/svg\" height=\"24px\"viewBox=\"0 0 24 24\"\n",
              "       width=\"24px\">\n",
              "    <path d=\"M0 0h24v24H0V0z\" fill=\"none\"/>\n",
              "    <path d=\"M18.56 5.44l.94 2.06.94-2.06 2.06-.94-2.06-.94-.94-2.06-.94 2.06-2.06.94zm-11 1L8.5 8.5l.94-2.06 2.06-.94-2.06-.94L8.5 2.5l-.94 2.06-2.06.94zm10 10l.94 2.06.94-2.06 2.06-.94-2.06-.94-.94-2.06-.94 2.06-2.06.94z\"/><path d=\"M17.41 7.96l-1.37-1.37c-.4-.4-.92-.59-1.43-.59-.52 0-1.04.2-1.43.59L10.3 9.45l-7.72 7.72c-.78.78-.78 2.05 0 2.83L4 21.41c.39.39.9.59 1.41.59.51 0 1.02-.2 1.41-.59l7.78-7.78 2.81-2.81c.8-.78.8-2.07 0-2.86zM5.41 20L4 18.59l7.72-7.72 1.47 1.35L5.41 20z\"/>\n",
              "  </svg>\n",
              "      </button>\n",
              "      \n",
              "  <style>\n",
              "    .colab-df-container {\n",
              "      display:flex;\n",
              "      flex-wrap:wrap;\n",
              "      gap: 12px;\n",
              "    }\n",
              "\n",
              "    .colab-df-convert {\n",
              "      background-color: #E8F0FE;\n",
              "      border: none;\n",
              "      border-radius: 50%;\n",
              "      cursor: pointer;\n",
              "      display: none;\n",
              "      fill: #1967D2;\n",
              "      height: 32px;\n",
              "      padding: 0 0 0 0;\n",
              "      width: 32px;\n",
              "    }\n",
              "\n",
              "    .colab-df-convert:hover {\n",
              "      background-color: #E2EBFA;\n",
              "      box-shadow: 0px 1px 2px rgba(60, 64, 67, 0.3), 0px 1px 3px 1px rgba(60, 64, 67, 0.15);\n",
              "      fill: #174EA6;\n",
              "    }\n",
              "\n",
              "    [theme=dark] .colab-df-convert {\n",
              "      background-color: #3B4455;\n",
              "      fill: #D2E3FC;\n",
              "    }\n",
              "\n",
              "    [theme=dark] .colab-df-convert:hover {\n",
              "      background-color: #434B5C;\n",
              "      box-shadow: 0px 1px 3px 1px rgba(0, 0, 0, 0.15);\n",
              "      filter: drop-shadow(0px 1px 2px rgba(0, 0, 0, 0.3));\n",
              "      fill: #FFFFFF;\n",
              "    }\n",
              "  </style>\n",
              "\n",
              "      <script>\n",
              "        const buttonEl =\n",
              "          document.querySelector('#df-de5d88fb-795c-4ee6-9a38-89edc3a848af button.colab-df-convert');\n",
              "        buttonEl.style.display =\n",
              "          google.colab.kernel.accessAllowed ? 'block' : 'none';\n",
              "\n",
              "        async function convertToInteractive(key) {\n",
              "          const element = document.querySelector('#df-de5d88fb-795c-4ee6-9a38-89edc3a848af');\n",
              "          const dataTable =\n",
              "            await google.colab.kernel.invokeFunction('convertToInteractive',\n",
              "                                                     [key], {});\n",
              "          if (!dataTable) return;\n",
              "\n",
              "          const docLinkHtml = 'Like what you see? Visit the ' +\n",
              "            '<a target=\"_blank\" href=https://colab.research.google.com/notebooks/data_table.ipynb>data table notebook</a>'\n",
              "            + ' to learn more about interactive tables.';\n",
              "          element.innerHTML = '';\n",
              "          dataTable['output_type'] = 'display_data';\n",
              "          await google.colab.output.renderOutput(dataTable, element);\n",
              "          const docLink = document.createElement('div');\n",
              "          docLink.innerHTML = docLinkHtml;\n",
              "          element.appendChild(docLink);\n",
              "        }\n",
              "      </script>\n",
              "    </div>\n",
              "  </div>\n",
              "  "
            ],
            "text/plain": [
              "   gender  car  reality  income_total  income_type  edu_type  family_type  \\\n",
              "0       0    0        0      0.379542            1         1            1   \n",
              "1       0    0        1      0.791984            1         2            2   \n",
              "\n",
              "   house_type  DAYS_BIRTH  DAYS_EMPLOYED  work_phone     phone     email  \\\n",
              "0           1   -0.518564       0.809389   -0.538321 -0.645632 -0.316977   \n",
              "1           2   -1.249528       0.363207   -0.538321 -0.645632  3.154805   \n",
              "\n",
              "   occyp_type  family_size  begin_month  credit  ID  cluster  \n",
              "0           1    -0.216262    -1.287742     1.0   1        0  \n",
              "1           2     0.897294    -1.545753     1.0   2        0  "
            ]
          },
          "metadata": {},
          "execution_count": 29
        }
      ]
    },
    {
      "cell_type": "markdown",
      "source": [
        "## CAT BOOST\n",
        "- cat_feature가 중요한 듯!\n",
        "    - cat_feature에는 categorical 변수로 이루어져야 함\n",
        "- default parameter로 진행\n",
        "    - 다음 모델에서 parmeter 튜닝해보자"
      ],
      "metadata": {
        "id": "GmL8uBMmU09M"
      }
    },
    {
      "cell_type": "code",
      "source": [
        "!pip install catboost\n",
        "!pip install category_encoders\n",
        "import numpy as np\n",
        "import pandas as pd\n",
        "import seaborn as sns\n",
        "import matplotlib.pyplot as plt\n",
        "import warnings, random\n",
        "warnings.filterwarnings(action='ignore')\n",
        "\n",
        "from sklearn.metrics import log_loss\n",
        "from sklearn.preprocessing import StandardScaler\n",
        "from category_encoders.ordinal import OrdinalEncoder\n",
        "from sklearn.model_selection import StratifiedKFold\n",
        "\n",
        "from sklearn.cluster import KMeans\n",
        "from catboost import CatBoostClassifier, Pool"
      ],
      "metadata": {
        "id": "zJ1-aN9wU9LG"
      },
      "execution_count": null,
      "outputs": []
    },
    {
      "cell_type": "code",
      "source": [
        "# one of the parameters : cat_features\n",
        "categorical_feats"
      ],
      "metadata": {
        "colab": {
          "base_uri": "https://localhost:8080/"
        },
        "outputId": "53c87b05-5a42-467a-a452-a3c5e37b4d7b",
        "id": "vO5pXYwFU9LG"
      },
      "execution_count": null,
      "outputs": [
        {
          "output_type": "execute_result",
          "data": {
            "text/plain": [
              "['income_type', 'edu_type', 'family_type', 'house_type', 'occyp_type', 'ID']"
            ]
          },
          "metadata": {},
          "execution_count": 31
        }
      ]
    },
    {
      "cell_type": "markdown",
      "source": [
        "### n_fold = 15\n",
        "- Log Loss : 0.66685"
      ],
      "metadata": {
        "id": "N3L4xLBoVH4_"
      }
    },
    {
      "cell_type": "code",
      "source": [
        "# n_fold를 돌려보고 좋은 수치를 선택\n",
        "# 15가 가장 좋은 성능을 냈다.\n",
        "n_est = 2000\n",
        "seed = 42\n",
        "n_fold = 15\n",
        "n_class = 3\n",
        "\n",
        "target = 'credit'\n",
        "X = train.drop(target, axis=1)\n",
        "y = train[target]\n",
        "X_test = test"
      ],
      "metadata": {
        "id": "5mSLRcz2VH5A"
      },
      "execution_count": null,
      "outputs": []
    },
    {
      "cell_type": "code",
      "source": [
        "skfold = StratifiedKFold(n_splits=n_fold, shuffle=True, random_state=seed)\n",
        "folds=[]\n",
        "\n",
        "for train_idx, valid_idx in skfold.split(X, y):\n",
        "    folds.append((train_idx, valid_idx))\n",
        "\n",
        "cat_pred = np.zeros((X.shape[0], n_class))\n",
        "cat_pred_test = np.zeros((X_test.shape[0], n_class))\n",
        "cat_cols = ['income_type', 'edu_type', 'family_type', 'house_type', 'occyp_type', 'ID']\n",
        "\n",
        "for fold in range(n_fold):\n",
        "    print(f'\\n----------------- Fold {fold} -----------------\\n')\n",
        "  \n",
        "    train_idx, valid_idx = folds[fold]\n",
        "    X_train, X_valid, y_train, y_valid = X.iloc[train_idx], X.iloc[valid_idx], y[train_idx], y[valid_idx]\n",
        "    train_data = Pool(data=X_train, label=y_train, cat_features=cat_cols)\n",
        "    valid_data = Pool(data=X_valid, label=y_valid, cat_features=cat_cols)\n",
        "    model_cat = CatBoostClassifier()\n",
        "    model_cat.fit(train_data, eval_set=valid_data, use_best_model=True, early_stopping_rounds=100, verbose=100)\n",
        "    \n",
        "    cat_pred[valid_idx] = model_cat.predict_proba(X_valid)\n",
        "    cat_pred_test += model_cat.predict_proba(X_test) / n_fold\n",
        "    print(f'CV Log Loss Score: {log_loss(y_valid, cat_pred[valid_idx]):.6f}')\n",
        "    \n",
        "print(f'\\tLog Loss: {log_loss(y, cat_pred):.6f}')\n",
        "\n",
        "\n"
      ],
      "metadata": {
        "colab": {
          "base_uri": "https://localhost:8080/"
        },
        "outputId": "e139de0e-db00-4682-fe15-759767e60f1f",
        "id": "lv_aFcGvVH5A"
      },
      "execution_count": null,
      "outputs": [
        {
          "output_type": "stream",
          "name": "stdout",
          "text": [
            "\n",
            "----------------- Fold 0 -----------------\n",
            "\n",
            "Learning rate set to 0.115127\n",
            "0:\tlearn: 1.0346971\ttest: 1.0334162\tbest: 1.0334162 (0)\ttotal: 171ms\tremaining: 2m 50s\n",
            "100:\tlearn: 0.7071842\ttest: 0.6418762\tbest: 0.6415440 (88)\ttotal: 13.9s\tremaining: 2m 3s\n",
            "200:\tlearn: 0.6908005\ttest: 0.6398574\tbest: 0.6396445 (189)\ttotal: 25.3s\tremaining: 1m 40s\n",
            "300:\tlearn: 0.6741861\ttest: 0.6390778\tbest: 0.6385622 (259)\ttotal: 36.6s\tremaining: 1m 24s\n",
            "Stopped by overfitting detector  (100 iterations wait)\n",
            "\n",
            "bestTest = 0.6385622087\n",
            "bestIteration = 259\n",
            "\n",
            "Shrink model to first 260 iterations.\n",
            "CV Log Loss Score: 0.638562\n",
            "\n",
            "----------------- Fold 1 -----------------\n",
            "\n",
            "Learning rate set to 0.115127\n",
            "0:\tlearn: 1.0346136\ttest: 1.0339979\tbest: 1.0339979 (0)\ttotal: 64.6ms\tremaining: 1m 4s\n",
            "100:\tlearn: 0.7065314\ttest: 0.6731358\tbest: 0.6730786 (99)\ttotal: 10.2s\tremaining: 1m 31s\n",
            "200:\tlearn: 0.6894220\ttest: 0.6716324\tbest: 0.6712088 (135)\ttotal: 21.8s\tremaining: 1m 26s\n",
            "Stopped by overfitting detector  (100 iterations wait)\n",
            "\n",
            "bestTest = 0.6712088414\n",
            "bestIteration = 135\n",
            "\n",
            "Shrink model to first 136 iterations.\n",
            "CV Log Loss Score: 0.671209\n",
            "\n",
            "----------------- Fold 2 -----------------\n",
            "\n",
            "Learning rate set to 0.115127\n",
            "0:\tlearn: 1.0378762\ttest: 1.0390984\tbest: 1.0390984 (0)\ttotal: 65.1ms\tremaining: 1m 4s\n",
            "100:\tlearn: 0.7082004\ttest: 0.6479692\tbest: 0.6479608 (93)\ttotal: 10s\tremaining: 1m 29s\n",
            "200:\tlearn: 0.6915741\ttest: 0.6466569\tbest: 0.6464155 (191)\ttotal: 21.7s\tremaining: 1m 26s\n",
            "300:\tlearn: 0.6760886\ttest: 0.6460754\tbest: 0.6452000 (246)\ttotal: 33.4s\tremaining: 1m 17s\n",
            "Stopped by overfitting detector  (100 iterations wait)\n",
            "\n",
            "bestTest = 0.6451999697\n",
            "bestIteration = 246\n",
            "\n",
            "Shrink model to first 247 iterations.\n",
            "CV Log Loss Score: 0.645200\n",
            "\n",
            "----------------- Fold 3 -----------------\n",
            "\n",
            "Learning rate set to 0.115127\n",
            "0:\tlearn: 1.0377647\ttest: 1.0395240\tbest: 1.0395240 (0)\ttotal: 66.8ms\tremaining: 1m 6s\n",
            "100:\tlearn: 0.7071002\ttest: 0.6537995\tbest: 0.6537995 (100)\ttotal: 9.95s\tremaining: 1m 28s\n",
            "200:\tlearn: 0.6881476\ttest: 0.6507607\tbest: 0.6503296 (181)\ttotal: 21.4s\tremaining: 1m 24s\n",
            "300:\tlearn: 0.6721100\ttest: 0.6475102\tbest: 0.6473777 (284)\ttotal: 33s\tremaining: 1m 16s\n",
            "400:\tlearn: 0.6579314\ttest: 0.6469208\tbest: 0.6466855 (393)\ttotal: 45.8s\tremaining: 1m 8s\n",
            "500:\tlearn: 0.6432112\ttest: 0.6460251\tbest: 0.6459343 (499)\ttotal: 57.5s\tremaining: 57.3s\n",
            "600:\tlearn: 0.6289266\ttest: 0.6463592\tbest: 0.6454183 (564)\ttotal: 1m 9s\tremaining: 46s\n",
            "Stopped by overfitting detector  (100 iterations wait)\n",
            "\n",
            "bestTest = 0.6454183334\n",
            "bestIteration = 564\n",
            "\n",
            "Shrink model to first 565 iterations.\n",
            "CV Log Loss Score: 0.645418\n",
            "\n",
            "----------------- Fold 4 -----------------\n",
            "\n",
            "Learning rate set to 0.115127\n",
            "0:\tlearn: 1.0345361\ttest: 1.0347187\tbest: 1.0347187 (0)\ttotal: 66.1ms\tremaining: 1m 6s\n",
            "100:\tlearn: 0.7054299\ttest: 0.6698640\tbest: 0.6697990 (98)\ttotal: 10.4s\tremaining: 1m 32s\n",
            "200:\tlearn: 0.6875947\ttest: 0.6657406\tbest: 0.6656284 (190)\ttotal: 21.9s\tremaining: 1m 27s\n",
            "300:\tlearn: 0.6736723\ttest: 0.6666797\tbest: 0.6655061 (203)\ttotal: 33.3s\tremaining: 1m 17s\n",
            "Stopped by overfitting detector  (100 iterations wait)\n",
            "\n",
            "bestTest = 0.6655061098\n",
            "bestIteration = 203\n",
            "\n",
            "Shrink model to first 204 iterations.\n",
            "CV Log Loss Score: 0.665506\n",
            "\n",
            "----------------- Fold 5 -----------------\n",
            "\n",
            "Learning rate set to 0.115127\n",
            "0:\tlearn: 1.0380425\ttest: 1.0378332\tbest: 1.0378332 (0)\ttotal: 64ms\tremaining: 1m 3s\n",
            "100:\tlearn: 0.7049041\ttest: 0.6765224\tbest: 0.6765224 (100)\ttotal: 9.74s\tremaining: 1m 26s\n",
            "200:\tlearn: 0.6860366\ttest: 0.6762092\tbest: 0.6760919 (105)\ttotal: 21.4s\tremaining: 1m 25s\n",
            "Stopped by overfitting detector  (100 iterations wait)\n",
            "\n",
            "bestTest = 0.6760919069\n",
            "bestIteration = 105\n",
            "\n",
            "Shrink model to first 106 iterations.\n",
            "CV Log Loss Score: 0.676092\n",
            "\n",
            "----------------- Fold 6 -----------------\n",
            "\n",
            "Learning rate set to 0.115127\n",
            "0:\tlearn: 1.0347155\ttest: 1.0332052\tbest: 1.0332052 (0)\ttotal: 42.7ms\tremaining: 42.6s\n",
            "100:\tlearn: 0.7063058\ttest: 0.6650960\tbest: 0.6649749 (99)\ttotal: 10.1s\tremaining: 1m 29s\n",
            "200:\tlearn: 0.6885770\ttest: 0.6611986\tbest: 0.6611986 (200)\ttotal: 22.4s\tremaining: 1m 28s\n",
            "300:\tlearn: 0.6734637\ttest: 0.6609220\tbest: 0.6604920 (285)\ttotal: 33.4s\tremaining: 1m 17s\n",
            "400:\tlearn: 0.6571311\ttest: 0.6607684\tbest: 0.6599836 (364)\ttotal: 45.1s\tremaining: 1m 7s\n",
            "500:\tlearn: 0.6413684\ttest: 0.6603726\tbest: 0.6597188 (477)\ttotal: 57.1s\tremaining: 56.9s\n",
            "Stopped by overfitting detector  (100 iterations wait)\n",
            "\n",
            "bestTest = 0.6597187909\n",
            "bestIteration = 477\n",
            "\n",
            "Shrink model to first 478 iterations.\n",
            "CV Log Loss Score: 0.659719\n",
            "\n",
            "----------------- Fold 7 -----------------\n",
            "\n",
            "Learning rate set to 0.115127\n",
            "0:\tlearn: 1.0344668\ttest: 1.0351583\tbest: 1.0351583 (0)\ttotal: 44.6ms\tremaining: 44.6s\n",
            "100:\tlearn: 0.7066801\ttest: 0.6778369\tbest: 0.6778369 (100)\ttotal: 9.96s\tremaining: 1m 28s\n",
            "200:\tlearn: 0.6887852\ttest: 0.6736243\tbest: 0.6736243 (200)\ttotal: 21.3s\tremaining: 1m 24s\n",
            "300:\tlearn: 0.6741190\ttest: 0.6741840\tbest: 0.6732574 (228)\ttotal: 32.6s\tremaining: 1m 15s\n",
            "Stopped by overfitting detector  (100 iterations wait)\n",
            "\n",
            "bestTest = 0.6732574436\n",
            "bestIteration = 228\n",
            "\n",
            "Shrink model to first 229 iterations.\n",
            "CV Log Loss Score: 0.673257\n",
            "\n",
            "----------------- Fold 8 -----------------\n",
            "\n",
            "Learning rate set to 0.115127\n",
            "0:\tlearn: 1.0343974\ttest: 1.0356491\tbest: 1.0356491 (0)\ttotal: 42.3ms\tremaining: 42.2s\n",
            "100:\tlearn: 0.7049664\ttest: 0.6798714\tbest: 0.6798714 (100)\ttotal: 9.66s\tremaining: 1m 25s\n",
            "200:\tlearn: 0.6863202\ttest: 0.6785227\tbest: 0.6781919 (139)\ttotal: 21.1s\tremaining: 1m 23s\n",
            "Stopped by overfitting detector  (100 iterations wait)\n",
            "\n",
            "bestTest = 0.6781918773\n",
            "bestIteration = 139\n",
            "\n",
            "Shrink model to first 140 iterations.\n",
            "CV Log Loss Score: 0.678192\n",
            "\n",
            "----------------- Fold 9 -----------------\n",
            "\n",
            "Learning rate set to 0.115127\n",
            "0:\tlearn: 1.0345402\ttest: 1.0346574\tbest: 1.0346574 (0)\ttotal: 42.8ms\tremaining: 42.7s\n",
            "100:\tlearn: 0.7067144\ttest: 0.6547860\tbest: 0.6547860 (100)\ttotal: 9.85s\tremaining: 1m 27s\n",
            "200:\tlearn: 0.6889454\ttest: 0.6548856\tbest: 0.6531124 (139)\ttotal: 21.2s\tremaining: 1m 24s\n",
            "Stopped by overfitting detector  (100 iterations wait)\n",
            "\n",
            "bestTest = 0.6531123821\n",
            "bestIteration = 139\n",
            "\n",
            "Shrink model to first 140 iterations.\n",
            "CV Log Loss Score: 0.653112\n",
            "\n",
            "----------------- Fold 10 -----------------\n",
            "\n",
            "Learning rate set to 0.115127\n",
            "0:\tlearn: 1.0344992\ttest: 1.0349098\tbest: 1.0349098 (0)\ttotal: 54.4ms\tremaining: 54.3s\n",
            "100:\tlearn: 0.7058483\ttest: 0.6651489\tbest: 0.6651489 (100)\ttotal: 9.69s\tremaining: 1m 26s\n",
            "200:\tlearn: 0.6880623\ttest: 0.6645006\tbest: 0.6639202 (155)\ttotal: 21.2s\tremaining: 1m 24s\n",
            "300:\tlearn: 0.6719198\ttest: 0.6638162\tbest: 0.6632103 (268)\ttotal: 32.7s\tremaining: 1m 15s\n",
            "Stopped by overfitting detector  (100 iterations wait)\n",
            "\n",
            "bestTest = 0.6632103264\n",
            "bestIteration = 268\n",
            "\n",
            "Shrink model to first 269 iterations.\n",
            "CV Log Loss Score: 0.663210\n",
            "\n",
            "----------------- Fold 11 -----------------\n",
            "\n",
            "Learning rate set to 0.115127\n",
            "0:\tlearn: 1.0344858\ttest: 1.0349390\tbest: 1.0349390 (0)\ttotal: 62.4ms\tremaining: 1m 2s\n",
            "100:\tlearn: 0.7055821\ttest: 0.6921094\tbest: 0.6921094 (100)\ttotal: 10s\tremaining: 1m 29s\n",
            "200:\tlearn: 0.6905393\ttest: 0.6926898\tbest: 0.6917867 (124)\ttotal: 21.1s\tremaining: 1m 24s\n",
            "Stopped by overfitting detector  (100 iterations wait)\n",
            "\n",
            "bestTest = 0.6917867366\n",
            "bestIteration = 124\n",
            "\n",
            "Shrink model to first 125 iterations.\n",
            "CV Log Loss Score: 0.691787\n",
            "\n",
            "----------------- Fold 12 -----------------\n",
            "\n",
            "Learning rate set to 0.115127\n",
            "0:\tlearn: 1.0343901\ttest: 1.0357459\tbest: 1.0357459 (0)\ttotal: 42.5ms\tremaining: 42.4s\n",
            "100:\tlearn: 0.7069216\ttest: 0.6582744\tbest: 0.6582744 (100)\ttotal: 9.96s\tremaining: 1m 28s\n",
            "200:\tlearn: 0.6897987\ttest: 0.6554600\tbest: 0.6553526 (198)\ttotal: 21s\tremaining: 1m 23s\n",
            "300:\tlearn: 0.6759040\ttest: 0.6546868\tbest: 0.6544947 (295)\ttotal: 32.3s\tremaining: 1m 15s\n",
            "Stopped by overfitting detector  (100 iterations wait)\n",
            "\n",
            "bestTest = 0.6544946862\n",
            "bestIteration = 295\n",
            "\n",
            "Shrink model to first 296 iterations.\n",
            "CV Log Loss Score: 0.654495\n",
            "\n",
            "----------------- Fold 13 -----------------\n",
            "\n",
            "Learning rate set to 0.115127\n",
            "0:\tlearn: 1.0347707\ttest: 1.0327801\tbest: 1.0327801 (0)\ttotal: 63.2ms\tremaining: 1m 3s\n",
            "100:\tlearn: 0.7047317\ttest: 0.6822964\tbest: 0.6820494 (82)\ttotal: 9.7s\tremaining: 1m 26s\n",
            "200:\tlearn: 0.6880935\ttest: 0.6817978\tbest: 0.6813276 (147)\ttotal: 21.4s\tremaining: 1m 25s\n",
            "Stopped by overfitting detector  (100 iterations wait)\n",
            "\n",
            "bestTest = 0.681327617\n",
            "bestIteration = 147\n",
            "\n",
            "Shrink model to first 148 iterations.\n",
            "CV Log Loss Score: 0.681328\n",
            "\n",
            "----------------- Fold 14 -----------------\n",
            "\n",
            "Learning rate set to 0.115127\n",
            "0:\tlearn: 1.0346109\ttest: 1.0340100\tbest: 1.0340100 (0)\ttotal: 46.4ms\tremaining: 46.3s\n",
            "100:\tlearn: 0.7072648\ttest: 0.6726098\tbest: 0.6726098 (100)\ttotal: 9.46s\tremaining: 1m 24s\n",
            "200:\tlearn: 0.6905922\ttest: 0.6692008\tbest: 0.6691967 (194)\ttotal: 20.8s\tremaining: 1m 22s\n",
            "300:\tlearn: 0.6737781\ttest: 0.6691795\tbest: 0.6685038 (227)\ttotal: 32.4s\tremaining: 1m 15s\n",
            "400:\tlearn: 0.6583218\ttest: 0.6684088\tbest: 0.6682934 (382)\ttotal: 44s\tremaining: 1m 5s\n",
            "Stopped by overfitting detector  (100 iterations wait)\n",
            "\n",
            "bestTest = 0.668293388\n",
            "bestIteration = 382\n",
            "\n",
            "Shrink model to first 383 iterations.\n",
            "CV Log Loss Score: 0.668293\n",
            "\tLog Loss: 0.664357\n"
          ]
        }
      ]
    },
    {
      "cell_type": "markdown",
      "source": [
        "#### Feature Importance"
      ],
      "metadata": {
        "id": "2g6Q9fsWVH5A"
      }
    },
    {
      "cell_type": "code",
      "source": [
        "def plot_feature_importance(importance,names,model_type):\n",
        "    \n",
        "    feature_importance = np.array(importance)\n",
        "    feature_names = np.array(names)\n",
        "    \n",
        "    data={'feature_names':feature_names,'feature_importance':feature_importance}\n",
        "    fi_df = pd.DataFrame(data)\n",
        "    \n",
        "    fi_df.sort_values(by=['feature_importance'], ascending=False,inplace=True)\n",
        "\n",
        "    plt.figure(figsize=(10,8))\n",
        "\n",
        "    sns.barplot(x=fi_df['feature_importance'], y=fi_df['feature_names'])\n",
        "\n",
        "    plt.title(model_type + ' Feature Importance')\n",
        "    plt.xlabel('Feature Importance')\n",
        "    plt.ylabel('Feature Names')"
      ],
      "metadata": {
        "id": "orUHIsciVH5A"
      },
      "execution_count": null,
      "outputs": []
    },
    {
      "cell_type": "code",
      "source": [
        "plot_feature_importance(model_cat.get_feature_importance(),X_test.columns,'CATBOOST')"
      ],
      "metadata": {
        "colab": {
          "base_uri": "https://localhost:8080/",
          "height": 513
        },
        "outputId": "037870b3-697a-483e-9c9b-e5b93689c3b9",
        "id": "-oD2C6ZbVH5B"
      },
      "execution_count": null,
      "outputs": [
        {
          "output_type": "display_data",
          "data": {
            "image/png": "[encoded data removed]",
            "text/plain": [
              "<Figure size 720x576 with 1 Axes>"
            ]
          },
          "metadata": {
            "needs_background": "light"
          }
        }
      ]
    },
    {
      "cell_type": "markdown",
      "source": [
        "# feature_set_2 평가\n",
        "- 모델링-1\n",
        "    - 타겟 변수의 자료 불균형을 해소하고자 샘플링을 결정했다.\n",
        "    - 하지만 샘플링의 효과는 과대적합을 불러왔다.\n",
        "- 모델링-2\n",
        "    - 샘플링을 진행하지 않아서 과대적합의 문제를 해결했다.\n",
        "    - Default Parmeter도 좋은 성능을 낸다.\n",
        "    - 다음 feature set에서는 numerical & categorical feature를 부각시킨 다음 비교해보자\n",
        "    - Public 0.66685점, 14등\n",
        "- ID 변수 생성\n",
        "    - ID 변수란 train 데이터에서 변수(자녀 수, 가족 수, 나이, 근무 일 등등)들이 중복되는 자료가 몇몇 보여서 생성한 변수이다.\n",
        "    - 모든 모델링에서 ID 변수의 중요도가 높게 측정되었다.\n",
        "    - 하지만 완전히 새로운 자료가 주어진다면 판단 확률은 높지 않을 것이라 예상한다."
      ],
      "metadata": {
        "id": "YtoMNgbdpzBU"
      }
    },
    {
      "cell_type": "markdown",
      "source": [
        "# Submission"
      ],
      "metadata": {
        "id": "6ut3QjyRn-AK"
      }
    },
    {
      "cell_type": "code",
      "source": [
        "sub = pd.read_csv('/content/drive/MyDrive/data/credit/rawData/sample_submission.csv')"
      ],
      "metadata": {
        "id": "GwWbw-ddnx3_"
      },
      "execution_count": null,
      "outputs": []
    },
    {
      "cell_type": "code",
      "source": [
        "sub.iloc[:, 1:] = cat_pred_test"
      ],
      "metadata": {
        "id": "wS8Ba-ukoum8"
      },
      "execution_count": null,
      "outputs": []
    },
    {
      "cell_type": "code",
      "source": [
        "sub"
      ],
      "metadata": {
        "colab": {
          "base_uri": "https://localhost:8080/",
          "height": 423
        },
        "id": "hd-suhl-o7EV",
        "outputId": "e5522f9b-acdf-4060-817c-8c9e58a0fa85"
      },
      "execution_count": null,
      "outputs": [
        {
          "output_type": "execute_result",
          "data": {
            "text/html": [
              "\n",
              "  <div id=\"df-ca253400-6e23-4517-b59d-fc58115133c0\">\n",
              "    <div class=\"colab-df-container\">\n",
              "      <div>\n",
              "<style scoped>\n",
              "    .dataframe tbody tr th:only-of-type {\n",
              "        vertical-align: middle;\n",
              "    }\n",
              "\n",
              "    .dataframe tbody tr th {\n",
              "        vertical-align: top;\n",
              "    }\n",
              "\n",
              "    .dataframe thead th {\n",
              "        text-align: right;\n",
              "    }\n",
              "</style>\n",
              "<table border=\"1\" class=\"dataframe\">\n",
              "  <thead>\n",
              "    <tr style=\"text-align: right;\">\n",
              "      <th></th>\n",
              "      <th>index</th>\n",
              "      <th>0</th>\n",
              "      <th>1</th>\n",
              "      <th>2</th>\n",
              "    </tr>\n",
              "  </thead>\n",
              "  <tbody>\n",
              "    <tr>\n",
              "      <th>0</th>\n",
              "      <td>26457</td>\n",
              "      <td>0.118312</td>\n",
              "      <td>0.169057</td>\n",
              "      <td>0.712632</td>\n",
              "    </tr>\n",
              "    <tr>\n",
              "      <th>1</th>\n",
              "      <td>26458</td>\n",
              "      <td>0.349234</td>\n",
              "      <td>0.230024</td>\n",
              "      <td>0.420741</td>\n",
              "    </tr>\n",
              "    <tr>\n",
              "      <th>2</th>\n",
              "      <td>26459</td>\n",
              "      <td>0.035505</td>\n",
              "      <td>0.071770</td>\n",
              "      <td>0.892725</td>\n",
              "    </tr>\n",
              "    <tr>\n",
              "      <th>3</th>\n",
              "      <td>26460</td>\n",
              "      <td>0.054222</td>\n",
              "      <td>0.076360</td>\n",
              "      <td>0.869418</td>\n",
              "    </tr>\n",
              "    <tr>\n",
              "      <th>4</th>\n",
              "      <td>26461</td>\n",
              "      <td>0.082895</td>\n",
              "      <td>0.223916</td>\n",
              "      <td>0.693189</td>\n",
              "    </tr>\n",
              "    <tr>\n",
              "      <th>...</th>\n",
              "      <td>...</td>\n",
              "      <td>...</td>\n",
              "      <td>...</td>\n",
              "      <td>...</td>\n",
              "    </tr>\n",
              "    <tr>\n",
              "      <th>9995</th>\n",
              "      <td>36452</td>\n",
              "      <td>0.075798</td>\n",
              "      <td>0.236220</td>\n",
              "      <td>0.687983</td>\n",
              "    </tr>\n",
              "    <tr>\n",
              "      <th>9996</th>\n",
              "      <td>36453</td>\n",
              "      <td>0.345406</td>\n",
              "      <td>0.184089</td>\n",
              "      <td>0.470505</td>\n",
              "    </tr>\n",
              "    <tr>\n",
              "      <th>9997</th>\n",
              "      <td>36454</td>\n",
              "      <td>0.049072</td>\n",
              "      <td>0.116586</td>\n",
              "      <td>0.834343</td>\n",
              "    </tr>\n",
              "    <tr>\n",
              "      <th>9998</th>\n",
              "      <td>36455</td>\n",
              "      <td>0.142140</td>\n",
              "      <td>0.310481</td>\n",
              "      <td>0.547379</td>\n",
              "    </tr>\n",
              "    <tr>\n",
              "      <th>9999</th>\n",
              "      <td>36456</td>\n",
              "      <td>0.067496</td>\n",
              "      <td>0.456623</td>\n",
              "      <td>0.475881</td>\n",
              "    </tr>\n",
              "  </tbody>\n",
              "</table>\n",
              "<p>10000 rows × 4 columns</p>\n",
              "</div>\n",
              "      <button class=\"colab-df-convert\" onclick=\"convertToInteractive('df-ca253400-6e23-4517-b59d-fc58115133c0')\"\n",
              "              title=\"Convert this dataframe to an interactive table.\"\n",
              "              style=\"display:none;\">\n",
              "        \n",
              "  <svg xmlns=\"http://www.w3.org/2000/svg\" height=\"24px\"viewBox=\"0 0 24 24\"\n",
              "       width=\"24px\">\n",
              "    <path d=\"M0 0h24v24H0V0z\" fill=\"none\"/>\n",
              "    <path d=\"M18.56 5.44l.94 2.06.94-2.06 2.06-.94-2.06-.94-.94-2.06-.94 2.06-2.06.94zm-11 1L8.5 8.5l.94-2.06 2.06-.94-2.06-.94L8.5 2.5l-.94 2.06-2.06.94zm10 10l.94 2.06.94-2.06 2.06-.94-2.06-.94-.94-2.06-.94 2.06-2.06.94z\"/><path d=\"M17.41 7.96l-1.37-1.37c-.4-.4-.92-.59-1.43-.59-.52 0-1.04.2-1.43.59L10.3 9.45l-7.72 7.72c-.78.78-.78 2.05 0 2.83L4 21.41c.39.39.9.59 1.41.59.51 0 1.02-.2 1.41-.59l7.78-7.78 2.81-2.81c.8-.78.8-2.07 0-2.86zM5.41 20L4 18.59l7.72-7.72 1.47 1.35L5.41 20z\"/>\n",
              "  </svg>\n",
              "      </button>\n",
              "      \n",
              "  <style>\n",
              "    .colab-df-container {\n",
              "      display:flex;\n",
              "      flex-wrap:wrap;\n",
              "      gap: 12px;\n",
              "    }\n",
              "\n",
              "    .colab-df-convert {\n",
              "      background-color: #E8F0FE;\n",
              "      border: none;\n",
              "      border-radius: 50%;\n",
              "      cursor: pointer;\n",
              "      display: none;\n",
              "      fill: #1967D2;\n",
              "      height: 32px;\n",
              "      padding: 0 0 0 0;\n",
              "      width: 32px;\n",
              "    }\n",
              "\n",
              "    .colab-df-convert:hover {\n",
              "      background-color: #E2EBFA;\n",
              "      box-shadow: 0px 1px 2px rgba(60, 64, 67, 0.3), 0px 1px 3px 1px rgba(60, 64, 67, 0.15);\n",
              "      fill: #174EA6;\n",
              "    }\n",
              "\n",
              "    [theme=dark] .colab-df-convert {\n",
              "      background-color: #3B4455;\n",
              "      fill: #D2E3FC;\n",
              "    }\n",
              "\n",
              "    [theme=dark] .colab-df-convert:hover {\n",
              "      background-color: #434B5C;\n",
              "      box-shadow: 0px 1px 3px 1px rgba(0, 0, 0, 0.15);\n",
              "      filter: drop-shadow(0px 1px 2px rgba(0, 0, 0, 0.3));\n",
              "      fill: #FFFFFF;\n",
              "    }\n",
              "  </style>\n",
              "\n",
              "      <script>\n",
              "        const buttonEl =\n",
              "          document.querySelector('#df-ca253400-6e23-4517-b59d-fc58115133c0 button.colab-df-convert');\n",
              "        buttonEl.style.display =\n",
              "          google.colab.kernel.accessAllowed ? 'block' : 'none';\n",
              "\n",
              "        async function convertToInteractive(key) {\n",
              "          const element = document.querySelector('#df-ca253400-6e23-4517-b59d-fc58115133c0');\n",
              "          const dataTable =\n",
              "            await google.colab.kernel.invokeFunction('convertToInteractive',\n",
              "                                                     [key], {});\n",
              "          if (!dataTable) return;\n",
              "\n",
              "          const docLinkHtml = 'Like what you see? Visit the ' +\n",
              "            '<a target=\"_blank\" href=https://colab.research.google.com/notebooks/data_table.ipynb>data table notebook</a>'\n",
              "            + ' to learn more about interactive tables.';\n",
              "          element.innerHTML = '';\n",
              "          dataTable['output_type'] = 'display_data';\n",
              "          await google.colab.output.renderOutput(dataTable, element);\n",
              "          const docLink = document.createElement('div');\n",
              "          docLink.innerHTML = docLinkHtml;\n",
              "          element.appendChild(docLink);\n",
              "        }\n",
              "      </script>\n",
              "    </div>\n",
              "  </div>\n",
              "  "
            ],
            "text/plain": [
              "      index         0         1         2\n",
              "0     26457  0.118312  0.169057  0.712632\n",
              "1     26458  0.349234  0.230024  0.420741\n",
              "2     26459  0.035505  0.071770  0.892725\n",
              "3     26460  0.054222  0.076360  0.869418\n",
              "4     26461  0.082895  0.223916  0.693189\n",
              "...     ...       ...       ...       ...\n",
              "9995  36452  0.075798  0.236220  0.687983\n",
              "9996  36453  0.345406  0.184089  0.470505\n",
              "9997  36454  0.049072  0.116586  0.834343\n",
              "9998  36455  0.142140  0.310481  0.547379\n",
              "9999  36456  0.067496  0.456623  0.475881\n",
              "\n",
              "[10000 rows x 4 columns]"
            ]
          },
          "metadata": {},
          "execution_count": 31
        }
      ]
    },
    {
      "cell_type": "code",
      "source": [
        "sub.to_csv('/content/drive/MyDrive/data/credit/submission/submission_version_2_M4_nfold_20.csv', index=False)"
      ],
      "metadata": {
        "id": "2WjZHy5lo9eT"
      },
      "execution_count": null,
      "outputs": []
    }
  ],
  "metadata": {
    "accelerator": "TPU",
    "colab": {
      "name": "Feature_Set_2.ipynb",
      "provenance": [],
      "collapsed_sections": [
        "iUNLI9rbuuHJ"
      ],
      "mount_file_id": "1Bge0uPLQQ8QWXnd1HtKKlPoastv5hPIi",
      "authorship_tag": "ABX9TyPXE60rA+GBnx1dUqihWqbG",
      "include_colab_link": true
    },
    "kernelspec": {
      "display_name": "Python 3",
      "name": "python3"
    },
    "language_info": {
      "name": "python"
    }
  },
  "nbformat": 4,
  "nbformat_minor": 0
}